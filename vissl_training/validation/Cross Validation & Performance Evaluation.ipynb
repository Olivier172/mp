{
 "cells": [
  {
   "cell_type": "markdown",
   "id": "d3265130",
   "metadata": {},
   "source": [
    "# Cross Validation & Performance Evaluation"
   ]
  },
  {
   "cell_type": "code",
   "execution_count": 1,
   "id": "c99d1b09",
   "metadata": {},
   "outputs": [],
   "source": [
    "import torch\n",
    "import numpy as np\n",
    "import sklearn\n",
    "import matplotlib.pyplot as plt  \n",
    "import json\n",
    "from pathlib import Path"
   ]
  },
  {
   "cell_type": "code",
   "execution_count": 2,
   "id": "6571b4fc",
   "metadata": {},
   "outputs": [],
   "source": [
    "%matplotlib inline"
   ]
  },
  {
   "cell_type": "markdown",
   "id": "9dfdffe4",
   "metadata": {},
   "source": [
    "## Collecting data"
   ]
  },
  {
   "cell_type": "code",
   "execution_count": 3,
   "id": "3c71b054",
   "metadata": {},
   "outputs": [
    {
     "name": "stdout",
     "output_type": "stream",
     "text": [
      "blacklist.txt\t\t    moco32_phase25   rotnet_phase50\r\n",
      "class_occurences.json\t    moco32_phase50   rotnet_phase75\r\n",
      "gallery_paths_relative.txt  moco32_phase75   simclr\r\n",
      "gallery_paths.txt\t    moco64\t     simclr_phase0\r\n",
      "imgnet_pretrained\t    moco64_phase0    simclr_phase25\r\n",
      "jigsaw\t\t\t    moco64_phase25   simclr_phase50\r\n",
      "jigsaw_phase0\t\t    moco64_phase50   simclr_phase75\r\n",
      "jigsaw_phase100\t\t    moco64_phase75   strict_train_test.json\r\n",
      "jigsaw_phase25\t\t    random\t     total_cross_val_log_svm.txt\r\n",
      "jigsaw_phase50\t\t    rotnet\t     total_gallery_mAP_scores_log.txt\r\n",
      "jigsaw_phase75\t\t    rotnet_phase0    total_perf_eval_log_svm.txt\r\n",
      "moco32\t\t\t    rotnet_phase100\r\n",
      "moco32_phase0\t\t    rotnet_phase25\r\n"
     ]
    }
   ],
   "source": [
    "#Models that are available for testing:\n",
    "!ls data/"
   ]
  },
  {
   "cell_type": "code",
   "execution_count": 5,
   "id": "9a84d89f",
   "metadata": {},
   "outputs": [
    {
     "name": "stdout",
     "output_type": "stream",
     "text": [
      "Data for model moco64 succesfully read.\n",
      "embedding_gallery size: torch.Size([1643, 2048])\n",
      "embedding_gallery_norm size: torch.Size([1643, 2048])\n",
      "labels length: 1643\n"
     ]
    }
   ],
   "source": [
    "#options rotnet, jigsaw, simclr, moco32, imgnet_pretrained\n",
    "model_name = \"moco64\" #<----------Specifiy model here!\n",
    "\n",
    "dir = Path(\"data/\" + model_name)\n",
    "\n",
    "embedding_gallery = torch.load(dir / \"embedding_gallery.torch\")\n",
    "embedding_gallery_norm = torch.load(dir / \"embedding_gallery_norm.torch\")\n",
    "labels = list()\n",
    "with open(dir / \"embedding_gallery_labels.txt\", \"r\") as f:\n",
    "    labels = f.read().splitlines()\n",
    "print(f\"Data for model {model_name} succesfully read.\\nembedding_gallery size: {embedding_gallery.shape}\\\n",
    "\\nembedding_gallery_norm size: {embedding_gallery_norm.shape}\\nlabels length: {len(labels)}\")"
   ]
  },
  {
   "cell_type": "code",
   "execution_count": 6,
   "id": "34586afb",
   "metadata": {},
   "outputs": [
    {
     "name": "stdout",
     "output_type": "stream",
     "text": [
      "embedding_gallery size: (1643, 2048) and type <class 'numpy.ndarray'>\n",
      "embedding_gallery_norm size: (1643, 2048) and type <class 'numpy.ndarray'>\n",
      "Labels with size (1643,) and type <class 'numpy.ndarray'>\n"
     ]
    }
   ],
   "source": [
    "#Convert to numpy arrays:\n",
    "embedding_gallery = embedding_gallery.numpy()\n",
    "embedding_gallery_norm = embedding_gallery_norm.numpy()\n",
    "labels = np.array(labels)\n",
    "print(f\"embedding_gallery size: {embedding_gallery.shape} and type {type(embedding_gallery)}\\\n",
    "\\nembedding_gallery_norm size: {embedding_gallery_norm.shape} and type {type(embedding_gallery_norm)}\\\n",
    "\\nLabels with size {labels.shape} and type {type(labels)}\")"
   ]
  },
  {
   "cell_type": "markdown",
   "id": "9f31c8c0",
   "metadata": {},
   "source": [
    "## Modelling"
   ]
  },
  {
   "cell_type": "code",
   "execution_count": 7,
   "id": "e183256d",
   "metadata": {},
   "outputs": [],
   "source": [
    "from sklearn.svm import SVC\n",
    "from sklearn.neural_network import MLPClassifier\n",
    "from sklearn.neighbors import KNeighborsClassifier\n",
    "from sklearn.tree import DecisionTreeClassifier\n",
    "from sklearn.model_selection import train_test_split"
   ]
  },
  {
   "cell_type": "markdown",
   "id": "2bc94144",
   "metadata": {},
   "source": [
    "Let's test the performance of a support vector machine (SVM) and a multi layer perceptron (MLP) on the entire data:"
   ]
  },
  {
   "cell_type": "code",
   "execution_count": 14,
   "id": "a0abfdff",
   "metadata": {},
   "outputs": [],
   "source": [
    "#Create SVM estimator \n",
    "svm_overfit = SVC(kernel=\"poly\")"
   ]
  },
  {
   "cell_type": "code",
   "execution_count": 15,
   "id": "ec450eb3",
   "metadata": {},
   "outputs": [],
   "source": [
    "#Create MLP estimator\n",
    "mlp_overfit = MLPClassifier(\n",
    "    hidden_layer_sizes=(256, 64),\n",
    "    solver='lbfgs',\n",
    "    max_iter=10_000\n",
    ")"
   ]
  },
  {
   "cell_type": "code",
   "execution_count": 8,
   "id": "753bf709",
   "metadata": {},
   "outputs": [],
   "source": [
    "#the dat to train/fit on \n",
    "data = embedding_gallery_norm.copy()\n",
    "#labels are already in a numpy array called \"labels\""
   ]
  },
  {
   "cell_type": "markdown",
   "id": "7afd682f",
   "metadata": {},
   "source": [
    "Training/fitting on the data and labels:"
   ]
  },
  {
   "cell_type": "code",
   "execution_count": 17,
   "id": "27a7affe",
   "metadata": {},
   "outputs": [
    {
     "data": {
      "text/plain": [
       "SVC(kernel='poly')"
      ]
     },
     "execution_count": 17,
     "metadata": {},
     "output_type": "execute_result"
    }
   ],
   "source": [
    "#train SVM\n",
    "svm_overfit.fit(data, labels)"
   ]
  },
  {
   "cell_type": "code",
   "execution_count": 18,
   "id": "13d02059",
   "metadata": {},
   "outputs": [
    {
     "data": {
      "text/plain": [
       "MLPClassifier(hidden_layer_sizes=(256, 64), max_iter=10000, solver='lbfgs')"
      ]
     },
     "execution_count": 18,
     "metadata": {},
     "output_type": "execute_result"
    }
   ],
   "source": [
    "#train MLP\n",
    "mlp_overfit.fit(data, labels)"
   ]
  },
  {
   "cell_type": "markdown",
   "id": "49be5903",
   "metadata": {},
   "source": [
    "Evaluate on the same data (this is overfitting, but should yield high results and verify that the data is correct)"
   ]
  },
  {
   "cell_type": "code",
   "execution_count": 19,
   "id": "a820e0b3",
   "metadata": {},
   "outputs": [
    {
     "name": "stdout",
     "output_type": "stream",
     "text": [
      "Accuracy svm: 99.9%\n",
      "\n"
     ]
    }
   ],
   "source": [
    "#evaluate SVM\n",
    "accuracy = svm_overfit.score(data, labels) \n",
    "print(f\"Accuracy svm: {accuracy*100:.1f}%\\n\")"
   ]
  },
  {
   "cell_type": "code",
   "execution_count": 20,
   "id": "3da3dfcc",
   "metadata": {},
   "outputs": [
    {
     "name": "stdout",
     "output_type": "stream",
     "text": [
      "Accuracy mlp: 100.0%\n",
      "\n"
     ]
    }
   ],
   "source": [
    "#evaluate MLP\n",
    "accuracy = mlp_overfit.score(data, labels) \n",
    "print(f\"Accuracy mlp: {accuracy*100:.1f}%\\n\")"
   ]
  },
  {
   "cell_type": "markdown",
   "id": "f56fb2dc",
   "metadata": {},
   "source": [
    "## cross validation"
   ]
  },
  {
   "cell_type": "code",
   "execution_count": 9,
   "id": "077b0525",
   "metadata": {},
   "outputs": [],
   "source": [
    "from sklearn.model_selection import cross_val_score\n",
    "from sklearn.model_selection import KFold, StratifiedKFold, ShuffleSplit, StratifiedShuffleSplit"
   ]
  },
  {
   "cell_type": "code",
   "execution_count": 10,
   "id": "b0d6a82e",
   "metadata": {},
   "outputs": [],
   "source": [
    "def cross_validate(classifier, fold, data, labels):\n",
    "    \"\"\"\n",
    "    Performs a cross validation for the classifier with a train test split\n",
    "    according to fold generator.\n",
    "    \n",
    "    Args:\n",
    "        classifier: the classifier to cross validate.\n",
    "        fold: the generator to use for train-test splits.\n",
    "        data: the embedding gallery to train/test on.\n",
    "        labels: the ground truth labels per row for the gallery.\n",
    "        \n",
    "    Returns:\n",
    "        The mean accuracy score from the cross validation rounds and\n",
    "        the standard deviation of the scores.\n",
    "    \"\"\"\n",
    "    #cross validation generator\n",
    "    cv = fold.split(data, y=labels)\n",
    "\n",
    "    #calc cross validation\n",
    "    scores = cross_val_score(\n",
    "        classifier,   #the estimator/classifier\n",
    "        data,         #data \n",
    "        y=labels,     #targets\n",
    "        cv=cv         #generator for array indicis in data that select a certain split out of \"data\"\n",
    "    )\n",
    "    print(scores)\n",
    "    accuracy = scores.mean()\n",
    "    std = scores.std()\n",
    "    return accuracy, std"
   ]
  },
  {
   "cell_type": "markdown",
   "id": "a21caf16",
   "metadata": {},
   "source": [
    "Now let's create an svm and mlp that we don't overfit. We will test it's ability to generalize by performing cross validation."
   ]
  },
  {
   "cell_type": "code",
   "execution_count": 23,
   "id": "3bff2ab9",
   "metadata": {},
   "outputs": [],
   "source": [
    "#Create SVM estimator \n",
    "svm_cross = SVC(kernel=\"poly\")"
   ]
  },
  {
   "cell_type": "code",
   "execution_count": 9,
   "id": "f50f86d4",
   "metadata": {},
   "outputs": [],
   "source": [
    "#Create MLP estimator\n",
    "mlp_cross = MLPClassifier(\n",
    "    hidden_layer_sizes=(128, 64),\n",
    "    solver='lbfgs',\n",
    "    max_iter=10_000\n",
    ")"
   ]
  },
  {
   "cell_type": "markdown",
   "id": "61993edb",
   "metadata": {},
   "source": [
    "Create cross validation generators for train-test splits:"
   ]
  },
  {
   "cell_type": "code",
   "execution_count": 25,
   "id": "4f039e50",
   "metadata": {},
   "outputs": [
    {
     "name": "stdout",
     "output_type": "stream",
     "text": [
      "Generator/iterator used: KFold\n",
      "Fold 0:\n",
      "  Train: index[:5] [329 330 331 332 333] with shape(1314,)\n",
      "  Test:  index[:5] [0 1 2 3 4] with shape(329,)\n",
      "Fold 1:\n",
      "  Train: index[:5] [0 1 2 3 4] with shape(1314,)\n",
      "  Test:  index[:5] [329 330 331 332 333] with shape(329,)\n",
      "Fold 2:\n",
      "  Train: index[:5] [0 1 2 3 4] with shape(1314,)\n",
      "  Test:  index[:5] [658 659 660 661 662] with shape(329,)\n",
      "Fold 3:\n",
      "  Train: index[:5] [0 1 2 3 4] with shape(1315,)\n",
      "  Test:  index[:5] [987 988 989 990 991] with shape(328,)\n",
      "Fold 4:\n",
      "  Train: index[:5] [0 1 2 3 4] with shape(1315,)\n",
      "  Test:  index[:5] [1315 1316 1317 1318 1319] with shape(328,)\n",
      "\n",
      "Generator/iterator used: StratifiedKFold\n",
      "Fold 0:\n",
      "  Train: index[:5] [1 2 3 5 6] with shape(1314,)\n",
      "  Test:  index[:5] [ 0  4  8 11 20] with shape(329,)\n",
      "Fold 1:\n",
      "  Train: index[:5] [0 2 3 4 6] with shape(1314,)\n",
      "  Test:  index[:5] [ 1  5 12 16 22] with shape(329,)\n",
      "Fold 2:\n",
      "  Train: index[:5] [0 1 3 4 5] with shape(1314,)\n",
      "  Test:  index[:5] [ 2  6 13 17 23] with shape(329,)\n",
      "Fold 3:\n",
      "  Train: index[:5] [0 1 2 4 5] with shape(1315,)\n",
      "  Test:  index[:5] [ 3  9 14 18 24] with shape(328,)\n",
      "Fold 4:\n",
      "  Train: index[:5] [0 1 2 3 4] with shape(1315,)\n",
      "  Test:  index[:5] [ 7 10 15 19 25] with shape(328,)\n",
      "\n",
      "Generator/iterator used: ShuffleSplit\n",
      "Fold 0:\n",
      "  Train: index[:5] [1157  651  289  864  823] with shape(1314,)\n",
      "  Test:  index[:5] [1573 1249 1226 1566  657] with shape(329,)\n",
      "Fold 1:\n",
      "  Train: index[:5] [ 675  572  334  948 1034] with shape(1314,)\n",
      "  Test:  index[:5] [1184 1399  583 1081  742] with shape(329,)\n",
      "Fold 2:\n",
      "  Train: index[:5] [1432   63  129  686  428] with shape(1314,)\n",
      "  Test:  index[:5] [1171    4  769  413  324] with shape(329,)\n",
      "Fold 3:\n",
      "  Train: index[:5] [1248  528 1535  757 1398] with shape(1314,)\n",
      "  Test:  index[:5] [ 119  521 1307  538   98] with shape(329,)\n",
      "Fold 4:\n",
      "  Train: index[:5] [1423 1377  543  402  835] with shape(1314,)\n",
      "  Test:  index[:5] [ 488 1400  604  725  234] with shape(329,)\n",
      "\n"
     ]
    },
    {
     "name": "stderr",
     "output_type": "stream",
     "text": [
      "/home/olivier/Documents/master/mp/.venv/lib/python3.8/site-packages/sklearn/model_selection/_split.py:666: UserWarning: The least populated class in y has only 1 members, which is less than n_splits=5.\n",
      "  warnings.warn((\"The least populated class in y has only %d\"\n"
     ]
    }
   ],
   "source": [
    "iterators = { \n",
    "    \"KFold\" : KFold(n_splits=5), \n",
    "    \"StratifiedKFold\" : StratifiedKFold(n_splits=5), \n",
    "    \"ShuffleSplit\" : ShuffleSplit(n_splits=5, test_size=0.2, random_state=0)\n",
    "}\n",
    "\n",
    "for k in iterators.keys():\n",
    "    print(f\"Generator/iterator used: {k}\")\n",
    "    iterator = iterators[k]\n",
    "    for i, (train_index, test_index) in enumerate(iterator.split(data, y=labels)):\n",
    "        print(f\"Fold {i}:\")\n",
    "        print(f\"  Train: index[:5] {train_index[:5]} with shape{train_index.shape}\")\n",
    "        print(f\"  Test:  index[:5] {test_index[:5]} with shape{test_index.shape}\")\n",
    "    print()"
   ]
  },
  {
   "cell_type": "code",
   "execution_count": 26,
   "id": "7f88c4d1",
   "metadata": {},
   "outputs": [],
   "source": [
    "#Create KFold generator\n",
    "#5 folds with 1/5 test data and 4/5 training data to cross validate\n",
    "kf = KFold(n_splits=5)"
   ]
  },
  {
   "cell_type": "code",
   "execution_count": 10,
   "id": "91d5ded8",
   "metadata": {},
   "outputs": [],
   "source": [
    "#Create StratifiedKFold generator\n",
    "#5 folds with 1/5 test data and 4/5 training data to cross validate. \n",
    "#The folds have equal class distribution in this case\n",
    "skf = StratifiedKFold(n_splits=5)"
   ]
  },
  {
   "cell_type": "code",
   "execution_count": 28,
   "id": "93e57e4a",
   "metadata": {},
   "outputs": [],
   "source": [
    "#Create ShuffleSplit generator\n",
    "#samples are shuffled and then split up in a test and train set\n",
    "ss = ShuffleSplit(n_splits=5, test_size=0.2, random_state=0)"
   ]
  },
  {
   "cell_type": "markdown",
   "id": "38333d77",
   "metadata": {},
   "source": [
    "Perform the cross validations on svm and mlp"
   ]
  },
  {
   "cell_type": "markdown",
   "id": "a5822376",
   "metadata": {},
   "source": [
    "### SVM cross validation"
   ]
  },
  {
   "cell_type": "code",
   "execution_count": 30,
   "id": "56756c07",
   "metadata": {},
   "outputs": [
    {
     "name": "stdout",
     "output_type": "stream",
     "text": [
      "[0.         0.         0.01823708 0.01829268 0.        ]\n",
      "Support Vector Machine (SVM) with KFold:\n",
      "Accuracy: 0.7% \n",
      "std_dev: 0.008947945740517962\n",
      "\n"
     ]
    }
   ],
   "source": [
    "#with KFold\n",
    "accuracy, std = cross_validate(svm_cross, kf, data, labels)\n",
    "print(f\"Support Vector Machine (SVM) with KFold:\\nAccuracy: {accuracy*100:.1f}% \\nstd_dev: {std}\\n\")"
   ]
  },
  {
   "cell_type": "code",
   "execution_count": 31,
   "id": "de979f0e",
   "metadata": {},
   "outputs": [
    {
     "name": "stderr",
     "output_type": "stream",
     "text": [
      "/home/olivier/Documents/master/mp/.venv/lib/python3.8/site-packages/sklearn/model_selection/_split.py:666: UserWarning: The least populated class in y has only 1 members, which is less than n_splits=5.\n",
      "  warnings.warn((\"The least populated class in y has only %d\"\n"
     ]
    },
    {
     "name": "stdout",
     "output_type": "stream",
     "text": [
      "[0.68085106 0.68389058 0.65957447 0.69817073 0.66158537]\n",
      "Support Vector Machine (SVM) with StratifiedKFold:\n",
      "Accuracy: 67.7% \n",
      "std_dev: 0.014502403803775064\n",
      "\n"
     ]
    }
   ],
   "source": [
    "#with StratifiedKFold\n",
    "accuracy, std = cross_validate(svm_cross, skf, data, labels)\n",
    "print(f\"Support Vector Machine (SVM) with StratifiedKFold:\\nAccuracy: {accuracy*100:.1f}% \\nstd_dev: {std}\\n\")"
   ]
  },
  {
   "cell_type": "code",
   "execution_count": 32,
   "id": "7dd0995e",
   "metadata": {},
   "outputs": [
    {
     "name": "stdout",
     "output_type": "stream",
     "text": [
      "[0.63829787 0.59878419 0.66869301 0.61702128 0.66261398]\n",
      "Support Vector Machine (SVM) with ShuffleSplit:\n",
      "Accuracy: 63.7% \n",
      "std_dev: 0.026539671675310714\n",
      "\n"
     ]
    }
   ],
   "source": [
    "#with ShuffleSplit\n",
    "accuracy, std = cross_validate(svm_cross, ss, data, labels)\n",
    "print(f\"Support Vector Machine (SVM) with ShuffleSplit:\\nAccuracy: {accuracy*100:.1f}% \\nstd_dev: {std}\\n\")"
   ]
  },
  {
   "cell_type": "markdown",
   "id": "95b825ce",
   "metadata": {},
   "source": [
    "### MLP cross validation"
   ]
  },
  {
   "cell_type": "code",
   "execution_count": 33,
   "id": "e0570c0c",
   "metadata": {},
   "outputs": [
    {
     "name": "stdout",
     "output_type": "stream",
     "text": [
      "[0.         0.         0.01519757 0.01829268 0.00609756]\n",
      "Multi Layer Perceptron (MLP) with KFold:\n",
      "Accuracy: 0.8% \n",
      "std_dev: 0.007606965321960141\n",
      "\n"
     ]
    }
   ],
   "source": [
    "#with KFold\n",
    "accuracy, std = cross_validate(mlp_cross, kf, data, labels)\n",
    "print(f\"Multi Layer Perceptron (MLP) with KFold:\\nAccuracy: {accuracy*100:.1f}% \\nstd_dev: {std}\\n\")"
   ]
  },
  {
   "cell_type": "code",
   "execution_count": 13,
   "id": "7c51ec16",
   "metadata": {},
   "outputs": [
    {
     "name": "stderr",
     "output_type": "stream",
     "text": [
      "/home/olivier/Documents/master/mp/.venv/lib/python3.8/site-packages/sklearn/model_selection/_split.py:666: UserWarning: The least populated class in y has only 1 members, which is less than n_splits=5.\n",
      "  warnings.warn((\"The least populated class in y has only %d\"\n"
     ]
    },
    {
     "name": "stdout",
     "output_type": "stream",
     "text": [
      "[0.53495441 0.49240122 0.50151976 0.54573171 0.52439024]\n",
      "Multi Layer Perceptron (MLP) with StratifiedKFold:\n",
      "Accuracy: 52.0% \n",
      "std_dev: 0.020040162214226016\n",
      "\n"
     ]
    }
   ],
   "source": [
    "#with StratifiedKFold\n",
    "accuracy, std = cross_validate(mlp_cross, skf, data, labels)\n",
    "print(f\"Multi Layer Perceptron (MLP) with StratifiedKFold:\\nAccuracy: {accuracy*100:.1f}% \\nstd_dev: {std}\\n\")"
   ]
  },
  {
   "cell_type": "code",
   "execution_count": 35,
   "id": "f76a8335",
   "metadata": {},
   "outputs": [
    {
     "name": "stdout",
     "output_type": "stream",
     "text": [
      "[0.49544073 0.43465046 0.46808511 0.44984802 0.49848024]\n",
      "Multi Layer Perceptron (MLP) with ShuffleSplit:\n",
      "Accuracy: 46.9% \n",
      "std_dev: 0.024961051875559654\n",
      "\n"
     ]
    }
   ],
   "source": [
    "#with ShuffleSplit\n",
    "accuracy, std = cross_validate(mlp_cross, ss, data, labels)\n",
    "print(f\"Multi Layer Perceptron (MLP) with ShuffleSplit:\\nAccuracy: {accuracy*100:.1f}% \\nstd_dev: {std}\\n\")"
   ]
  },
  {
   "cell_type": "markdown",
   "id": "cfddfbc0",
   "metadata": {},
   "source": [
    "## Performance Assessment \n",
    "In this section we will do the final test.\n",
    "- Split up the data from cornershop in train (80%) and test (20%) data.\n",
    "- Cross validate on the training set.\n",
    "- Fit on the training set.\n",
    "- Test on the testing set."
   ]
  },
  {
   "cell_type": "code",
   "execution_count": 11,
   "id": "ab9b2310",
   "metadata": {},
   "outputs": [],
   "source": [
    "from sklearn.metrics import confusion_matrix"
   ]
  },
  {
   "cell_type": "code",
   "execution_count": 12,
   "id": "64fdbbcd",
   "metadata": {},
   "outputs": [],
   "source": [
    "def eval_performance(classifier, train_set, train_labels, test_set, test_labels):\n",
    "    \"\"\"\n",
    "    Evaluate performance for the given estimator/classifier.\n",
    "    Performance is measured by:\n",
    "        -Training on the train_set and train_labels\n",
    "        -Measuring accuracy for classification on the test_set with the test_labels\n",
    "        -Calculate a confusion matrix\n",
    "    \n",
    "    Args:\n",
    "        classifier : the classifier to evaluate.\n",
    "        train_set (np.ndarray): the data to train on.\n",
    "        train_labels (np.ndarray): ground truth for training data.\n",
    "        test_set (np.ndarray): the data to test on.\n",
    "        test_labels (np.ndarray): ground truth for testing data.\n",
    "        \n",
    "    Returns:\n",
    "        accuracy : accuracy score from predictions on test set.\n",
    "        cm: The confusion matrix.\n",
    "    \"\"\"\n",
    "    #train on training set\n",
    "    classifier.fit(train_set, train_labels) #retrain on training set\n",
    "    \n",
    "    #Calculate accuracy\n",
    "    accuracy = classifier.score(test_set, test_labels) #calc acc score on testing set\n",
    "    \n",
    "    #Calculate confusion matrix\n",
    "    y_true = test_labels.copy() #Ground truth\n",
    "    y_pred = classifier.predict(test_set) #Predictions made by classifier\n",
    "    proba = classifier.predict_proba(test_set)\n",
    "    cls = classifier.classes_\n",
    "    print(f\"shape proba is {proba.shape}\\n examples {proba[:4]}\")\n",
    "    print(f\"sgapr classes {cls.shape}, examples {cls[:4]}\")\n",
    "    print(f\"shape test is {test_set.shape}\\n examples {test_set[:4]}\")\n",
    "    print(f\"amount of classes in test set {len(np.unique(test_labels))}\\n\")\n",
    "    print(f\"shape y_pred is {y_pred.shape}\\n examples {y_pred[:4]}\")\n",
    "    #compute confusion matrix\n",
    "    cm = confusion_matrix(y_true=y_true, y_pred=y_pred)\n",
    "    #predicted class is the column nr, ground truth is the row nr\n",
    "    #correct classifications can be found on the diagonal\n",
    "\n",
    "    return accuracy, cm"
   ]
  },
  {
   "cell_type": "markdown",
   "id": "734298c7",
   "metadata": {},
   "source": [
    "### Train test split"
   ]
  },
  {
   "cell_type": "code",
   "execution_count": 13,
   "id": "7a1440ea",
   "metadata": {},
   "outputs": [],
   "source": [
    "train_set, test_set, train_labels, test_labels= train_test_split(\n",
    "    data,          #data\n",
    "    labels,        #targets\n",
    "    test_size=0.2, #20% test set, 80% train set\n",
    "    random_state=0 #for reproducable results of the random shuffling\n",
    ")"
   ]
  },
  {
   "cell_type": "code",
   "execution_count": 14,
   "id": "dbdc85da",
   "metadata": {
    "scrolled": true
   },
   "outputs": [
    {
     "name": "stdout",
     "output_type": "stream",
     "text": [
      "train set\n",
      "[[0.0000000e+00 2.7361902e-04 7.7595622e-03 ... 2.1438068e-03\n",
      "  2.5144813e-04 7.6001310e-03]\n",
      " [1.9973461e-04 0.0000000e+00 0.0000000e+00 ... 1.1563284e-03\n",
      "  2.9495624e-05 1.7721315e-03]\n",
      " [0.0000000e+00 3.9069530e-02 6.1618048e-03 ... 2.7245482e-02\n",
      "  4.5345982e-06 1.0573921e-03]\n",
      " [3.0629247e-04 4.1899788e-03 6.3482468e-04 ... 1.3226266e-02\n",
      "  0.0000000e+00 1.2904644e-03]\n",
      " [0.0000000e+00 3.7859593e-02 4.6287957e-03 ... 2.2931259e-02\n",
      "  0.0000000e+00 2.4286965e-02]] \n",
      "\n",
      "train_labels \n",
      "['MayTeaFramboos1L' 'MonsterPipelinePunch500ml' 'AquariusOrangeFles'\n",
      " 'MonsterUltra' 'PepsiMax']\n"
     ]
    }
   ],
   "source": [
    "#our training set looks like this\n",
    "print(f\"train set\\n{train_set[:5]} \\n\\ntrain_labels \\n{train_labels[:5]}\")"
   ]
  },
  {
   "cell_type": "code",
   "execution_count": 15,
   "id": "2fabcc1e",
   "metadata": {},
   "outputs": [
    {
     "name": "stdout",
     "output_type": "stream",
     "text": [
      "test set\n",
      "[[0.         0.00618856 0.00811327 ... 0.01014707 0.00010826 0.01076958]\n",
      " [0.         0.01138464 0.01278724 ... 0.01439012 0.00010775 0.00108106]\n",
      " [0.         0.00894091 0.00302992 ... 0.01870816 0.         0.0043574 ]\n",
      " [0.00028309 0.01736233 0.0098097  ... 0.00242132 0.00014352 0.00211152]\n",
      " [0.         0.00975204 0.01961743 ... 0.00342917 0.00076789 0.01030275]] \n",
      "\n",
      "test_labels \n",
      "['InnocentOrangeWithBits' 'CapriSun' 'MonsterPunchEnergy500ml'\n",
      " 'NaluOriginal6x350ml' 'StellaBlik50cl']\n"
     ]
    }
   ],
   "source": [
    "#our test set looks like this\n",
    "print(f\"test set\\n{test_set[:5]} \\n\\ntest_labels \\n{test_labels[:5]}\")"
   ]
  },
  {
   "cell_type": "code",
   "execution_count": 16,
   "id": "7a0cc700",
   "metadata": {},
   "outputs": [
    {
     "name": "stdout",
     "output_type": "stream",
     "text": [
      "Size of the training set 1314\n",
      "The training set contains 79.97565429093122% of the data\n",
      "\n",
      "Size of the test set 329\n",
      "The test set contains 20.02434570906878% of the data\n"
     ]
    }
   ],
   "source": [
    "#Proportion of training data\n",
    "prop_train = (len(train_set)/ len(embedding_gallery_norm) ) * 100\n",
    "#Proportion of testing data\n",
    "prop_test = (len(test_set)/ len(embedding_gallery_norm) ) * 100\n",
    "print(f\"Size of the training set {len(train_set)}\\nThe training set contains {prop_train}% of the data\\n\")\n",
    "print(f\"Size of the test set {len(test_set)}\\nThe test set contains {prop_test}% of the data\")"
   ]
  },
  {
   "cell_type": "markdown",
   "id": "af39785d",
   "metadata": {},
   "source": [
    "### Cross validation on the training set"
   ]
  },
  {
   "cell_type": "markdown",
   "id": "78382816",
   "metadata": {},
   "source": [
    "#### Support Vector Machine (SVM)"
   ]
  },
  {
   "cell_type": "code",
   "execution_count": 120,
   "id": "5e50873b",
   "metadata": {},
   "outputs": [],
   "source": [
    "#Create SVM estimator \n",
    "svm_test = SVC(kernel=\"poly\", probability=True)"
   ]
  },
  {
   "cell_type": "code",
   "execution_count": 121,
   "id": "718ee4fd",
   "metadata": {},
   "outputs": [],
   "source": [
    "#Create StratifiedKFold generator\n",
    "#5 folds with 1/5 test data and 4/5 training data to cross validate. \n",
    "#The folds have equal class distribution in this case\n",
    "skf = StratifiedKFold(n_splits=5)"
   ]
  },
  {
   "cell_type": "code",
   "execution_count": 122,
   "id": "2b90f1cb",
   "metadata": {},
   "outputs": [
    {
     "name": "stderr",
     "output_type": "stream",
     "text": [
      "/home/olivier/Documents/master/mp/.venv/lib/python3.8/site-packages/sklearn/model_selection/_split.py:666: UserWarning: The least populated class in y has only 1 members, which is less than n_splits=5.\n",
      "  warnings.warn((\"The least populated class in y has only %d\"\n"
     ]
    },
    {
     "name": "stdout",
     "output_type": "stream",
     "text": [
      "[0.58174905 0.65019011 0.61977186 0.62737643 0.63358779]\n",
      "Support Vector Machine (SVM) with StratifiedKFold:\n",
      "Accuracy: 62.3% \n",
      "std_dev: 0.02272240089381588\n",
      "\n"
     ]
    }
   ],
   "source": [
    "#Perform the cross validation\n",
    "accuracy, std = cross_validate(svm_test, skf, train_set, train_labels)\n",
    "print(f\"Support Vector Machine (SVM) with StratifiedKFold:\\nAccuracy: {accuracy*100:.1f}% \\nstd_dev: {std}\\n\")"
   ]
  },
  {
   "cell_type": "markdown",
   "id": "3d8165f7",
   "metadata": {},
   "source": [
    "#### Multi Layer Perceptron (MLP)"
   ]
  },
  {
   "cell_type": "code",
   "execution_count": 21,
   "id": "5081b5d7",
   "metadata": {},
   "outputs": [],
   "source": [
    "#Create MLP estimator\n",
    "mlp_test = MLPClassifier(\n",
    "    hidden_layer_sizes=(128, 64),\n",
    "    solver='lbfgs',\n",
    "    max_iter=10_000,\n",
    "    alpha=0.1\n",
    ")"
   ]
  },
  {
   "cell_type": "code",
   "execution_count": 18,
   "id": "88848b1d",
   "metadata": {},
   "outputs": [],
   "source": [
    "#Create StratifiedKFold generator\n",
    "#5 folds with 1/5 test data and 4/5 training data to cross validate. \n",
    "#The folds have equal class distribution in this case\n",
    "skf = StratifiedKFold(n_splits=5)"
   ]
  },
  {
   "cell_type": "code",
   "execution_count": 22,
   "id": "65d9984b",
   "metadata": {},
   "outputs": [
    {
     "name": "stderr",
     "output_type": "stream",
     "text": [
      "/home/olivier/Documents/master/mp/.venv/lib/python3.8/site-packages/sklearn/model_selection/_split.py:666: UserWarning: The least populated class in y has only 1 members, which is less than n_splits=5.\n",
      "  warnings.warn((\"The least populated class in y has only %d\"\n"
     ]
    },
    {
     "name": "stdout",
     "output_type": "stream",
     "text": [
      "[0.54372624 0.59695817 0.60076046 0.60076046 0.53053435]\n",
      "Multi Layer Perceptron (MLP) with StratifiedKFold:\n",
      "Accuracy: 57.5% \n",
      "std_dev: 0.03086611120499231\n",
      "\n"
     ]
    },
    {
     "name": "stderr",
     "output_type": "stream",
     "text": [
      "/home/olivier/Documents/master/mp/.venv/lib/python3.8/site-packages/sklearn/model_selection/_split.py:666: UserWarning: The least populated class in y has only 1 members, which is less than n_splits=5.\n",
      "  warnings.warn((\"The least populated class in y has only %d\"\n"
     ]
    },
    {
     "name": "stdout",
     "output_type": "stream",
     "text": [
      "[0.57794677 0.58935361 0.60076046 0.57034221 0.5648855 ]\n",
      "Multi Layer Perceptron (MLP) with StratifiedKFold:\n",
      "Accuracy: 58.1% \n",
      "std_dev: 0.012978911309258278\n",
      "\n"
     ]
    },
    {
     "name": "stderr",
     "output_type": "stream",
     "text": [
      "/home/olivier/Documents/master/mp/.venv/lib/python3.8/site-packages/sklearn/model_selection/_split.py:666: UserWarning: The least populated class in y has only 1 members, which is less than n_splits=5.\n",
      "  warnings.warn((\"The least populated class in y has only %d\"\n"
     ]
    },
    {
     "name": "stdout",
     "output_type": "stream",
     "text": [
      "[0.56653992 0.60456274 0.60836502 0.58935361 0.54961832]\n",
      "Multi Layer Perceptron (MLP) with StratifiedKFold:\n",
      "Accuracy: 58.4% \n",
      "std_dev: 0.02250159401417453\n",
      "\n"
     ]
    },
    {
     "name": "stderr",
     "output_type": "stream",
     "text": [
      "/home/olivier/Documents/master/mp/.venv/lib/python3.8/site-packages/sklearn/model_selection/_split.py:666: UserWarning: The least populated class in y has only 1 members, which is less than n_splits=5.\n",
      "  warnings.warn((\"The least populated class in y has only %d\"\n"
     ]
    },
    {
     "name": "stdout",
     "output_type": "stream",
     "text": [
      "[0.5513308  0.59315589 0.60076046 0.59315589 0.59160305]\n",
      "Multi Layer Perceptron (MLP) with StratifiedKFold:\n",
      "Accuracy: 58.6% \n",
      "std_dev: 0.017627435596105707\n",
      "\n"
     ]
    },
    {
     "name": "stderr",
     "output_type": "stream",
     "text": [
      "/home/olivier/Documents/master/mp/.venv/lib/python3.8/site-packages/sklearn/model_selection/_split.py:666: UserWarning: The least populated class in y has only 1 members, which is less than n_splits=5.\n",
      "  warnings.warn((\"The least populated class in y has only %d\"\n"
     ]
    },
    {
     "name": "stdout",
     "output_type": "stream",
     "text": [
      "[0.54752852 0.60836502 0.57414449 0.58174905 0.59541985]\n",
      "Multi Layer Perceptron (MLP) with StratifiedKFold:\n",
      "Accuracy: 58.1% \n",
      "std_dev: 0.020609228361426868\n",
      "\n"
     ]
    },
    {
     "name": "stderr",
     "output_type": "stream",
     "text": [
      "/home/olivier/Documents/master/mp/.venv/lib/python3.8/site-packages/sklearn/model_selection/_split.py:666: UserWarning: The least populated class in y has only 1 members, which is less than n_splits=5.\n",
      "  warnings.warn((\"The least populated class in y has only %d\"\n"
     ]
    },
    {
     "name": "stdout",
     "output_type": "stream",
     "text": [
      "[0.52471483 0.55893536 0.58174905 0.56273764 0.5648855 ]\n",
      "Multi Layer Perceptron (MLP) with StratifiedKFold:\n",
      "Accuracy: 55.9% \n",
      "std_dev: 0.01865917053663516\n",
      "\n"
     ]
    },
    {
     "name": "stderr",
     "output_type": "stream",
     "text": [
      "/home/olivier/Documents/master/mp/.venv/lib/python3.8/site-packages/sklearn/model_selection/_split.py:666: UserWarning: The least populated class in y has only 1 members, which is less than n_splits=5.\n",
      "  warnings.warn((\"The least populated class in y has only %d\"\n"
     ]
    },
    {
     "name": "stdout",
     "output_type": "stream",
     "text": [
      "[0.55513308 0.60456274 0.58935361 0.56273764 0.54961832]\n",
      "Multi Layer Perceptron (MLP) with StratifiedKFold:\n",
      "Accuracy: 57.2% \n",
      "std_dev: 0.021129640530752572\n",
      "\n"
     ]
    },
    {
     "name": "stderr",
     "output_type": "stream",
     "text": [
      "/home/olivier/Documents/master/mp/.venv/lib/python3.8/site-packages/sklearn/model_selection/_split.py:666: UserWarning: The least populated class in y has only 1 members, which is less than n_splits=5.\n",
      "  warnings.warn((\"The least populated class in y has only %d\"\n"
     ]
    },
    {
     "name": "stdout",
     "output_type": "stream",
     "text": [
      "[0.5513308  0.59695817 0.59315589 0.55893536 0.58015267]\n",
      "Multi Layer Perceptron (MLP) with StratifiedKFold:\n",
      "Accuracy: 57.6% \n",
      "std_dev: 0.018168814298701402\n",
      "\n",
      "4min 2s ± 7.83 s per loop (mean ± std. dev. of 7 runs, 1 loop each)\n"
     ]
    }
   ],
   "source": [
    "%%timeit\n",
    "#Perform the cross validation\n",
    "accuracy, std = cross_validate(mlp_test, skf, train_set, train_labels)\n",
    "print(f\"Multi Layer Perceptron (MLP) with StratifiedKFold:\\nAccuracy: {accuracy*100:.1f}% \\nstd_dev: {std}\\n\")"
   ]
  },
  {
   "cell_type": "markdown",
   "id": "5e21f1c1",
   "metadata": {},
   "source": [
    "### Testing on the test set"
   ]
  },
  {
   "cell_type": "markdown",
   "id": "32386a85",
   "metadata": {},
   "source": [
    "#### Suport Vector Machine (SVM)"
   ]
  },
  {
   "cell_type": "code",
   "execution_count": 134,
   "id": "8bb3283e",
   "metadata": {
    "scrolled": true
   },
   "outputs": [
    {
     "name": "stdout",
     "output_type": "stream",
     "text": [
      "shape proba is (329, 384)\n",
      " examples [[0.00376352 0.00046783 0.00797592 ... 0.00160062 0.00225195 0.00304922]\n",
      " [0.00303699 0.00033909 0.01090303 ... 0.00249465 0.00233734 0.00343747]\n",
      " [0.00169179 0.00045987 0.0063473  ... 0.0043278  0.00242541 0.00285054]\n",
      " [0.00261415 0.00041635 0.00864764 ... 0.00185096 0.00236703 0.00343135]]\n",
      "sgapr classes (384,), examples ['7upFree' '7upLemon' '7upMojito' 'AADrink']\n",
      "shape test is (329, 2048)\n",
      " examples [[0.0005955  0.00680962 0.05895904 ... 0.00571111 0.00180996 0.02855435]\n",
      " [0.00060103 0.00371083 0.035034   ... 0.00371111 0.00138724 0.        ]\n",
      " [0.00717704 0.04115137 0.00825775 ... 0.00291343 0.00351391 0.00569196]\n",
      " [0.00124589 0.00510044 0.0362666  ... 0.03395296 0.00128892 0.02288807]]\n",
      "amount of classes in test set 194\n",
      "\n",
      "shape y_pred is (329,)\n",
      " examples ['InnocentOrangeWithBits' 'CapriSun' 'MonsterPunchEnergy500ml'\n",
      " 'NaluOriginal6x350ml']\n",
      "Support Vector Machine (SVM):\n",
      "Accuracy: 63.8% \n",
      "confusion_matrix: \n",
      "[[0 0 0 ... 0 0 0]\n",
      " [0 1 0 ... 0 0 0]\n",
      " [0 0 0 ... 0 0 0]\n",
      " ...\n",
      " [0 0 0 ... 0 0 0]\n",
      " [0 0 0 ... 0 2 0]\n",
      " [0 0 0 ... 0 0 1]]\n",
      "\n"
     ]
    }
   ],
   "source": [
    "accuracy, cm = eval_performance(svm_test, train_set, train_labels, test_set, test_labels)\n",
    "print(f\"Support Vector Machine (SVM):\\nAccuracy: {accuracy*100:.1f}% \\nconfusion_matrix: \\n{cm}\\n\")"
   ]
  },
  {
   "cell_type": "markdown",
   "id": "70b15537",
   "metadata": {},
   "source": [
    "#### Multi Layer Perceptron (MLP)"
   ]
  },
  {
   "cell_type": "code",
   "execution_count": null,
   "id": "00b011d2",
   "metadata": {
    "scrolled": true
   },
   "outputs": [
    {
     "name": "stdout",
     "output_type": "stream",
     "text": [
      "shape proba is (329, 384)\n",
      " examples [[7.89423565e-05 2.87347009e-07 4.69833880e-12 ... 1.55035757e-13\n",
      "  1.71351969e-14 1.18219417e-11]\n",
      " [1.09718316e-10 1.20309037e-07 1.27144019e-08 ... 2.19668313e-11\n",
      "  2.37252982e-21 1.19713828e-17]\n",
      " [1.58632116e-17 2.24579559e-08 4.86802066e-13 ... 2.26099602e-05\n",
      "  6.94517900e-16 1.35828389e-13]\n",
      " [6.12791201e-11 1.61751705e-04 5.37198075e-08 ... 2.80452422e-13\n",
      "  4.95513172e-14 3.36867347e-11]]\n",
      "sgapr classes (384,), examples ['7upFree' '7upLemon' '7upMojito' 'AADrink']\n",
      "shape test is (329, 2048)\n",
      " examples [[0.         0.00618856 0.00811327 ... 0.01014707 0.00010826 0.01076958]\n",
      " [0.         0.01138464 0.01278724 ... 0.01439012 0.00010775 0.00108106]\n",
      " [0.         0.00894091 0.00302992 ... 0.01870816 0.         0.0043574 ]\n",
      " [0.00028309 0.01736233 0.0098097  ... 0.00242132 0.00014352 0.00211152]]\n",
      "amount of classes in test set 194\n",
      "\n",
      "shape y_pred is (329,)\n",
      " examples ['InnocentOrangeWithBits' 'CapriSun' 'MonsterPunchEnergy500ml'\n",
      " 'LeffeBlond50cl']\n",
      "Multi Layer Perceptron:\n",
      "Accuracy: 61.4% \n",
      "confusion_matrix: \n",
      "[[0 0 0 ... 0 0 0]\n",
      " [0 0 0 ... 0 0 0]\n",
      " [0 0 0 ... 0 0 0]\n",
      " ...\n",
      " [0 0 0 ... 0 0 0]\n",
      " [0 0 0 ... 0 2 0]\n",
      " [0 0 0 ... 0 0 1]]\n",
      "\n",
      "shape proba is (329, 384)\n",
      " examples [[1.85734382e-05 3.59400114e-07 4.48743714e-13 ... 1.60100089e-13\n",
      "  2.08072072e-13 6.58779863e-12]\n",
      " [3.51227882e-09 4.63590755e-08 1.46106496e-06 ... 1.06591402e-10\n",
      "  3.11354795e-18 9.74766246e-18]\n",
      " [5.22850817e-17 3.89665404e-07 1.49809426e-13 ... 2.40614714e-06\n",
      "  1.42381402e-12 5.26371828e-11]\n",
      " [3.51951829e-09 8.90775361e-05 1.64077270e-07 ... 1.04917164e-11\n",
      "  3.70510698e-14 1.34273485e-12]]\n",
      "sgapr classes (384,), examples ['7upFree' '7upLemon' '7upMojito' 'AADrink']\n",
      "shape test is (329, 2048)\n",
      " examples [[0.         0.00618856 0.00811327 ... 0.01014707 0.00010826 0.01076958]\n",
      " [0.         0.01138464 0.01278724 ... 0.01439012 0.00010775 0.00108106]\n",
      " [0.         0.00894091 0.00302992 ... 0.01870816 0.         0.0043574 ]\n",
      " [0.00028309 0.01736233 0.0098097  ... 0.00242132 0.00014352 0.00211152]]\n",
      "amount of classes in test set 194\n",
      "\n",
      "shape y_pred is (329,)\n",
      " examples ['InnocentOrangeWithBits' 'CapriSun' 'CocaColaZeroFles500ml'\n",
      " 'JupilerBlik6x35,5cl']\n",
      "Multi Layer Perceptron:\n",
      "Accuracy: 61.1% \n",
      "confusion_matrix: \n",
      "[[0 0 0 ... 0 0 0]\n",
      " [0 0 0 ... 0 0 0]\n",
      " [0 0 0 ... 0 0 0]\n",
      " ...\n",
      " [0 0 0 ... 0 0 0]\n",
      " [0 0 0 ... 0 2 0]\n",
      " [0 0 0 ... 0 0 1]]\n",
      "\n"
     ]
    }
   ],
   "source": [
    "%%timeit\n",
    "accuracy, cm = eval_performance(mlp_test, train_set, train_labels, test_set, test_labels)\n",
    "print(f\"Multi Layer Perceptron:\\nAccuracy: {accuracy*100:.1f}% \\nconfusion_matrix: \\n{cm}\\n\")"
   ]
  },
  {
   "cell_type": "markdown",
   "id": "d7379133",
   "metadata": {},
   "source": [
    "## Strict Peformance Assessment \n",
    "In this section we will do the final test with a sticter test set.\n",
    "This means that every embedding in the test set is from a different origin image than every embedding from the same class in the train set.\n",
    "- Collect the split from a json file which aims to achieve a 80/20 train/test split.\n",
    "- Cross validate on the strict training set.\n",
    "- Fit on the strict training set.\n",
    "- Test on the strict testing set."
   ]
  },
  {
   "cell_type": "markdown",
   "id": "4243d3a1",
   "metadata": {},
   "source": [
    "### Train test split"
   ]
  },
  {
   "cell_type": "code",
   "execution_count": 77,
   "id": "9947a6bd",
   "metadata": {},
   "outputs": [
    {
     "name": "stdout",
     "output_type": "stream",
     "text": [
      "Amount of classes that can be used for strict testing: 187 / 406\n"
     ]
    }
   ],
   "source": [
    "json_file = Path(\"data/strict_train_test.json\")\n",
    "# Read the JSON file\n",
    "with open(json_file, \"r\") as file:\n",
    "    json_data = file.read()\n",
    "\n",
    "# Convert JSON to dictionary\n",
    "strict_train_test = json.loads(json_data)\n",
    "\n",
    "# Access the dictionary\n",
    "print(f\"Amount of classes that can be used for strict testing: {len(strict_train_test.keys())} / {len(np.unique(labels))}\")"
   ]
  },
  {
   "cell_type": "markdown",
   "id": "5e9b26cb",
   "metadata": {},
   "source": [
    "Lets set up the strict test and train set <br>\n",
    "We have a copy of embedding gallery norm in `data` and the corresponding labels are in the variable `labels`. <br>\n",
    "We have the indicis of embeddings in the gallery already determined in the json file, let's apply them to get our train and test set:"
   ]
  },
  {
   "cell_type": "code",
   "execution_count": 79,
   "id": "9129272f",
   "metadata": {},
   "outputs": [],
   "source": [
    "train_set_strict = []\n",
    "train_labels_strict = [] \n",
    "test_set_strict = []\n",
    "test_labels_strict = []\n",
    "for cls in strict_train_test.keys():\n",
    "    #Collect train queries\n",
    "    train_queries = strict_train_test[cls][\"train\"]\n",
    "    for query in train_queries:\n",
    "        idx = query[\"gallery_idx\"]\n",
    "        train_query = data[idx]\n",
    "        train_label = labels[idx]\n",
    "        train_set_strict.append(train_query)\n",
    "        train_labels_strict.append(train_label)\n",
    "    \n",
    "    #Collect test queries\n",
    "    test_queries = strict_train_test[cls][\"test\"]\n",
    "    for query in test_queries:\n",
    "        idx = query[\"gallery_idx\"]\n",
    "        test_query = data[idx]\n",
    "        test_label = labels[idx]\n",
    "        test_set_strict.append(test_query)\n",
    "        test_labels_strict.append(test_label)\n",
    "        "
   ]
  },
  {
   "cell_type": "code",
   "execution_count": 80,
   "id": "3a37185b",
   "metadata": {},
   "outputs": [],
   "source": [
    "train_set_strict = np.array(train_set_strict)\n",
    "test_set_strict = np.array(test_set_strict)"
   ]
  },
  {
   "cell_type": "code",
   "execution_count": 81,
   "id": "2b9027be",
   "metadata": {},
   "outputs": [
    {
     "name": "stdout",
     "output_type": "stream",
     "text": [
      "train set\n",
      "[[6.9233747e-03 2.2412590e-03 5.3472899e-02 ... 5.9745912e-03\n",
      "  1.8873550e-03 2.1909457e-02]\n",
      " [2.2041237e-03 6.8761426e-04 4.1907985e-02 ... 2.2204514e-03\n",
      "  2.4847253e-03 1.9992612e-02]\n",
      " [6.3734045e-03 6.6076760e-04 3.6449816e-02 ... 5.0076423e-03\n",
      "  3.7306603e-03 3.5878073e-03]\n",
      " [4.5877248e-03 2.6991626e-03 4.3812297e-02 ... 7.1394523e-03\n",
      "  6.0418011e-03 3.2635011e-02]\n",
      " [7.0087109e-03 8.5940241e-04 7.4370176e-02 ... 1.4216707e-04\n",
      "  1.4606867e-05 1.2442449e-02]] \n",
      "\n",
      "train_labels \n",
      "['CarrefourSmoothieAardbeiBlauweBessen', 'CarrefourSmoothieAardbeiBlauweBessen', 'TropicanaSanguinello', 'TropicanaSanguinello', 'TropicanaSanguinello']\n"
     ]
    }
   ],
   "source": [
    "#our training set looks like this\n",
    "print(f\"train set\\n{train_set_strict[:5]} \\n\\ntrain_labels \\n{train_labels_strict[:5]}\")"
   ]
  },
  {
   "cell_type": "code",
   "execution_count": 82,
   "id": "5269527c",
   "metadata": {},
   "outputs": [
    {
     "name": "stdout",
     "output_type": "stream",
     "text": [
      "test set\n",
      "[[6.3076401e-03 9.9129621e-03 4.2072132e-02 ... 7.4273129e-03\n",
      "  3.3059330e-03 1.3093212e-02]\n",
      " [2.1028033e-02 3.6752366e-03 5.0158482e-02 ... 1.2454252e-02\n",
      "  4.8663453e-03 2.7165789e-02]\n",
      " [2.3179527e-03 5.5524646e-03 4.0926971e-02 ... 1.9700017e-02\n",
      "  2.3614909e-02 1.4198274e-02]\n",
      " [1.5844429e-03 6.2769912e-05 9.0044715e-02 ... 3.0723400e-02\n",
      "  3.1709992e-03 3.5455194e-03]\n",
      " [7.7588315e-04 3.6051134e-03 3.7311916e-03 ... 7.6465523e-03\n",
      "  5.2548744e-02 9.1698179e-03]] \n",
      "\n",
      "test_labels \n",
      "['CarrefourSmoothieAardbeiBlauweBessen', 'CarrefourSmoothieAardbeiBlauweBessen', 'TropicanaSanguinello', 'TropicanaSanguinello', 'MonsterTheDoctor500ml']\n"
     ]
    }
   ],
   "source": [
    "#our test set looks like this\n",
    "print(f\"test set\\n{test_set_strict[:5]} \\n\\ntest_labels \\n{test_labels_strict[:5]}\")"
   ]
  },
  {
   "cell_type": "code",
   "execution_count": 83,
   "id": "071e86fe",
   "metadata": {},
   "outputs": [
    {
     "name": "stdout",
     "output_type": "stream",
     "text": [
      "Size of the training set 852\n",
      "The training set contains 74.08695652173914% of the data\n",
      "\n",
      "Size of the test set 298\n",
      "The test set contains 25.91304347826087% of the data\n"
     ]
    }
   ],
   "source": [
    "#Proportion of training data\n",
    "prop_train = (len(train_set_strict)/ (len(train_set_strict) + len(test_set_strict)) ) * 100\n",
    "#Proportion of testing data\n",
    "prop_test = (len(test_set_strict)/ (len(train_set_strict) + len(test_set_strict)) ) * 100\n",
    "print(f\"Size of the training set {len(train_set_strict)}\\nThe training set contains {prop_train}% of the data\\n\")\n",
    "print(f\"Size of the test set {len(test_set_strict)}\\nThe test set contains {prop_test}% of the data\")"
   ]
  },
  {
   "cell_type": "markdown",
   "id": "4785c1ee",
   "metadata": {},
   "source": [
    "### Cross validation on the training set"
   ]
  },
  {
   "cell_type": "markdown",
   "id": "3c6e7c58",
   "metadata": {},
   "source": [
    "#### Support Vector Machine (SVM)"
   ]
  },
  {
   "cell_type": "code",
   "execution_count": 85,
   "id": "e7dda15a",
   "metadata": {},
   "outputs": [],
   "source": [
    "#Create SVM estimator \n",
    "svm_test_strict = SVC(kernel=\"poly\")"
   ]
  },
  {
   "cell_type": "code",
   "execution_count": 86,
   "id": "fda7bde0",
   "metadata": {},
   "outputs": [],
   "source": [
    "#Create StratifiedKFold generator\n",
    "#5 folds with 1/5 test data and 4/5 training data to cross validate. \n",
    "#The folds have equal class distribution in this case\n",
    "skf = StratifiedKFold(n_splits=5)"
   ]
  },
  {
   "cell_type": "code",
   "execution_count": 87,
   "id": "dc43aeb0",
   "metadata": {},
   "outputs": [
    {
     "name": "stderr",
     "output_type": "stream",
     "text": [
      "/home/olivier/Documents/master/mp/.venv/lib/python3.8/site-packages/sklearn/model_selection/_split.py:666: UserWarning: The least populated class in y has only 1 members, which is less than n_splits=5.\n",
      "  warnings.warn((\"The least populated class in y has only %d\"\n"
     ]
    },
    {
     "name": "stdout",
     "output_type": "stream",
     "text": [
      "[0.75438596 0.73684211 0.75294118 0.75882353 0.63529412]\n",
      "Support Vector Machine (SVM) with StratifiedKFold:\n",
      "Accuracy: 72.8% \n",
      "std_dev: 0.04677680599436755\n",
      "\n"
     ]
    }
   ],
   "source": [
    "#Perform the cross validation\n",
    "accuracy, std = cross_validate(svm_test_strict, skf, train_set_strict, train_labels_strict)\n",
    "print(f\"Support Vector Machine (SVM) with StratifiedKFold:\\nAccuracy: {accuracy*100:.1f}% \\nstd_dev: {std}\\n\")"
   ]
  },
  {
   "cell_type": "markdown",
   "id": "8730227f",
   "metadata": {},
   "source": [
    "#### Multi Layer Perceptron (MLP)"
   ]
  },
  {
   "cell_type": "code",
   "execution_count": 92,
   "id": "2444b4f8",
   "metadata": {},
   "outputs": [],
   "source": [
    "#Create MLP estimator\n",
    "mlp_test_strict = MLPClassifier(\n",
    "    hidden_layer_sizes=(256, 64),\n",
    "    solver='lbfgs',\n",
    "    max_iter=10_000\n",
    ")"
   ]
  },
  {
   "cell_type": "code",
   "execution_count": 93,
   "id": "23b5411f",
   "metadata": {},
   "outputs": [],
   "source": [
    "#Create StratifiedKFold generator\n",
    "#5 folds with 1/5 test data and 4/5 training data to cross validate. \n",
    "#The folds have equal class distribution in this case\n",
    "skf = StratifiedKFold(n_splits=5)"
   ]
  },
  {
   "cell_type": "code",
   "execution_count": 94,
   "id": "85097167",
   "metadata": {},
   "outputs": [
    {
     "name": "stderr",
     "output_type": "stream",
     "text": [
      "/home/olivier/Documents/master/mp/.venv/lib/python3.8/site-packages/sklearn/model_selection/_split.py:666: UserWarning: The least populated class in y has only 1 members, which is less than n_splits=5.\n",
      "  warnings.warn((\"The least populated class in y has only %d\"\n"
     ]
    },
    {
     "name": "stdout",
     "output_type": "stream",
     "text": [
      "[0.5380117  0.59064327 0.61176471 0.58235294 0.42941176]\n",
      "Multi Layer Perceptron (MLP) with StratifiedKFold:\n",
      "Accuracy: 55.0% \n",
      "std_dev: 0.06511183472661425\n",
      "\n"
     ]
    }
   ],
   "source": [
    "#Perform the cross validation\n",
    "accuracy, std = cross_validate(mlp_test_strict, skf, train_set_strict, train_labels_strict)\n",
    "print(f\"Multi Layer Perceptron (MLP) with StratifiedKFold:\\nAccuracy: {accuracy*100:.1f}% \\nstd_dev: {std}\\n\")"
   ]
  },
  {
   "cell_type": "markdown",
   "id": "a4047c27",
   "metadata": {},
   "source": [
    "### Testing on the strict test set"
   ]
  },
  {
   "cell_type": "markdown",
   "id": "08d6d407",
   "metadata": {},
   "source": [
    "#### Support Vector Machine (SVM)"
   ]
  },
  {
   "cell_type": "code",
   "execution_count": 96,
   "id": "911a4dbe",
   "metadata": {},
   "outputs": [
    {
     "name": "stdout",
     "output_type": "stream",
     "text": [
      "Support Vector Machine (SVM):\n",
      "Accuracy: 50.7% \n",
      "confusion_matrix: \n",
      "[[0 0 0 ... 0 0 0]\n",
      " [0 0 0 ... 0 0 0]\n",
      " [0 0 0 ... 0 0 0]\n",
      " ...\n",
      " [0 0 0 ... 1 0 0]\n",
      " [0 0 0 ... 0 2 1]\n",
      " [0 0 0 ... 0 0 1]]\n",
      "\n"
     ]
    }
   ],
   "source": [
    "accuracy, cm = eval_performance(\n",
    "    svm_test_strict, \n",
    "    train_set_strict, \n",
    "    train_labels_strict, \n",
    "    test_set_strict, \n",
    "    test_labels_strict\n",
    ")\n",
    "print(f\"Support Vector Machine (SVM):\\nAccuracy: {accuracy*100:.1f}% \\nconfusion_matrix: \\n{cm}\\n\")"
   ]
  },
  {
   "cell_type": "markdown",
   "id": "0ffc98cd",
   "metadata": {},
   "source": [
    "#### Multi Layer Perceptron (MLP)"
   ]
  },
  {
   "cell_type": "code",
   "execution_count": 97,
   "id": "96231f08",
   "metadata": {},
   "outputs": [
    {
     "name": "stdout",
     "output_type": "stream",
     "text": [
      "Multi Layer Perceptron:\n",
      "Accuracy: 30.2% \n",
      "confusion_matrix: \n",
      "[[1 0 0 ... 0 0 0]\n",
      " [0 0 0 ... 0 0 0]\n",
      " [0 0 0 ... 0 0 0]\n",
      " ...\n",
      " [0 0 0 ... 0 0 0]\n",
      " [0 0 0 ... 0 2 1]\n",
      " [0 0 0 ... 0 0 1]]\n",
      "\n"
     ]
    }
   ],
   "source": [
    "accuracy, cm = eval_performance(\n",
    "    mlp_test_strict, \n",
    "    train_set_strict, \n",
    "    train_labels_strict, \n",
    "    test_set_strict, \n",
    "    test_labels_strict\n",
    ")\n",
    "print(f\"Multi Layer Perceptron:\\nAccuracy: {accuracy*100:.1f}% \\nconfusion_matrix: \\n{cm}\\n\")"
   ]
  }
 ],
 "metadata": {
  "kernelspec": {
   "display_name": ".venv",
   "language": "python",
   "name": ".venv"
  },
  "language_info": {
   "codemirror_mode": {
    "name": "ipython",
    "version": 3
   },
   "file_extension": ".py",
   "mimetype": "text/x-python",
   "name": "python",
   "nbconvert_exporter": "python",
   "pygments_lexer": "ipython3",
   "version": "3.8.16"
  }
 },
 "nbformat": 4,
 "nbformat_minor": 5
}
