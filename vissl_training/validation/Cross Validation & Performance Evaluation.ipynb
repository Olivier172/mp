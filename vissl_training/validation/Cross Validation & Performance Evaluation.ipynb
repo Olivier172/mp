{
 "cells": [
  {
   "cell_type": "markdown",
   "id": "d3265130",
   "metadata": {},
   "source": [
    "# Cross Validation & Performance Evaluation"
   ]
  },
  {
   "cell_type": "code",
   "execution_count": 1,
   "id": "c99d1b09",
   "metadata": {},
   "outputs": [],
   "source": [
    "import torch\n",
    "import numpy as np\n",
    "import sklearn\n",
    "import matplotlib.pyplot as plt  \n",
    "import json\n",
    "from pathlib import Path"
   ]
  },
  {
   "cell_type": "code",
   "execution_count": 2,
   "id": "6571b4fc",
   "metadata": {},
   "outputs": [],
   "source": [
    "%matplotlib inline"
   ]
  },
  {
   "cell_type": "markdown",
   "id": "9dfdffe4",
   "metadata": {},
   "source": [
    "## Collecting data"
   ]
  },
  {
   "cell_type": "code",
   "execution_count": 3,
   "id": "3c71b054",
   "metadata": {},
   "outputs": [
    {
     "name": "stdout",
     "output_type": "stream",
     "text": [
      "blacklist.txt\t\t    moco32_phase75   simclr_phase25\r\n",
      "class_occurences.json\t    moco64\t     simclr_phase50\r\n",
      "gallery_paths_relative.txt  moco64_phase0    simclr_phase75\r\n",
      "gallery_paths.txt\t    moco64_phase25   strict_train_test.json\r\n",
      "imgnet_pretrained\t    moco64_phase50   swav\r\n",
      "jigsaw\t\t\t    moco64_phase75   swav_phase0\r\n",
      "jigsaw_phase0\t\t    random\t     swav_phase25\r\n",
      "jigsaw_phase100\t\t    rotnet\t     swav_phase50\r\n",
      "jigsaw_phase25\t\t    rotnet_phase0    swav_phase75\r\n",
      "jigsaw_phase50\t\t    rotnet_phase100  total_cross_val_log_mlp.txt\r\n",
      "jigsaw_phase75\t\t    rotnet_phase25   total_cross_val_log_svm.txt\r\n",
      "moco32\t\t\t    rotnet_phase50   total_gallery_mAP_scores_log.txt\r\n",
      "moco32_phase0\t\t    rotnet_phase75   total_perf_eval_log_mlp.txt\r\n",
      "moco32_phase25\t\t    simclr\t     total_perf_eval_log_svm.txt\r\n",
      "moco32_phase50\t\t    simclr_phase0\r\n"
     ]
    }
   ],
   "source": [
    "#Models that are available for testing:\n",
    "!ls data/"
   ]
  },
  {
   "cell_type": "code",
   "execution_count": 4,
   "id": "9a84d89f",
   "metadata": {},
   "outputs": [
    {
     "name": "stdout",
     "output_type": "stream",
     "text": [
      "Data for model moco64 succesfully read.\n",
      "embedding_gallery size: torch.Size([1643, 2048])\n",
      "embedding_gallery_norm size: torch.Size([1643, 2048])\n",
      "labels length: 1643\n"
     ]
    }
   ],
   "source": [
    "#options rotnet, jigsaw, simclr, moco32, imgnet_pretrained\n",
    "model_name = \"moco64\" #<----------Specifiy model here!\n",
    "\n",
    "dir = Path(\"data/\" + model_name)\n",
    "\n",
    "embedding_gallery = torch.load(dir / \"embedding_gallery.torch\")\n",
    "embedding_gallery_norm = torch.load(dir / \"embedding_gallery_norm.torch\")\n",
    "labels = list()\n",
    "with open(dir / \"embedding_gallery_labels.txt\", \"r\") as f:\n",
    "    labels = f.read().splitlines()\n",
    "print(f\"Data for model {model_name} succesfully read.\\nembedding_gallery size: {embedding_gallery.shape}\\\n",
    "\\nembedding_gallery_norm size: {embedding_gallery_norm.shape}\\nlabels length: {len(labels)}\")"
   ]
  },
  {
   "cell_type": "code",
   "execution_count": 5,
   "id": "34586afb",
   "metadata": {},
   "outputs": [
    {
     "name": "stdout",
     "output_type": "stream",
     "text": [
      "embedding_gallery size: (1643, 2048) and type <class 'numpy.ndarray'>\n",
      "embedding_gallery_norm size: (1643, 2048) and type <class 'numpy.ndarray'>\n",
      "Labels with size (1643,) and type <class 'numpy.ndarray'>\n"
     ]
    }
   ],
   "source": [
    "#Convert to numpy arrays:\n",
    "embedding_gallery = embedding_gallery.numpy()\n",
    "embedding_gallery_norm = embedding_gallery_norm.numpy()\n",
    "labels = np.array(labels)\n",
    "print(f\"embedding_gallery size: {embedding_gallery.shape} and type {type(embedding_gallery)}\\\n",
    "\\nembedding_gallery_norm size: {embedding_gallery_norm.shape} and type {type(embedding_gallery_norm)}\\\n",
    "\\nLabels with size {labels.shape} and type {type(labels)}\")"
   ]
  },
  {
   "cell_type": "markdown",
   "id": "9f31c8c0",
   "metadata": {},
   "source": [
    "## Modelling"
   ]
  },
  {
   "cell_type": "code",
   "execution_count": 6,
   "id": "e183256d",
   "metadata": {},
   "outputs": [],
   "source": [
    "from sklearn.svm import SVC\n",
    "from sklearn.neural_network import MLPClassifier\n",
    "from sklearn.neighbors import KNeighborsClassifier\n",
    "from sklearn.tree import DecisionTreeClassifier\n",
    "from sklearn.model_selection import train_test_split"
   ]
  },
  {
   "cell_type": "markdown",
   "id": "2bc94144",
   "metadata": {},
   "source": [
    "Let's test the performance of a support vector machine (SVM) and a multi layer perceptron (MLP) on the entire data:"
   ]
  },
  {
   "cell_type": "code",
   "execution_count": 7,
   "id": "a0abfdff",
   "metadata": {},
   "outputs": [],
   "source": [
    "#Create SVM estimator \n",
    "svm_overfit = SVC(kernel=\"poly\")"
   ]
  },
  {
   "cell_type": "code",
   "execution_count": 8,
   "id": "ec450eb3",
   "metadata": {},
   "outputs": [],
   "source": [
    "#Create MLP estimator\n",
    "mlp_overfit = MLPClassifier(\n",
    "    hidden_layer_sizes=(256, 64),\n",
    "    solver='lbfgs',\n",
    "    max_iter=10_000\n",
    ")"
   ]
  },
  {
   "cell_type": "code",
   "execution_count": 9,
   "id": "753bf709",
   "metadata": {},
   "outputs": [],
   "source": [
    "#the dat to train/fit on \n",
    "data = embedding_gallery_norm.copy()\n",
    "#labels are already in a numpy array called \"labels\""
   ]
  },
  {
   "cell_type": "markdown",
   "id": "7afd682f",
   "metadata": {},
   "source": [
    "Training/fitting on the data and labels:"
   ]
  },
  {
   "cell_type": "code",
   "execution_count": 10,
   "id": "27a7affe",
   "metadata": {},
   "outputs": [
    {
     "data": {
      "text/plain": [
       "SVC(kernel='poly')"
      ]
     },
     "execution_count": 10,
     "metadata": {},
     "output_type": "execute_result"
    }
   ],
   "source": [
    "#train SVM\n",
    "svm_overfit.fit(data, labels)"
   ]
  },
  {
   "cell_type": "code",
   "execution_count": 11,
   "id": "13d02059",
   "metadata": {},
   "outputs": [
    {
     "data": {
      "text/plain": [
       "MLPClassifier(hidden_layer_sizes=(256, 64), max_iter=10000, solver='lbfgs')"
      ]
     },
     "execution_count": 11,
     "metadata": {},
     "output_type": "execute_result"
    }
   ],
   "source": [
    "#train MLP\n",
    "mlp_overfit.fit(data, labels)"
   ]
  },
  {
   "cell_type": "markdown",
   "id": "49be5903",
   "metadata": {},
   "source": [
    "Evaluate on the same data (this is overfitting, but should yield high results and verify that the data is correct)"
   ]
  },
  {
   "cell_type": "code",
   "execution_count": 12,
   "id": "a820e0b3",
   "metadata": {},
   "outputs": [
    {
     "name": "stdout",
     "output_type": "stream",
     "text": [
      "Accuracy svm: 99.9%\n",
      "\n"
     ]
    }
   ],
   "source": [
    "#evaluate SVM\n",
    "accuracy = svm_overfit.score(data, labels) \n",
    "print(f\"Accuracy svm: {accuracy*100:.1f}%\\n\")"
   ]
  },
  {
   "cell_type": "code",
   "execution_count": 13,
   "id": "3da3dfcc",
   "metadata": {},
   "outputs": [
    {
     "name": "stdout",
     "output_type": "stream",
     "text": [
      "Accuracy mlp: 100.0%\n",
      "\n"
     ]
    }
   ],
   "source": [
    "#evaluate MLP\n",
    "accuracy = mlp_overfit.score(data, labels) \n",
    "print(f\"Accuracy mlp: {accuracy*100:.1f}%\\n\")"
   ]
  },
  {
   "cell_type": "markdown",
   "id": "f56fb2dc",
   "metadata": {},
   "source": [
    "## cross validation"
   ]
  },
  {
   "cell_type": "code",
   "execution_count": 14,
   "id": "077b0525",
   "metadata": {},
   "outputs": [],
   "source": [
    "from sklearn.model_selection import cross_val_score\n",
    "from sklearn.model_selection import KFold, StratifiedKFold, ShuffleSplit, StratifiedShuffleSplit"
   ]
  },
  {
   "cell_type": "code",
   "execution_count": 15,
   "id": "b0d6a82e",
   "metadata": {},
   "outputs": [],
   "source": [
    "def cross_validate(classifier, fold, data, labels):\n",
    "    \"\"\"\n",
    "    Performs a cross validation for the classifier with a train test split\n",
    "    according to fold generator.\n",
    "    \n",
    "    Args:\n",
    "        classifier: the classifier to cross validate.\n",
    "        fold: the generator to use for train-test splits.\n",
    "        data: the embedding gallery to train/test on.\n",
    "        labels: the ground truth labels per row for the gallery.\n",
    "        \n",
    "    Returns:\n",
    "        The mean accuracy score from the cross validation rounds and\n",
    "        the standard deviation of the scores.\n",
    "    \"\"\"\n",
    "    #cross validation generator\n",
    "    cv = fold.split(data, y=labels)\n",
    "\n",
    "    #calc cross validation\n",
    "    scores = cross_val_score(\n",
    "        classifier,   #the estimator/classifier\n",
    "        data,         #data \n",
    "        y=labels,     #targets\n",
    "        cv=cv         #generator for array indicis in data that select a certain split out of \"data\"\n",
    "    )\n",
    "    print(scores)\n",
    "    accuracy = scores.mean()\n",
    "    std = scores.std()\n",
    "    return accuracy, std"
   ]
  },
  {
   "cell_type": "markdown",
   "id": "a21caf16",
   "metadata": {},
   "source": [
    "Now let's create an svm and mlp that we don't overfit. We will test it's ability to generalize by performing cross validation."
   ]
  },
  {
   "cell_type": "code",
   "execution_count": 16,
   "id": "3bff2ab9",
   "metadata": {},
   "outputs": [],
   "source": [
    "#Create SVM estimator \n",
    "svm_cross = SVC(kernel=\"poly\")"
   ]
  },
  {
   "cell_type": "code",
   "execution_count": 17,
   "id": "f50f86d4",
   "metadata": {},
   "outputs": [],
   "source": [
    "#Create MLP estimator\n",
    "mlp_cross = MLPClassifier(\n",
    "    hidden_layer_sizes=(128, 64),\n",
    "    solver='lbfgs',\n",
    "    max_iter=10_000\n",
    ")"
   ]
  },
  {
   "cell_type": "markdown",
   "id": "61993edb",
   "metadata": {},
   "source": [
    "Create cross validation generators for train-test splits:"
   ]
  },
  {
   "cell_type": "code",
   "execution_count": 18,
   "id": "4f039e50",
   "metadata": {},
   "outputs": [
    {
     "name": "stdout",
     "output_type": "stream",
     "text": [
      "Generator/iterator used: KFold\n",
      "Fold 0:\n",
      "  Train: index[:5] [329 330 331 332 333] with shape(1314,)\n",
      "  Test:  index[:5] [0 1 2 3 4] with shape(329,)\n",
      "Fold 1:\n",
      "  Train: index[:5] [0 1 2 3 4] with shape(1314,)\n",
      "  Test:  index[:5] [329 330 331 332 333] with shape(329,)\n",
      "Fold 2:\n",
      "  Train: index[:5] [0 1 2 3 4] with shape(1314,)\n",
      "  Test:  index[:5] [658 659 660 661 662] with shape(329,)\n",
      "Fold 3:\n",
      "  Train: index[:5] [0 1 2 3 4] with shape(1315,)\n",
      "  Test:  index[:5] [987 988 989 990 991] with shape(328,)\n",
      "Fold 4:\n",
      "  Train: index[:5] [0 1 2 3 4] with shape(1315,)\n",
      "  Test:  index[:5] [1315 1316 1317 1318 1319] with shape(328,)\n",
      "\n",
      "Generator/iterator used: StratifiedKFold\n",
      "Fold 0:\n",
      "  Train: index[:5] [1 2 3 5 6] with shape(1314,)\n",
      "  Test:  index[:5] [ 0  4  8 11 20] with shape(329,)\n",
      "Fold 1:\n",
      "  Train: index[:5] [0 2 3 4 6] with shape(1314,)\n",
      "  Test:  index[:5] [ 1  5 12 16 22] with shape(329,)\n",
      "Fold 2:\n",
      "  Train: index[:5] [0 1 3 4 5] with shape(1314,)\n",
      "  Test:  index[:5] [ 2  6 13 17 23] with shape(329,)\n",
      "Fold 3:\n",
      "  Train: index[:5] [0 1 2 4 5] with shape(1315,)\n",
      "  Test:  index[:5] [ 3  9 14 18 24] with shape(328,)\n",
      "Fold 4:\n",
      "  Train: index[:5] [0 1 2 3 4] with shape(1315,)\n",
      "  Test:  index[:5] [ 7 10 15 19 25] with shape(328,)\n",
      "\n",
      "Generator/iterator used: ShuffleSplit\n",
      "Fold 0:\n",
      "  Train: index[:5] [1157  651  289  864  823] with shape(1314,)\n",
      "  Test:  index[:5] [1573 1249 1226 1566  657] with shape(329,)\n",
      "Fold 1:\n",
      "  Train: index[:5] [ 675  572  334  948 1034] with shape(1314,)\n",
      "  Test:  index[:5] [1184 1399  583 1081  742] with shape(329,)\n",
      "Fold 2:\n",
      "  Train: index[:5] [1432   63  129  686  428] with shape(1314,)\n",
      "  Test:  index[:5] [1171    4  769  413  324] with shape(329,)\n",
      "Fold 3:\n",
      "  Train: index[:5] [1248  528 1535  757 1398] with shape(1314,)\n",
      "  Test:  index[:5] [ 119  521 1307  538   98] with shape(329,)\n",
      "Fold 4:\n",
      "  Train: index[:5] [1423 1377  543  402  835] with shape(1314,)\n",
      "  Test:  index[:5] [ 488 1400  604  725  234] with shape(329,)\n",
      "\n"
     ]
    },
    {
     "name": "stderr",
     "output_type": "stream",
     "text": [
      "/home/olivier/Documents/master/mp/.venv/lib/python3.8/site-packages/sklearn/model_selection/_split.py:666: UserWarning: The least populated class in y has only 1 members, which is less than n_splits=5.\n",
      "  warnings.warn((\"The least populated class in y has only %d\"\n"
     ]
    }
   ],
   "source": [
    "iterators = { \n",
    "    \"KFold\" : KFold(n_splits=5), \n",
    "    \"StratifiedKFold\" : StratifiedKFold(n_splits=5), \n",
    "    \"ShuffleSplit\" : ShuffleSplit(n_splits=5, test_size=0.2, random_state=0)\n",
    "}\n",
    "\n",
    "for k in iterators.keys():\n",
    "    print(f\"Generator/iterator used: {k}\")\n",
    "    iterator = iterators[k]\n",
    "    for i, (train_index, test_index) in enumerate(iterator.split(data, y=labels)):\n",
    "        print(f\"Fold {i}:\")\n",
    "        print(f\"  Train: index[:5] {train_index[:5]} with shape{train_index.shape}\")\n",
    "        print(f\"  Test:  index[:5] {test_index[:5]} with shape{test_index.shape}\")\n",
    "    print()"
   ]
  },
  {
   "cell_type": "code",
   "execution_count": 19,
   "id": "7f88c4d1",
   "metadata": {},
   "outputs": [],
   "source": [
    "#Create KFold generator\n",
    "#5 folds with 1/5 test data and 4/5 training data to cross validate\n",
    "kf = KFold(n_splits=5)"
   ]
  },
  {
   "cell_type": "code",
   "execution_count": 20,
   "id": "91d5ded8",
   "metadata": {},
   "outputs": [],
   "source": [
    "#Create StratifiedKFold generator\n",
    "#5 folds with 1/5 test data and 4/5 training data to cross validate. \n",
    "#The folds have equal class distribution in this case\n",
    "skf = StratifiedKFold(n_splits=5)"
   ]
  },
  {
   "cell_type": "code",
   "execution_count": 21,
   "id": "93e57e4a",
   "metadata": {},
   "outputs": [],
   "source": [
    "#Create ShuffleSplit generator\n",
    "#samples are shuffled and then split up in a test and train set\n",
    "ss = ShuffleSplit(n_splits=5, test_size=0.2, random_state=0)"
   ]
  },
  {
   "cell_type": "markdown",
   "id": "38333d77",
   "metadata": {},
   "source": [
    "Perform the cross validations on svm and mlp"
   ]
  },
  {
   "cell_type": "markdown",
   "id": "a5822376",
   "metadata": {},
   "source": [
    "### SVM cross validation"
   ]
  },
  {
   "cell_type": "code",
   "execution_count": 22,
   "id": "56756c07",
   "metadata": {},
   "outputs": [
    {
     "name": "stdout",
     "output_type": "stream",
     "text": [
      "[0.         0.         0.01823708 0.01829268 0.        ]\n",
      "Support Vector Machine (SVM) with KFold:\n",
      "Accuracy: 0.7% \n",
      "std_dev: 0.008947945740517962\n",
      "\n"
     ]
    }
   ],
   "source": [
    "#with KFold\n",
    "accuracy, std = cross_validate(svm_cross, kf, data, labels)\n",
    "print(f\"Support Vector Machine (SVM) with KFold:\\nAccuracy: {accuracy*100:.1f}% \\nstd_dev: {std}\\n\")"
   ]
  },
  {
   "cell_type": "code",
   "execution_count": 23,
   "id": "de979f0e",
   "metadata": {},
   "outputs": [
    {
     "name": "stderr",
     "output_type": "stream",
     "text": [
      "/home/olivier/Documents/master/mp/.venv/lib/python3.8/site-packages/sklearn/model_selection/_split.py:666: UserWarning: The least populated class in y has only 1 members, which is less than n_splits=5.\n",
      "  warnings.warn((\"The least populated class in y has only %d\"\n"
     ]
    },
    {
     "name": "stdout",
     "output_type": "stream",
     "text": [
      "[0.69908815 0.71732523 0.68389058 0.72865854 0.67378049]\n",
      "Support Vector Machine (SVM) with StratifiedKFold:\n",
      "Accuracy: 70.1% \n",
      "std_dev: 0.02033606771573935\n",
      "\n"
     ]
    }
   ],
   "source": [
    "#with StratifiedKFold\n",
    "accuracy, std = cross_validate(svm_cross, skf, data, labels)\n",
    "print(f\"Support Vector Machine (SVM) with StratifiedKFold:\\nAccuracy: {accuracy*100:.1f}% \\nstd_dev: {std}\\n\")"
   ]
  },
  {
   "cell_type": "code",
   "execution_count": 24,
   "id": "7dd0995e",
   "metadata": {},
   "outputs": [
    {
     "name": "stdout",
     "output_type": "stream",
     "text": [
      "[0.65957447 0.6231003  0.65653495 0.64741641 0.69300912]\n",
      "Support Vector Machine (SVM) with ShuffleSplit:\n",
      "Accuracy: 65.6% \n",
      "std_dev: 0.02253343828918012\n",
      "\n"
     ]
    }
   ],
   "source": [
    "#with ShuffleSplit\n",
    "accuracy, std = cross_validate(svm_cross, ss, data, labels)\n",
    "print(f\"Support Vector Machine (SVM) with ShuffleSplit:\\nAccuracy: {accuracy*100:.1f}% \\nstd_dev: {std}\\n\")"
   ]
  },
  {
   "cell_type": "markdown",
   "id": "95b825ce",
   "metadata": {},
   "source": [
    "### MLP cross validation"
   ]
  },
  {
   "cell_type": "code",
   "execution_count": 25,
   "id": "e0570c0c",
   "metadata": {},
   "outputs": [
    {
     "name": "stdout",
     "output_type": "stream",
     "text": [
      "[0.         0.         0.01823708 0.0152439  0.        ]\n",
      "Multi Layer Perceptron (MLP) with KFold:\n",
      "Accuracy: 0.7% \n",
      "std_dev: 0.008255573380298196\n",
      "\n"
     ]
    }
   ],
   "source": [
    "#with KFold\n",
    "accuracy, std = cross_validate(mlp_cross, kf, data, labels)\n",
    "print(f\"Multi Layer Perceptron (MLP) with KFold:\\nAccuracy: {accuracy*100:.1f}% \\nstd_dev: {std}\\n\")"
   ]
  },
  {
   "cell_type": "code",
   "execution_count": 26,
   "id": "7c51ec16",
   "metadata": {},
   "outputs": [
    {
     "name": "stderr",
     "output_type": "stream",
     "text": [
      "/home/olivier/Documents/master/mp/.venv/lib/python3.8/site-packages/sklearn/model_selection/_split.py:666: UserWarning: The least populated class in y has only 1 members, which is less than n_splits=5.\n",
      "  warnings.warn((\"The least populated class in y has only %d\"\n"
     ]
    },
    {
     "name": "stdout",
     "output_type": "stream",
     "text": [
      "[0.51975684 0.53495441 0.46200608 0.55182927 0.48170732]\n",
      "Multi Layer Perceptron (MLP) with StratifiedKFold:\n",
      "Accuracy: 51.0% \n",
      "std_dev: 0.03338108895221815\n",
      "\n"
     ]
    }
   ],
   "source": [
    "#with StratifiedKFold\n",
    "accuracy, std = cross_validate(mlp_cross, skf, data, labels)\n",
    "print(f\"Multi Layer Perceptron (MLP) with StratifiedKFold:\\nAccuracy: {accuracy*100:.1f}% \\nstd_dev: {std}\\n\")"
   ]
  },
  {
   "cell_type": "code",
   "execution_count": 27,
   "id": "f76a8335",
   "metadata": {},
   "outputs": [
    {
     "name": "stdout",
     "output_type": "stream",
     "text": [
      "[0.48024316 0.47720365 0.49544073 0.43465046 0.48632219]\n",
      "Multi Layer Perceptron (MLP) with ShuffleSplit:\n",
      "Accuracy: 47.5% \n",
      "std_dev: 0.021005656587441947\n",
      "\n"
     ]
    }
   ],
   "source": [
    "#with ShuffleSplit\n",
    "accuracy, std = cross_validate(mlp_cross, ss, data, labels)\n",
    "print(f\"Multi Layer Perceptron (MLP) with ShuffleSplit:\\nAccuracy: {accuracy*100:.1f}% \\nstd_dev: {std}\\n\")"
   ]
  },
  {
   "cell_type": "markdown",
   "id": "cfddfbc0",
   "metadata": {},
   "source": [
    "## Performance Assessment \n",
    "In this section we will do the final test.\n",
    "- Split up the data from cornershop in train (80%) and test (20%) data.\n",
    "- Cross validate on the training set.\n",
    "- Fit on the training set.\n",
    "- Test on the testing set."
   ]
  },
  {
   "cell_type": "code",
   "execution_count": 28,
   "id": "ab9b2310",
   "metadata": {},
   "outputs": [],
   "source": [
    "from sklearn.metrics import confusion_matrix"
   ]
  },
  {
   "cell_type": "code",
   "execution_count": 29,
   "id": "64fdbbcd",
   "metadata": {},
   "outputs": [],
   "source": [
    "def eval_performance(classifier, train_set, train_labels, test_set, test_labels):\n",
    "    \"\"\"\n",
    "    Evaluate performance for the given estimator/classifier.\n",
    "    Performance is measured by:\n",
    "        -Training on the train_set and train_labels\n",
    "        -Measuring accuracy for classification on the test_set with the test_labels\n",
    "        -Calculate a confusion matrix\n",
    "    \n",
    "    Args:\n",
    "        classifier : the classifier to evaluate.\n",
    "        train_set (np.ndarray): the data to train on.\n",
    "        train_labels (np.ndarray): ground truth for training data.\n",
    "        test_set (np.ndarray): the data to test on.\n",
    "        test_labels (np.ndarray): ground truth for testing data.\n",
    "        \n",
    "    Returns:\n",
    "        accuracy : accuracy score from predictions on test set.\n",
    "        cm: The confusion matrix.\n",
    "    \"\"\"\n",
    "    #train on training set\n",
    "    classifier.fit(train_set, train_labels) #retrain on training set\n",
    "    \n",
    "    #Calculate accuracy\n",
    "    accuracy = classifier.score(test_set, test_labels) #calc acc score on testing set\n",
    "    \n",
    "    #Calculate confusion matrix\n",
    "    y_true = test_labels.copy() #Ground truth\n",
    "    y_pred = classifier.predict(test_set) #Predictions made by classifier\n",
    "    proba = classifier.predict_proba(test_set)\n",
    "    cls = classifier.classes_\n",
    "#     print(f\"shape proba is {proba.shape}\\n examples {proba[:4]}\")\n",
    "#     print(f\"sgapr classes {cls.shape}, examples {cls[:4]}\")\n",
    "#     print(f\"shape test is {test_set.shape}\\n examples {test_set[:4]}\")\n",
    "#     print(f\"amount of classes in test set {len(np.unique(test_labels))}\\n\")\n",
    "#     print(f\"shape y_pred is {y_pred.shape}\\n examples {y_pred[:4]}\")\n",
    "    #compute confusion matrix\n",
    "    cm = confusion_matrix(y_true=y_true, y_pred=y_pred)\n",
    "    #predicted class is the column nr, ground truth is the row nr\n",
    "    #correct classifications can be found on the diagonal\n",
    "\n",
    "    return accuracy, cm"
   ]
  },
  {
   "cell_type": "markdown",
   "id": "734298c7",
   "metadata": {},
   "source": [
    "### Train test split"
   ]
  },
  {
   "cell_type": "code",
   "execution_count": 30,
   "id": "7a1440ea",
   "metadata": {},
   "outputs": [],
   "source": [
    "train_set, test_set, train_labels, test_labels= train_test_split(\n",
    "    data,          #data\n",
    "    labels,        #targets\n",
    "    test_size=0.2, #20% test set, 80% train set\n",
    "    random_state=0 #for reproducable results of the random shuffling\n",
    ")"
   ]
  },
  {
   "cell_type": "code",
   "execution_count": 31,
   "id": "dbdc85da",
   "metadata": {
    "scrolled": true
   },
   "outputs": [
    {
     "name": "stdout",
     "output_type": "stream",
     "text": [
      "train set\n",
      "[[0.0000000e+00 2.7361902e-04 7.7595622e-03 ... 2.1438068e-03\n",
      "  2.5144813e-04 7.6001310e-03]\n",
      " [1.9973461e-04 0.0000000e+00 0.0000000e+00 ... 1.1563284e-03\n",
      "  2.9495624e-05 1.7721315e-03]\n",
      " [0.0000000e+00 3.9069530e-02 6.1618048e-03 ... 2.7245482e-02\n",
      "  4.5345982e-06 1.0573921e-03]\n",
      " [3.0629247e-04 4.1899788e-03 6.3482468e-04 ... 1.3226266e-02\n",
      "  0.0000000e+00 1.2904644e-03]\n",
      " [0.0000000e+00 3.7859593e-02 4.6287957e-03 ... 2.2931259e-02\n",
      "  0.0000000e+00 2.4286965e-02]] \n",
      "\n",
      "train_labels \n",
      "['MayTeaFramboos1L' 'MonsterPipelinePunch500ml' 'AquariusOrangeFles'\n",
      " 'MonsterUltra' 'PepsiMax']\n"
     ]
    }
   ],
   "source": [
    "#our training set looks like this\n",
    "print(f\"train set\\n{train_set[:5]} \\n\\ntrain_labels \\n{train_labels[:5]}\")"
   ]
  },
  {
   "cell_type": "code",
   "execution_count": 32,
   "id": "2fabcc1e",
   "metadata": {},
   "outputs": [
    {
     "name": "stdout",
     "output_type": "stream",
     "text": [
      "test set\n",
      "[[0.         0.00618856 0.00811327 ... 0.01014707 0.00010826 0.01076958]\n",
      " [0.         0.01138464 0.01278724 ... 0.01439012 0.00010775 0.00108106]\n",
      " [0.         0.00894091 0.00302992 ... 0.01870816 0.         0.0043574 ]\n",
      " [0.00028309 0.01736233 0.0098097  ... 0.00242132 0.00014352 0.00211152]\n",
      " [0.         0.00975204 0.01961743 ... 0.00342917 0.00076789 0.01030275]] \n",
      "\n",
      "test_labels \n",
      "['InnocentOrangeWithBits' 'CapriSun' 'MonsterPunchEnergy500ml'\n",
      " 'NaluOriginal6x350ml' 'StellaBlik50cl']\n"
     ]
    }
   ],
   "source": [
    "#our test set looks like this\n",
    "print(f\"test set\\n{test_set[:5]} \\n\\ntest_labels \\n{test_labels[:5]}\")"
   ]
  },
  {
   "cell_type": "code",
   "execution_count": 33,
   "id": "7a0cc700",
   "metadata": {},
   "outputs": [
    {
     "name": "stdout",
     "output_type": "stream",
     "text": [
      "Size of the training set 1314\n",
      "The training set contains 79.97565429093122% of the data\n",
      "\n",
      "Size of the test set 329\n",
      "The test set contains 20.02434570906878% of the data\n"
     ]
    }
   ],
   "source": [
    "#Proportion of training data\n",
    "prop_train = (len(train_set)/ len(embedding_gallery_norm) ) * 100\n",
    "#Proportion of testing data\n",
    "prop_test = (len(test_set)/ len(embedding_gallery_norm) ) * 100\n",
    "print(f\"Size of the training set {len(train_set)}\\nThe training set contains {prop_train}% of the data\\n\")\n",
    "print(f\"Size of the test set {len(test_set)}\\nThe test set contains {prop_test}% of the data\")"
   ]
  },
  {
   "cell_type": "markdown",
   "id": "af39785d",
   "metadata": {},
   "source": [
    "### Cross validation on the training set"
   ]
  },
  {
   "cell_type": "markdown",
   "id": "78382816",
   "metadata": {},
   "source": [
    "#### Support Vector Machine (SVM)"
   ]
  },
  {
   "cell_type": "code",
   "execution_count": 34,
   "id": "5e50873b",
   "metadata": {},
   "outputs": [],
   "source": [
    "#Create SVM estimator \n",
    "svm_test = SVC(kernel=\"poly\", probability=True)"
   ]
  },
  {
   "cell_type": "code",
   "execution_count": 35,
   "id": "718ee4fd",
   "metadata": {},
   "outputs": [],
   "source": [
    "#Create StratifiedKFold generator\n",
    "#5 folds with 1/5 test data and 4/5 training data to cross validate. \n",
    "#The folds have equal class distribution in this case\n",
    "skf = StratifiedKFold(n_splits=5)"
   ]
  },
  {
   "cell_type": "code",
   "execution_count": 36,
   "id": "2b90f1cb",
   "metadata": {},
   "outputs": [
    {
     "name": "stderr",
     "output_type": "stream",
     "text": [
      "/home/olivier/Documents/master/mp/.venv/lib/python3.8/site-packages/sklearn/model_selection/_split.py:666: UserWarning: The least populated class in y has only 1 members, which is less than n_splits=5.\n",
      "  warnings.warn((\"The least populated class in y has only %d\"\n"
     ]
    },
    {
     "name": "stdout",
     "output_type": "stream",
     "text": [
      "[0.62357414 0.64638783 0.63117871 0.63498099 0.65648855]\n",
      "Support Vector Machine (SVM) with StratifiedKFold:\n",
      "Accuracy: 63.9% \n",
      "std_dev: 0.011615242780547838\n",
      "\n"
     ]
    }
   ],
   "source": [
    "#Perform the cross validation\n",
    "accuracy, std = cross_validate(svm_test, skf, train_set, train_labels)\n",
    "print(f\"Support Vector Machine (SVM) with StratifiedKFold:\\nAccuracy: {accuracy*100:.1f}% \\nstd_dev: {std}\\n\")"
   ]
  },
  {
   "cell_type": "markdown",
   "id": "3d8165f7",
   "metadata": {},
   "source": [
    "#### Multi Layer Perceptron (MLP)"
   ]
  },
  {
   "cell_type": "code",
   "execution_count": 37,
   "id": "5081b5d7",
   "metadata": {},
   "outputs": [],
   "source": [
    "#Create MLP estimator\n",
    "mlp_test = MLPClassifier(\n",
    "    hidden_layer_sizes=(128, 64),\n",
    "    solver='lbfgs',\n",
    "    max_iter=10_000,\n",
    "    alpha=0.1\n",
    ")"
   ]
  },
  {
   "cell_type": "code",
   "execution_count": 38,
   "id": "88848b1d",
   "metadata": {},
   "outputs": [],
   "source": [
    "#Create StratifiedKFold generator\n",
    "#5 folds with 1/5 test data and 4/5 training data to cross validate. \n",
    "#The folds have equal class distribution in this case\n",
    "skf = StratifiedKFold(n_splits=5)"
   ]
  },
  {
   "cell_type": "code",
   "execution_count": 39,
   "id": "65d9984b",
   "metadata": {
    "scrolled": true
   },
   "outputs": [
    {
     "name": "stderr",
     "output_type": "stream",
     "text": [
      "/home/olivier/Documents/master/mp/.venv/lib/python3.8/site-packages/sklearn/model_selection/_split.py:666: UserWarning: The least populated class in y has only 1 members, which is less than n_splits=5.\n",
      "  warnings.warn((\"The least populated class in y has only %d\"\n"
     ]
    },
    {
     "name": "stdout",
     "output_type": "stream",
     "text": [
      "[0.55893536 0.63117871 0.59695817 0.58174905 0.57251908]\n",
      "Multi Layer Perceptron (MLP) with StratifiedKFold:\n",
      "Accuracy: 58.8% \n",
      "std_dev: 0.024770049273297186\n",
      "\n",
      "4min 27s ± 0 ns per loop (mean ± std. dev. of 1 run, 1 loop each)\n"
     ]
    }
   ],
   "source": [
    "%%timeit -n 1 -r 1 #time cell excecution by running it only once\n",
    "#Perform the cross validation\n",
    "accuracy, std = cross_validate(mlp_test, skf, train_set, train_labels)\n",
    "print(f\"Multi Layer Perceptron (MLP) with StratifiedKFold:\\nAccuracy: {accuracy*100:.1f}% \\nstd_dev: {std}\\n\")"
   ]
  },
  {
   "cell_type": "markdown",
   "id": "5e21f1c1",
   "metadata": {},
   "source": [
    "### Testing on the test set"
   ]
  },
  {
   "cell_type": "markdown",
   "id": "32386a85",
   "metadata": {},
   "source": [
    "#### Suport Vector Machine (SVM)"
   ]
  },
  {
   "cell_type": "code",
   "execution_count": 40,
   "id": "8bb3283e",
   "metadata": {
    "scrolled": true
   },
   "outputs": [
    {
     "name": "stdout",
     "output_type": "stream",
     "text": [
      "Support Vector Machine (SVM):\n",
      "Accuracy: 66.0% \n",
      "confusion_matrix: \n",
      "[[0 0 0 ... 0 0 0]\n",
      " [0 1 0 ... 0 0 0]\n",
      " [0 0 1 ... 0 0 0]\n",
      " ...\n",
      " [0 0 0 ... 0 0 0]\n",
      " [0 0 0 ... 0 2 0]\n",
      " [0 0 0 ... 0 0 1]]\n",
      "\n"
     ]
    }
   ],
   "source": [
    "accuracy, cm = eval_performance(svm_test, train_set, train_labels, test_set, test_labels)\n",
    "print(f\"Support Vector Machine (SVM):\\nAccuracy: {accuracy*100:.1f}% \\nconfusion_matrix: \\n{cm}\\n\")"
   ]
  },
  {
   "cell_type": "markdown",
   "id": "70b15537",
   "metadata": {},
   "source": [
    "#### Multi Layer Perceptron (MLP)"
   ]
  },
  {
   "cell_type": "code",
   "execution_count": 41,
   "id": "00b011d2",
   "metadata": {
    "scrolled": true
   },
   "outputs": [
    {
     "name": "stdout",
     "output_type": "stream",
     "text": [
      "Multi Layer Perceptron:\n",
      "Accuracy: 61.7% \n",
      "confusion_matrix: \n",
      "[[0 0 0 ... 0 0 0]\n",
      " [0 0 0 ... 0 0 0]\n",
      " [0 0 0 ... 0 0 0]\n",
      " ...\n",
      " [0 0 0 ... 0 0 0]\n",
      " [0 0 0 ... 0 2 0]\n",
      " [0 0 0 ... 0 0 1]]\n",
      "\n",
      "1min 4s ± 0 ns per loop (mean ± std. dev. of 1 run, 1 loop each)\n"
     ]
    }
   ],
   "source": [
    "%%timeit -n 1 -r 1 #time cell excecution by running it only once\n",
    "accuracy, cm = eval_performance(mlp_test, train_set, train_labels, test_set, test_labels)\n",
    "print(f\"Multi Layer Perceptron:\\nAccuracy: {accuracy*100:.1f}% \\nconfusion_matrix: \\n{cm}\\n\")"
   ]
  },
  {
   "cell_type": "markdown",
   "id": "d7379133",
   "metadata": {},
   "source": [
    "## Strict Peformance Assessment \n",
    "In this section we will do the final test with a sticter test set.\n",
    "This means that every embedding in the test set is from a different origin image than every embedding from the same class in the train set.\n",
    "- Collect the split from a json file which aims to achieve a 80/20 train/test split.\n",
    "- Cross validate on the strict training set.\n",
    "- Fit on the strict training set.\n",
    "- Test on the strict testing set."
   ]
  },
  {
   "cell_type": "markdown",
   "id": "4243d3a1",
   "metadata": {},
   "source": [
    "### Train test split"
   ]
  },
  {
   "cell_type": "code",
   "execution_count": 42,
   "id": "9947a6bd",
   "metadata": {},
   "outputs": [
    {
     "name": "stdout",
     "output_type": "stream",
     "text": [
      "Amount of classes that can be used for strict testing: 187 / 406\n"
     ]
    }
   ],
   "source": [
    "json_file = Path(\"data/strict_train_test.json\")\n",
    "# Read the JSON file\n",
    "with open(json_file, \"r\") as file:\n",
    "    json_data = file.read()\n",
    "\n",
    "# Convert JSON to dictionary\n",
    "strict_train_test = json.loads(json_data)\n",
    "\n",
    "# Access the dictionary\n",
    "print(f\"Amount of classes that can be used for strict testing: {len(strict_train_test.keys())} / {len(np.unique(labels))}\")"
   ]
  },
  {
   "cell_type": "markdown",
   "id": "5e9b26cb",
   "metadata": {},
   "source": [
    "Lets set up the strict test and train set <br>\n",
    "We have a copy of embedding gallery norm in `data` and the corresponding labels are in the variable `labels`. <br>\n",
    "We have the indicis of embeddings in the gallery already determined in the json file, let's apply them to get our train and test set:"
   ]
  },
  {
   "cell_type": "code",
   "execution_count": 43,
   "id": "9129272f",
   "metadata": {},
   "outputs": [],
   "source": [
    "train_set_strict = []\n",
    "train_labels_strict = [] \n",
    "test_set_strict = []\n",
    "test_labels_strict = []\n",
    "for cls in strict_train_test.keys():\n",
    "    #Collect train queries\n",
    "    train_queries = strict_train_test[cls][\"train\"]\n",
    "    for query in train_queries:\n",
    "        idx = query[\"gallery_idx\"]\n",
    "        train_query = data[idx]\n",
    "        train_label = labels[idx]\n",
    "        train_set_strict.append(train_query)\n",
    "        train_labels_strict.append(train_label)\n",
    "    \n",
    "    #Collect test queries\n",
    "    test_queries = strict_train_test[cls][\"test\"]\n",
    "    for query in test_queries:\n",
    "        idx = query[\"gallery_idx\"]\n",
    "        test_query = data[idx]\n",
    "        test_label = labels[idx]\n",
    "        test_set_strict.append(test_query)\n",
    "        test_labels_strict.append(test_label)\n",
    "        "
   ]
  },
  {
   "cell_type": "code",
   "execution_count": 44,
   "id": "3a37185b",
   "metadata": {},
   "outputs": [],
   "source": [
    "train_set_strict = np.array(train_set_strict)\n",
    "test_set_strict = np.array(test_set_strict)"
   ]
  },
  {
   "cell_type": "code",
   "execution_count": 45,
   "id": "2b9027be",
   "metadata": {},
   "outputs": [
    {
     "name": "stdout",
     "output_type": "stream",
     "text": [
      "train set\n",
      "[[1.4262045e-03 4.2777877e-02 3.9714985e-03 ... 1.0115436e-02\n",
      "  1.0793154e-04 4.8076797e-02]\n",
      " [5.0563511e-04 2.7824637e-02 5.0977902e-03 ... 1.0805956e-02\n",
      "  0.0000000e+00 5.6268979e-02]\n",
      " [0.0000000e+00 4.1397799e-02 9.7977957e-03 ... 2.7379014e-02\n",
      "  0.0000000e+00 1.1463530e-02]\n",
      " [0.0000000e+00 2.4206109e-02 4.5599015e-03 ... 8.7565649e-03\n",
      "  2.8734694e-05 3.5576536e-03]\n",
      " [7.8416764e-05 4.2583842e-02 1.8381702e-02 ... 1.4155695e-02\n",
      "  0.0000000e+00 1.0885181e-02]] \n",
      "\n",
      "train_labels \n",
      "['CarrefourSmoothieAardbeiBlauweBessen', 'CarrefourSmoothieAardbeiBlauweBessen', 'TropicanaSanguinello', 'TropicanaSanguinello', 'TropicanaSanguinello']\n"
     ]
    }
   ],
   "source": [
    "#our training set looks like this\n",
    "print(f\"train set\\n{train_set_strict[:5]} \\n\\ntrain_labels \\n{train_labels_strict[:5]}\")"
   ]
  },
  {
   "cell_type": "code",
   "execution_count": 46,
   "id": "5269527c",
   "metadata": {},
   "outputs": [
    {
     "name": "stdout",
     "output_type": "stream",
     "text": [
      "test set\n",
      "[[7.9559709e-04 1.1600911e-02 2.4392029e-02 ... 5.4686642e-03\n",
      "  2.1046337e-05 2.8375454e-02]\n",
      " [3.2297758e-04 1.6206134e-02 2.0794634e-02 ... 3.4319926e-03\n",
      "  0.0000000e+00 1.5911538e-02]\n",
      " [1.1258312e-03 3.2389425e-02 1.4648197e-02 ... 1.4577022e-02\n",
      "  0.0000000e+00 1.0660346e-02]\n",
      " [7.5654367e-05 2.1227609e-02 2.2356678e-02 ... 8.3332304e-03\n",
      "  4.4270296e-06 1.9667687e-02]\n",
      " [1.0755257e-03 6.9134068e-05 5.3168242e-03 ... 1.9123274e-03\n",
      "  4.3884869e-04 1.8454135e-03]] \n",
      "\n",
      "test_labels \n",
      "['CarrefourSmoothieAardbeiBlauweBessen', 'CarrefourSmoothieAardbeiBlauweBessen', 'TropicanaSanguinello', 'TropicanaSanguinello', 'MonsterTheDoctor500ml']\n"
     ]
    }
   ],
   "source": [
    "#our test set looks like this\n",
    "print(f\"test set\\n{test_set_strict[:5]} \\n\\ntest_labels \\n{test_labels_strict[:5]}\")"
   ]
  },
  {
   "cell_type": "code",
   "execution_count": 47,
   "id": "071e86fe",
   "metadata": {},
   "outputs": [
    {
     "name": "stdout",
     "output_type": "stream",
     "text": [
      "Size of the training set 852\n",
      "The training set contains 74.08695652173914% of the data\n",
      "\n",
      "Size of the test set 298\n",
      "The test set contains 25.91304347826087% of the data\n"
     ]
    }
   ],
   "source": [
    "#Proportion of training data\n",
    "prop_train = (len(train_set_strict)/ (len(train_set_strict) + len(test_set_strict)) ) * 100\n",
    "#Proportion of testing data\n",
    "prop_test = (len(test_set_strict)/ (len(train_set_strict) + len(test_set_strict)) ) * 100\n",
    "print(f\"Size of the training set {len(train_set_strict)}\\nThe training set contains {prop_train}% of the data\\n\")\n",
    "print(f\"Size of the test set {len(test_set_strict)}\\nThe test set contains {prop_test}% of the data\")"
   ]
  },
  {
   "cell_type": "markdown",
   "id": "4785c1ee",
   "metadata": {},
   "source": [
    "### Cross validation on the training set"
   ]
  },
  {
   "cell_type": "markdown",
   "id": "3c6e7c58",
   "metadata": {},
   "source": [
    "#### Support Vector Machine (SVM)"
   ]
  },
  {
   "cell_type": "code",
   "execution_count": 48,
   "id": "e7dda15a",
   "metadata": {},
   "outputs": [],
   "source": [
    "#Create SVM estimator \n",
    "svm_test_strict = SVC(kernel=\"poly\", probability=True)"
   ]
  },
  {
   "cell_type": "code",
   "execution_count": 49,
   "id": "fda7bde0",
   "metadata": {},
   "outputs": [],
   "source": [
    "#Create StratifiedKFold generator\n",
    "#5 folds with 1/5 test data and 4/5 training data to cross validate. \n",
    "#The folds have equal class distribution in this case\n",
    "skf = StratifiedKFold(n_splits=5)"
   ]
  },
  {
   "cell_type": "code",
   "execution_count": 50,
   "id": "dc43aeb0",
   "metadata": {},
   "outputs": [
    {
     "name": "stderr",
     "output_type": "stream",
     "text": [
      "/home/olivier/Documents/master/mp/.venv/lib/python3.8/site-packages/sklearn/model_selection/_split.py:666: UserWarning: The least populated class in y has only 1 members, which is less than n_splits=5.\n",
      "  warnings.warn((\"The least populated class in y has only %d\"\n"
     ]
    },
    {
     "name": "stdout",
     "output_type": "stream",
     "text": [
      "[0.76608187 0.77192982 0.77058824 0.75294118 0.63529412]\n",
      "Support Vector Machine (SVM) with StratifiedKFold:\n",
      "Accuracy: 73.9% \n",
      "std_dev: 0.0524675338390943\n",
      "\n"
     ]
    }
   ],
   "source": [
    "#Perform the cross validation\n",
    "accuracy, std = cross_validate(svm_test_strict, skf, train_set_strict, train_labels_strict)\n",
    "print(f\"Support Vector Machine (SVM) with StratifiedKFold:\\nAccuracy: {accuracy*100:.1f}% \\nstd_dev: {std}\\n\")"
   ]
  },
  {
   "cell_type": "markdown",
   "id": "8730227f",
   "metadata": {},
   "source": [
    "#### Multi Layer Perceptron (MLP)"
   ]
  },
  {
   "cell_type": "code",
   "execution_count": 51,
   "id": "2444b4f8",
   "metadata": {},
   "outputs": [],
   "source": [
    "#Create MLP estimator\n",
    "mlp_test_strict = MLPClassifier(\n",
    "    hidden_layer_sizes=(256, 64),\n",
    "    solver='lbfgs',\n",
    "    max_iter=10_000\n",
    ")"
   ]
  },
  {
   "cell_type": "code",
   "execution_count": 52,
   "id": "23b5411f",
   "metadata": {},
   "outputs": [],
   "source": [
    "#Create StratifiedKFold generator\n",
    "#5 folds with 1/5 test data and 4/5 training data to cross validate. \n",
    "#The folds have equal class distribution in this case\n",
    "skf = StratifiedKFold(n_splits=5)"
   ]
  },
  {
   "cell_type": "code",
   "execution_count": 53,
   "id": "85097167",
   "metadata": {},
   "outputs": [
    {
     "name": "stderr",
     "output_type": "stream",
     "text": [
      "/home/olivier/Documents/master/mp/.venv/lib/python3.8/site-packages/sklearn/model_selection/_split.py:666: UserWarning: The least populated class in y has only 1 members, which is less than n_splits=5.\n",
      "  warnings.warn((\"The least populated class in y has only %d\"\n"
     ]
    },
    {
     "name": "stdout",
     "output_type": "stream",
     "text": [
      "[0.5497076  0.63157895 0.58823529 0.56470588 0.44117647]\n",
      "Multi Layer Perceptron (MLP) with StratifiedKFold:\n",
      "Accuracy: 55.5% \n",
      "std_dev: 0.06331966006405428\n",
      "\n"
     ]
    }
   ],
   "source": [
    "#Perform the cross validation\n",
    "accuracy, std = cross_validate(mlp_test_strict, skf, train_set_strict, train_labels_strict)\n",
    "print(f\"Multi Layer Perceptron (MLP) with StratifiedKFold:\\nAccuracy: {accuracy*100:.1f}% \\nstd_dev: {std}\\n\")"
   ]
  },
  {
   "cell_type": "markdown",
   "id": "a4047c27",
   "metadata": {},
   "source": [
    "### Testing on the strict test set"
   ]
  },
  {
   "cell_type": "markdown",
   "id": "08d6d407",
   "metadata": {},
   "source": [
    "#### Support Vector Machine (SVM)"
   ]
  },
  {
   "cell_type": "code",
   "execution_count": 54,
   "id": "911a4dbe",
   "metadata": {},
   "outputs": [
    {
     "name": "stdout",
     "output_type": "stream",
     "text": [
      "Support Vector Machine (SVM):\n",
      "Accuracy: 52.7% \n",
      "confusion_matrix: \n",
      "[[1 0 0 ... 0 0 0]\n",
      " [0 0 0 ... 0 0 0]\n",
      " [0 0 0 ... 0 0 0]\n",
      " ...\n",
      " [0 0 0 ... 1 0 0]\n",
      " [0 0 0 ... 0 2 1]\n",
      " [0 0 0 ... 0 0 1]]\n",
      "\n"
     ]
    }
   ],
   "source": [
    "accuracy, cm = eval_performance(\n",
    "    svm_test_strict, \n",
    "    train_set_strict, \n",
    "    train_labels_strict, \n",
    "    test_set_strict, \n",
    "    test_labels_strict\n",
    ")\n",
    "print(f\"Support Vector Machine (SVM):\\nAccuracy: {accuracy*100:.1f}% \\nconfusion_matrix: \\n{cm}\\n\")"
   ]
  },
  {
   "cell_type": "markdown",
   "id": "0ffc98cd",
   "metadata": {},
   "source": [
    "#### Multi Layer Perceptron (MLP)"
   ]
  },
  {
   "cell_type": "code",
   "execution_count": 55,
   "id": "96231f08",
   "metadata": {},
   "outputs": [
    {
     "name": "stdout",
     "output_type": "stream",
     "text": [
      "Multi Layer Perceptron:\n",
      "Accuracy: 31.9% \n",
      "confusion_matrix: \n",
      "[[1 0 0 ... 0 0 0]\n",
      " [0 0 0 ... 0 0 0]\n",
      " [0 0 0 ... 0 0 0]\n",
      " ...\n",
      " [0 0 0 ... 1 0 0]\n",
      " [0 0 0 ... 0 1 0]\n",
      " [0 0 0 ... 0 1 0]]\n",
      "\n"
     ]
    }
   ],
   "source": [
    "accuracy, cm = eval_performance(\n",
    "    mlp_test_strict, \n",
    "    train_set_strict, \n",
    "    train_labels_strict, \n",
    "    test_set_strict, \n",
    "    test_labels_strict\n",
    ")\n",
    "print(f\"Multi Layer Perceptron:\\nAccuracy: {accuracy*100:.1f}% \\nconfusion_matrix: \\n{cm}\\n\")"
   ]
  }
 ],
 "metadata": {
  "kernelspec": {
   "display_name": ".venv",
   "language": "python",
   "name": ".venv"
  },
  "language_info": {
   "codemirror_mode": {
    "name": "ipython",
    "version": 3
   },
   "file_extension": ".py",
   "mimetype": "text/x-python",
   "name": "python",
   "nbconvert_exporter": "python",
   "pygments_lexer": "ipython3",
   "version": "3.8.17"
  }
 },
 "nbformat": 4,
 "nbformat_minor": 5
}
