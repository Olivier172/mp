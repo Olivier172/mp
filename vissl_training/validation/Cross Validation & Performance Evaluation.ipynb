{
 "cells": [
  {
   "cell_type": "markdown",
   "id": "d3265130",
   "metadata": {},
   "source": [
    "# Cross Validation & Performance Evaluation"
   ]
  },
  {
   "cell_type": "code",
   "execution_count": 8,
   "id": "c99d1b09",
   "metadata": {},
   "outputs": [],
   "source": [
    "import torch\n",
    "import numpy as np\n",
    "import sklearn\n",
    "import matplotlib.pyplot as plt  \n",
    "import json\n",
    "from pathlib import Path"
   ]
  },
  {
   "cell_type": "code",
   "execution_count": 9,
   "id": "6571b4fc",
   "metadata": {},
   "outputs": [],
   "source": [
    "%matplotlib inline"
   ]
  },
  {
   "cell_type": "markdown",
   "id": "9dfdffe4",
   "metadata": {},
   "source": [
    "## Collecting data"
   ]
  },
  {
   "cell_type": "code",
   "execution_count": 112,
   "id": "3c71b054",
   "metadata": {},
   "outputs": [
    {
     "name": "stdout",
     "output_type": "stream",
     "text": [
      "blacklist.txt\t\t    moco32_phase0    rotnet_phase25\r\n",
      "class_occurences.json\t    moco32_phase25   rotnet_phase50\r\n",
      "gallery_paths_relative.txt  moco32_phase50   rotnet_phase75\r\n",
      "gallery_paths.txt\t    moco32_phase75   simclr\r\n",
      "imgnet_pretrained\t    moco64\t     simclr_phase0\r\n",
      "jigsaw\t\t\t    moco64_phase0    simclr_phase25\r\n",
      "jigsaw_phase0\t\t    moco64_phase25   simclr_phase50\r\n",
      "jigsaw_phase100\t\t    moco64_phase50   simclr_phase75\r\n",
      "jigsaw_phase25\t\t    moco64_phase75   strict_train_test.json\r\n",
      "jigsaw_phase50\t\t    rotnet\t     total_cross_val_log_svm.txt\r\n",
      "jigsaw_phase75\t\t    rotnet_phase0\r\n",
      "moco32\t\t\t    rotnet_phase100\r\n"
     ]
    }
   ],
   "source": [
    "#Models that are available for testing:\n",
    "!ls data/"
   ]
  },
  {
   "cell_type": "code",
   "execution_count": 11,
   "id": "9a84d89f",
   "metadata": {},
   "outputs": [
    {
     "name": "stdout",
     "output_type": "stream",
     "text": [
      "Data for model moco32 succesfully read.\n",
      "embedding_gallery size: torch.Size([1643, 2048])\n",
      "embedding_gallery_norm size: torch.Size([1643, 2048])\n",
      "labels length: 1643\n"
     ]
    }
   ],
   "source": [
    "#options rotnet, jigsaw, simclr, moco32, imgnet_pretrained\n",
    "model_name = \"moco32\" #<----------Specifiy model here!\n",
    "\n",
    "dir = Path(\"data/\" + model_name)\n",
    "\n",
    "embedding_gallery = torch.load(dir / \"embedding_gallery.torch\")\n",
    "embedding_gallery_norm = torch.load(dir / \"embedding_gallery_norm.torch\")\n",
    "labels = list()\n",
    "with open(dir / \"embedding_gallery_labels.txt\", \"r\") as f:\n",
    "    labels = f.read().splitlines()\n",
    "print(f\"Data for model {model_name} succesfully read.\\nembedding_gallery size: {embedding_gallery.shape}\\\n",
    "\\nembedding_gallery_norm size: {embedding_gallery_norm.shape}\\nlabels length: {len(labels)}\")"
   ]
  },
  {
   "cell_type": "code",
   "execution_count": 12,
   "id": "34586afb",
   "metadata": {},
   "outputs": [
    {
     "name": "stdout",
     "output_type": "stream",
     "text": [
      "embedding_gallery size: (1643, 2048) and type <class 'numpy.ndarray'>\n",
      "embedding_gallery_norm size: (1643, 2048) and type <class 'numpy.ndarray'>\n",
      "Labels with size (1643,) and type <class 'numpy.ndarray'>\n"
     ]
    }
   ],
   "source": [
    "#Convert to numpy arrays:\n",
    "embedding_gallery = embedding_gallery.numpy()\n",
    "embedding_gallery_norm = embedding_gallery_norm.numpy()\n",
    "labels = np.array(labels)\n",
    "print(f\"embedding_gallery size: {embedding_gallery.shape} and type {type(embedding_gallery)}\\\n",
    "\\nembedding_gallery_norm size: {embedding_gallery_norm.shape} and type {type(embedding_gallery_norm)}\\\n",
    "\\nLabels with size {labels.shape} and type {type(labels)}\")"
   ]
  },
  {
   "cell_type": "markdown",
   "id": "9f31c8c0",
   "metadata": {},
   "source": [
    "## Modelling"
   ]
  },
  {
   "cell_type": "code",
   "execution_count": 13,
   "id": "e183256d",
   "metadata": {},
   "outputs": [],
   "source": [
    "from sklearn.svm import SVC\n",
    "from sklearn.neural_network import MLPClassifier\n",
    "from sklearn.neighbors import KNeighborsClassifier\n",
    "from sklearn.tree import DecisionTreeClassifier\n",
    "from sklearn.model_selection import train_test_split"
   ]
  },
  {
   "cell_type": "markdown",
   "id": "2bc94144",
   "metadata": {},
   "source": [
    "Let's test the performance of a support vector machine (SVM) and a multi layer perceptron (MLP) on the entire data:"
   ]
  },
  {
   "cell_type": "code",
   "execution_count": 14,
   "id": "a0abfdff",
   "metadata": {},
   "outputs": [],
   "source": [
    "#Create SVM estimator \n",
    "svm_overfit = SVC(kernel=\"poly\")"
   ]
  },
  {
   "cell_type": "code",
   "execution_count": 15,
   "id": "ec450eb3",
   "metadata": {},
   "outputs": [],
   "source": [
    "#Create MLP estimator\n",
    "mlp_overfit = MLPClassifier(\n",
    "    hidden_layer_sizes=(256, 64),\n",
    "    solver='lbfgs',\n",
    "    max_iter=10_000\n",
    ")"
   ]
  },
  {
   "cell_type": "code",
   "execution_count": 16,
   "id": "753bf709",
   "metadata": {},
   "outputs": [],
   "source": [
    "#the dat to train/fit on \n",
    "data = embedding_gallery_norm.copy()\n",
    "#labels are already in a numpy array called \"labels\""
   ]
  },
  {
   "cell_type": "markdown",
   "id": "7afd682f",
   "metadata": {},
   "source": [
    "Training/fitting on the data and labels:"
   ]
  },
  {
   "cell_type": "code",
   "execution_count": 17,
   "id": "27a7affe",
   "metadata": {},
   "outputs": [
    {
     "data": {
      "text/plain": [
       "SVC(kernel='poly')"
      ]
     },
     "execution_count": 17,
     "metadata": {},
     "output_type": "execute_result"
    }
   ],
   "source": [
    "#train SVM\n",
    "svm_overfit.fit(data, labels)"
   ]
  },
  {
   "cell_type": "code",
   "execution_count": 18,
   "id": "13d02059",
   "metadata": {},
   "outputs": [
    {
     "data": {
      "text/plain": [
       "MLPClassifier(hidden_layer_sizes=(256, 64), max_iter=10000, solver='lbfgs')"
      ]
     },
     "execution_count": 18,
     "metadata": {},
     "output_type": "execute_result"
    }
   ],
   "source": [
    "#train MLP\n",
    "mlp_overfit.fit(data, labels)"
   ]
  },
  {
   "cell_type": "markdown",
   "id": "49be5903",
   "metadata": {},
   "source": [
    "Evaluate on the same data (this is overfitting, but should yield high results and verify that the data is correct)"
   ]
  },
  {
   "cell_type": "code",
   "execution_count": 19,
   "id": "a820e0b3",
   "metadata": {},
   "outputs": [
    {
     "name": "stdout",
     "output_type": "stream",
     "text": [
      "Accuracy svm: 99.9%\n",
      "\n"
     ]
    }
   ],
   "source": [
    "#evaluate SVM\n",
    "accuracy = svm_overfit.score(data, labels) \n",
    "print(f\"Accuracy svm: {accuracy*100:.1f}%\\n\")"
   ]
  },
  {
   "cell_type": "code",
   "execution_count": 20,
   "id": "3da3dfcc",
   "metadata": {},
   "outputs": [
    {
     "name": "stdout",
     "output_type": "stream",
     "text": [
      "Accuracy mlp: 100.0%\n",
      "\n"
     ]
    }
   ],
   "source": [
    "#evaluate MLP\n",
    "accuracy = mlp_overfit.score(data, labels) \n",
    "print(f\"Accuracy mlp: {accuracy*100:.1f}%\\n\")"
   ]
  },
  {
   "cell_type": "markdown",
   "id": "f56fb2dc",
   "metadata": {},
   "source": [
    "## cross validation"
   ]
  },
  {
   "cell_type": "code",
   "execution_count": 21,
   "id": "077b0525",
   "metadata": {},
   "outputs": [],
   "source": [
    "from sklearn.model_selection import cross_val_score\n",
    "from sklearn.model_selection import KFold, StratifiedKFold, ShuffleSplit, StratifiedShuffleSplit"
   ]
  },
  {
   "cell_type": "code",
   "execution_count": 22,
   "id": "b0d6a82e",
   "metadata": {},
   "outputs": [],
   "source": [
    "def cross_validate(classifier, fold, data, labels):\n",
    "    \"\"\"\n",
    "    Performs a cross validation for the classifier with a train test split\n",
    "    according to fold generator.\n",
    "    \n",
    "    Args:\n",
    "        classifier: the classifier to cross validate.\n",
    "        fold: the generator to use for train-test splits.\n",
    "        data: the embedding gallery to train/test on.\n",
    "        labels: the ground truth labels per row for the gallery.\n",
    "        \n",
    "    Returns:\n",
    "        The mean accuracy score from the cross validation rounds and\n",
    "        the standard deviation of the scores.\n",
    "    \"\"\"\n",
    "    #cross validation generator\n",
    "    cv = fold.split(data, y=labels)\n",
    "\n",
    "    #calc cross validation\n",
    "    scores = cross_val_score(\n",
    "        classifier,   #the estimator/classifier\n",
    "        data,         #data \n",
    "        y=labels,     #targets\n",
    "        cv=cv         #generator for array indicis in data that select a certain split out of \"data\"\n",
    "    )\n",
    "    print(scores)\n",
    "    accuracy = scores.mean()\n",
    "    std = scores.std()\n",
    "    return accuracy, std"
   ]
  },
  {
   "cell_type": "markdown",
   "id": "a21caf16",
   "metadata": {},
   "source": [
    "Now let's create an svm and mlp that we don't overfit. We will test it's ability to generalize by performing cross validation."
   ]
  },
  {
   "cell_type": "code",
   "execution_count": 23,
   "id": "3bff2ab9",
   "metadata": {},
   "outputs": [],
   "source": [
    "#Create SVM estimator \n",
    "svm_cross = SVC(kernel=\"poly\")"
   ]
  },
  {
   "cell_type": "code",
   "execution_count": 24,
   "id": "f50f86d4",
   "metadata": {},
   "outputs": [],
   "source": [
    "#Create MLP estimator\n",
    "mlp_cross = MLPClassifier(\n",
    "    hidden_layer_sizes=(256, 64),\n",
    "    solver='lbfgs',\n",
    "    max_iter=10_000\n",
    ")"
   ]
  },
  {
   "cell_type": "markdown",
   "id": "61993edb",
   "metadata": {},
   "source": [
    "Create cross validation generators for train-test splits:"
   ]
  },
  {
   "cell_type": "code",
   "execution_count": 25,
   "id": "4f039e50",
   "metadata": {},
   "outputs": [
    {
     "name": "stdout",
     "output_type": "stream",
     "text": [
      "Generator/iterator used: KFold\n",
      "Fold 0:\n",
      "  Train: index[:5] [329 330 331 332 333] with shape(1314,)\n",
      "  Test:  index[:5] [0 1 2 3 4] with shape(329,)\n",
      "Fold 1:\n",
      "  Train: index[:5] [0 1 2 3 4] with shape(1314,)\n",
      "  Test:  index[:5] [329 330 331 332 333] with shape(329,)\n",
      "Fold 2:\n",
      "  Train: index[:5] [0 1 2 3 4] with shape(1314,)\n",
      "  Test:  index[:5] [658 659 660 661 662] with shape(329,)\n",
      "Fold 3:\n",
      "  Train: index[:5] [0 1 2 3 4] with shape(1315,)\n",
      "  Test:  index[:5] [987 988 989 990 991] with shape(328,)\n",
      "Fold 4:\n",
      "  Train: index[:5] [0 1 2 3 4] with shape(1315,)\n",
      "  Test:  index[:5] [1315 1316 1317 1318 1319] with shape(328,)\n",
      "\n",
      "Generator/iterator used: StratifiedKFold\n",
      "Fold 0:\n",
      "  Train: index[:5] [1 2 3 5 6] with shape(1314,)\n",
      "  Test:  index[:5] [ 0  4  8 11 20] with shape(329,)\n",
      "Fold 1:\n",
      "  Train: index[:5] [0 2 3 4 6] with shape(1314,)\n",
      "  Test:  index[:5] [ 1  5 12 16 22] with shape(329,)\n",
      "Fold 2:\n",
      "  Train: index[:5] [0 1 3 4 5] with shape(1314,)\n",
      "  Test:  index[:5] [ 2  6 13 17 23] with shape(329,)\n",
      "Fold 3:\n",
      "  Train: index[:5] [0 1 2 4 5] with shape(1315,)\n",
      "  Test:  index[:5] [ 3  9 14 18 24] with shape(328,)\n",
      "Fold 4:\n",
      "  Train: index[:5] [0 1 2 3 4] with shape(1315,)\n",
      "  Test:  index[:5] [ 7 10 15 19 25] with shape(328,)\n",
      "\n",
      "Generator/iterator used: ShuffleSplit\n",
      "Fold 0:\n",
      "  Train: index[:5] [1157  651  289  864  823] with shape(1314,)\n",
      "  Test:  index[:5] [1573 1249 1226 1566  657] with shape(329,)\n",
      "Fold 1:\n",
      "  Train: index[:5] [ 675  572  334  948 1034] with shape(1314,)\n",
      "  Test:  index[:5] [1184 1399  583 1081  742] with shape(329,)\n",
      "Fold 2:\n",
      "  Train: index[:5] [1432   63  129  686  428] with shape(1314,)\n",
      "  Test:  index[:5] [1171    4  769  413  324] with shape(329,)\n",
      "Fold 3:\n",
      "  Train: index[:5] [1248  528 1535  757 1398] with shape(1314,)\n",
      "  Test:  index[:5] [ 119  521 1307  538   98] with shape(329,)\n",
      "Fold 4:\n",
      "  Train: index[:5] [1423 1377  543  402  835] with shape(1314,)\n",
      "  Test:  index[:5] [ 488 1400  604  725  234] with shape(329,)\n",
      "\n"
     ]
    },
    {
     "name": "stderr",
     "output_type": "stream",
     "text": [
      "/home/olivier/Documents/master/mp/.venv/lib/python3.8/site-packages/sklearn/model_selection/_split.py:666: UserWarning: The least populated class in y has only 1 members, which is less than n_splits=5.\n",
      "  warnings.warn((\"The least populated class in y has only %d\"\n"
     ]
    }
   ],
   "source": [
    "iterators = { \n",
    "    \"KFold\" : KFold(n_splits=5), \n",
    "    \"StratifiedKFold\" : StratifiedKFold(n_splits=5), \n",
    "    \"ShuffleSplit\" : ShuffleSplit(n_splits=5, test_size=0.2, random_state=0)\n",
    "}\n",
    "\n",
    "for k in iterators.keys():\n",
    "    print(f\"Generator/iterator used: {k}\")\n",
    "    iterator = iterators[k]\n",
    "    for i, (train_index, test_index) in enumerate(iterator.split(data, y=labels)):\n",
    "        print(f\"Fold {i}:\")\n",
    "        print(f\"  Train: index[:5] {train_index[:5]} with shape{train_index.shape}\")\n",
    "        print(f\"  Test:  index[:5] {test_index[:5]} with shape{test_index.shape}\")\n",
    "    print()"
   ]
  },
  {
   "cell_type": "code",
   "execution_count": 26,
   "id": "7f88c4d1",
   "metadata": {},
   "outputs": [],
   "source": [
    "#Create KFold generator\n",
    "#5 folds with 1/5 test data and 4/5 training data to cross validate\n",
    "kf = KFold(n_splits=5)"
   ]
  },
  {
   "cell_type": "code",
   "execution_count": 27,
   "id": "91d5ded8",
   "metadata": {},
   "outputs": [],
   "source": [
    "#Create StratifiedKFold generator\n",
    "#5 folds with 1/5 test data and 4/5 training data to cross validate. \n",
    "#The folds have equal class distribution in this case\n",
    "skf = StratifiedKFold(n_splits=5)"
   ]
  },
  {
   "cell_type": "code",
   "execution_count": 28,
   "id": "93e57e4a",
   "metadata": {},
   "outputs": [],
   "source": [
    "#Create ShuffleSplit generator\n",
    "#samples are shuffled and then split up in a test and train set\n",
    "ss = ShuffleSplit(n_splits=5, test_size=0.2, random_state=0)"
   ]
  },
  {
   "cell_type": "markdown",
   "id": "38333d77",
   "metadata": {},
   "source": [
    "Perform the cross validations on svm and mlp"
   ]
  },
  {
   "cell_type": "markdown",
   "id": "a5822376",
   "metadata": {},
   "source": [
    "### SVM cross validation"
   ]
  },
  {
   "cell_type": "code",
   "execution_count": 30,
   "id": "56756c07",
   "metadata": {},
   "outputs": [
    {
     "name": "stdout",
     "output_type": "stream",
     "text": [
      "[0.         0.         0.01823708 0.01829268 0.        ]\n",
      "Support Vector Machine (SVM) with KFold:\n",
      "Accuracy: 0.7% \n",
      "std_dev: 0.008947945740517962\n",
      "\n"
     ]
    }
   ],
   "source": [
    "#with KFold\n",
    "accuracy, std = cross_validate(svm_cross, kf, data, labels)\n",
    "print(f\"Support Vector Machine (SVM) with KFold:\\nAccuracy: {accuracy*100:.1f}% \\nstd_dev: {std}\\n\")"
   ]
  },
  {
   "cell_type": "code",
   "execution_count": 31,
   "id": "de979f0e",
   "metadata": {},
   "outputs": [
    {
     "name": "stderr",
     "output_type": "stream",
     "text": [
      "/home/olivier/Documents/master/mp/.venv/lib/python3.8/site-packages/sklearn/model_selection/_split.py:666: UserWarning: The least populated class in y has only 1 members, which is less than n_splits=5.\n",
      "  warnings.warn((\"The least populated class in y has only %d\"\n"
     ]
    },
    {
     "name": "stdout",
     "output_type": "stream",
     "text": [
      "[0.68085106 0.68389058 0.65957447 0.69817073 0.66158537]\n",
      "Support Vector Machine (SVM) with StratifiedKFold:\n",
      "Accuracy: 67.7% \n",
      "std_dev: 0.014502403803775064\n",
      "\n"
     ]
    }
   ],
   "source": [
    "#with StratifiedKFold\n",
    "accuracy, std = cross_validate(svm_cross, skf, data, labels)\n",
    "print(f\"Support Vector Machine (SVM) with StratifiedKFold:\\nAccuracy: {accuracy*100:.1f}% \\nstd_dev: {std}\\n\")"
   ]
  },
  {
   "cell_type": "code",
   "execution_count": 32,
   "id": "7dd0995e",
   "metadata": {},
   "outputs": [
    {
     "name": "stdout",
     "output_type": "stream",
     "text": [
      "[0.63829787 0.59878419 0.66869301 0.61702128 0.66261398]\n",
      "Support Vector Machine (SVM) with ShuffleSplit:\n",
      "Accuracy: 63.7% \n",
      "std_dev: 0.026539671675310714\n",
      "\n"
     ]
    }
   ],
   "source": [
    "#with ShuffleSplit\n",
    "accuracy, std = cross_validate(svm_cross, ss, data, labels)\n",
    "print(f\"Support Vector Machine (SVM) with ShuffleSplit:\\nAccuracy: {accuracy*100:.1f}% \\nstd_dev: {std}\\n\")"
   ]
  },
  {
   "cell_type": "markdown",
   "id": "95b825ce",
   "metadata": {},
   "source": [
    "### MLP cross validation"
   ]
  },
  {
   "cell_type": "code",
   "execution_count": 33,
   "id": "e0570c0c",
   "metadata": {},
   "outputs": [
    {
     "name": "stdout",
     "output_type": "stream",
     "text": [
      "[0.         0.         0.01519757 0.01829268 0.00609756]\n",
      "Multi Layer Perceptron (MLP) with KFold:\n",
      "Accuracy: 0.8% \n",
      "std_dev: 0.007606965321960141\n",
      "\n"
     ]
    }
   ],
   "source": [
    "#with KFold\n",
    "accuracy, std = cross_validate(mlp_cross, kf, data, labels)\n",
    "print(f\"Multi Layer Perceptron (MLP) with KFold:\\nAccuracy: {accuracy*100:.1f}% \\nstd_dev: {std}\\n\")"
   ]
  },
  {
   "cell_type": "code",
   "execution_count": 34,
   "id": "7c51ec16",
   "metadata": {},
   "outputs": [
    {
     "name": "stderr",
     "output_type": "stream",
     "text": [
      "/home/olivier/Documents/master/mp/.venv/lib/python3.8/site-packages/sklearn/model_selection/_split.py:666: UserWarning: The least populated class in y has only 1 members, which is less than n_splits=5.\n",
      "  warnings.warn((\"The least populated class in y has only %d\"\n"
     ]
    },
    {
     "name": "stdout",
     "output_type": "stream",
     "text": [
      "[0.50455927 0.50151976 0.49240122 0.53353659 0.5       ]\n",
      "Multi Layer Perceptron (MLP) with StratifiedKFold:\n",
      "Accuracy: 50.6% \n",
      "std_dev: 0.014145849044475375\n",
      "\n"
     ]
    }
   ],
   "source": [
    "#with StratifiedKFold\n",
    "accuracy, std = cross_validate(mlp_cross, skf, data, labels)\n",
    "print(f\"Multi Layer Perceptron (MLP) with StratifiedKFold:\\nAccuracy: {accuracy*100:.1f}% \\nstd_dev: {std}\\n\")"
   ]
  },
  {
   "cell_type": "code",
   "execution_count": 35,
   "id": "f76a8335",
   "metadata": {},
   "outputs": [
    {
     "name": "stdout",
     "output_type": "stream",
     "text": [
      "[0.49544073 0.43465046 0.46808511 0.44984802 0.49848024]\n",
      "Multi Layer Perceptron (MLP) with ShuffleSplit:\n",
      "Accuracy: 46.9% \n",
      "std_dev: 0.024961051875559654\n",
      "\n"
     ]
    }
   ],
   "source": [
    "#with ShuffleSplit\n",
    "accuracy, std = cross_validate(mlp_cross, ss, data, labels)\n",
    "print(f\"Multi Layer Perceptron (MLP) with ShuffleSplit:\\nAccuracy: {accuracy*100:.1f}% \\nstd_dev: {std}\\n\")"
   ]
  },
  {
   "cell_type": "markdown",
   "id": "cfddfbc0",
   "metadata": {},
   "source": [
    "## Performance Assessment \n",
    "In this section we will do the final test.\n",
    "- Split up the data from cornershop in train (80%) and test (20%) data.\n",
    "- Cross validate on the training set.\n",
    "- Fit on the training set.\n",
    "- Test on the testing set."
   ]
  },
  {
   "cell_type": "code",
   "execution_count": 36,
   "id": "ab9b2310",
   "metadata": {},
   "outputs": [],
   "source": [
    "from sklearn.metrics import confusion_matrix"
   ]
  },
  {
   "cell_type": "code",
   "execution_count": 133,
   "id": "64fdbbcd",
   "metadata": {},
   "outputs": [],
   "source": [
    "def eval_performance(classifier, train_set, train_labels, test_set, test_labels):\n",
    "    \"\"\"\n",
    "    Evaluate performance for the given estimator/classifier.\n",
    "    Performance is measured by:\n",
    "        -Training on the train_set and train_labels\n",
    "        -Measuring accuracy for classification on the test_set with the test_labels\n",
    "        -Calculate a confusion matrix\n",
    "    \n",
    "    Args:\n",
    "        classifier : the classifier to evaluate.\n",
    "        train_set (np.ndarray): the data to train on.\n",
    "        train_labels (np.ndarray): ground truth for training data.\n",
    "        test_set (np.ndarray): the data to test on.\n",
    "        test_labels (np.ndarray): ground truth for testing data.\n",
    "        \n",
    "    Returns:\n",
    "        accuracy : accuracy score from predictions on test set.\n",
    "        cm: The confusion matrix.\n",
    "    \"\"\"\n",
    "    #train on training set\n",
    "    classifier.fit(train_set, train_labels) #retrain on training set\n",
    "    \n",
    "    #Calculate accuracy\n",
    "    accuracy = classifier.score(test_set, test_labels) #calc acc score on testing set\n",
    "    \n",
    "    #Calculate confusion matrix\n",
    "    y_true = test_labels.copy() #Ground truth\n",
    "    y_pred = classifier.predict(test_set) #Predictions made by classifier\n",
    "    proba = classifier.predict_proba(test_set)\n",
    "    cls = classifier.classes_\n",
    "    print(f\"shape proba is {proba.shape}\\n examples {proba[:4]}\")\n",
    "    print(f\"sgapr classes {cls.shape}, examples {cls[:4]}\")\n",
    "    print(f\"shape test is {test_set.shape}\\n examples {test_set[:4]}\")\n",
    "    print(f\"amount of classes in test set {len(np.unique(test_labels))}\\n\")\n",
    "    print(f\"shape y_pred is {y_pred.shape}\\n examples {y_pred[:4]}\")\n",
    "    #compute confusion matrix\n",
    "    cm = confusion_matrix(y_true=y_true, y_pred=y_pred)\n",
    "    #predicted class is the column nr, ground truth is the row nr\n",
    "    #correct classifications can be found on the diagonal\n",
    "\n",
    "    return accuracy, cm"
   ]
  },
  {
   "cell_type": "markdown",
   "id": "734298c7",
   "metadata": {},
   "source": [
    "### Train test split"
   ]
  },
  {
   "cell_type": "code",
   "execution_count": 38,
   "id": "7a1440ea",
   "metadata": {},
   "outputs": [],
   "source": [
    "train_set, test_set, train_labels, test_labels= train_test_split(\n",
    "    data,          #data\n",
    "    labels,        #targets\n",
    "    test_size=0.2, #20% test set, 80% train set\n",
    "    random_state=0 #for reproducable results of the random shuffling\n",
    ")"
   ]
  },
  {
   "cell_type": "code",
   "execution_count": 39,
   "id": "dbdc85da",
   "metadata": {
    "scrolled": true
   },
   "outputs": [
    {
     "name": "stdout",
     "output_type": "stream",
     "text": [
      "train set\n",
      "[[0.00321136 0.00841789 0.05054085 ... 0.03530409 0.00102438 0.00746608]\n",
      " [0.01080993 0.00357842 0.01950858 ... 0.0003655  0.06982455 0.01050694]\n",
      " [0.00248981 0.01997812 0.01807643 ... 0.00262832 0.00243357 0.03383429]\n",
      " [0.0145637  0.01752637 0.07955744 ... 0.0202774  0.02037295 0.00243272]\n",
      " [0.         0.00439621 0.06531136 ... 0.01296624 0.00114474 0.01572978]] \n",
      "\n",
      "train_labels \n",
      "['MayTeaFramboos1L' 'MonsterPipelinePunch500ml' 'AquariusOrangeFles'\n",
      " 'MonsterUltra' 'PepsiMax']\n"
     ]
    }
   ],
   "source": [
    "#our training set looks like this\n",
    "print(f\"train set\\n{train_set[:5]} \\n\\ntrain_labels \\n{train_labels[:5]}\")"
   ]
  },
  {
   "cell_type": "code",
   "execution_count": 40,
   "id": "2fabcc1e",
   "metadata": {},
   "outputs": [
    {
     "name": "stdout",
     "output_type": "stream",
     "text": [
      "test set\n",
      "[[0.0005955  0.00680962 0.05895904 ... 0.00571111 0.00180996 0.02855435]\n",
      " [0.00060103 0.00371083 0.035034   ... 0.00371111 0.00138724 0.        ]\n",
      " [0.00717704 0.04115137 0.00825775 ... 0.00291343 0.00351391 0.00569196]\n",
      " [0.00124589 0.00510044 0.0362666  ... 0.03395296 0.00128892 0.02288807]\n",
      " [0.00989329 0.00909252 0.0198362  ... 0.00070526 0.00130978 0.04417973]] \n",
      "\n",
      "test_labels \n",
      "['InnocentOrangeWithBits' 'CapriSun' 'MonsterPunchEnergy500ml'\n",
      " 'NaluOriginal6x350ml' 'StellaBlik50cl']\n"
     ]
    }
   ],
   "source": [
    "#our test set looks like this\n",
    "print(f\"test set\\n{test_set[:5]} \\n\\ntest_labels \\n{test_labels[:5]}\")"
   ]
  },
  {
   "cell_type": "code",
   "execution_count": 41,
   "id": "7a0cc700",
   "metadata": {},
   "outputs": [
    {
     "name": "stdout",
     "output_type": "stream",
     "text": [
      "Size of the training set 1314\n",
      "The training set contains 79.97565429093122% of the data\n",
      "\n",
      "Size of the test set 329\n",
      "The test set contains 20.02434570906878% of the data\n"
     ]
    }
   ],
   "source": [
    "#Proportion of training data\n",
    "prop_train = (len(train_set)/ len(embedding_gallery_norm) ) * 100\n",
    "#Proportion of testing data\n",
    "prop_test = (len(test_set)/ len(embedding_gallery_norm) ) * 100\n",
    "print(f\"Size of the training set {len(train_set)}\\nThe training set contains {prop_train}% of the data\\n\")\n",
    "print(f\"Size of the test set {len(test_set)}\\nThe test set contains {prop_test}% of the data\")"
   ]
  },
  {
   "cell_type": "markdown",
   "id": "af39785d",
   "metadata": {},
   "source": [
    "### Cross validation on the training set"
   ]
  },
  {
   "cell_type": "markdown",
   "id": "78382816",
   "metadata": {},
   "source": [
    "#### Support Vector Machine (SVM)"
   ]
  },
  {
   "cell_type": "code",
   "execution_count": 120,
   "id": "5e50873b",
   "metadata": {},
   "outputs": [],
   "source": [
    "#Create SVM estimator \n",
    "svm_test = SVC(kernel=\"poly\", probability=True)"
   ]
  },
  {
   "cell_type": "code",
   "execution_count": 121,
   "id": "718ee4fd",
   "metadata": {},
   "outputs": [],
   "source": [
    "#Create StratifiedKFold generator\n",
    "#5 folds with 1/5 test data and 4/5 training data to cross validate. \n",
    "#The folds have equal class distribution in this case\n",
    "skf = StratifiedKFold(n_splits=5)"
   ]
  },
  {
   "cell_type": "code",
   "execution_count": 122,
   "id": "2b90f1cb",
   "metadata": {},
   "outputs": [
    {
     "name": "stderr",
     "output_type": "stream",
     "text": [
      "/home/olivier/Documents/master/mp/.venv/lib/python3.8/site-packages/sklearn/model_selection/_split.py:666: UserWarning: The least populated class in y has only 1 members, which is less than n_splits=5.\n",
      "  warnings.warn((\"The least populated class in y has only %d\"\n"
     ]
    },
    {
     "name": "stdout",
     "output_type": "stream",
     "text": [
      "[0.58174905 0.65019011 0.61977186 0.62737643 0.63358779]\n",
      "Support Vector Machine (SVM) with StratifiedKFold:\n",
      "Accuracy: 62.3% \n",
      "std_dev: 0.02272240089381588\n",
      "\n"
     ]
    }
   ],
   "source": [
    "#Perform the cross validation\n",
    "accuracy, std = cross_validate(svm_test, skf, train_set, train_labels)\n",
    "print(f\"Support Vector Machine (SVM) with StratifiedKFold:\\nAccuracy: {accuracy*100:.1f}% \\nstd_dev: {std}\\n\")"
   ]
  },
  {
   "cell_type": "markdown",
   "id": "3d8165f7",
   "metadata": {},
   "source": [
    "#### Multi Layer Perceptron (MLP)"
   ]
  },
  {
   "cell_type": "code",
   "execution_count": 45,
   "id": "5081b5d7",
   "metadata": {},
   "outputs": [],
   "source": [
    "#Create MLP estimator\n",
    "mlp_test = MLPClassifier(\n",
    "    hidden_layer_sizes=(256, 64),\n",
    "    solver='lbfgs',\n",
    "    max_iter=10_000\n",
    ")"
   ]
  },
  {
   "cell_type": "code",
   "execution_count": 46,
   "id": "88848b1d",
   "metadata": {},
   "outputs": [],
   "source": [
    "#Create StratifiedKFold generator\n",
    "#5 folds with 1/5 test data and 4/5 training data to cross validate. \n",
    "#The folds have equal class distribution in this case\n",
    "skf = StratifiedKFold(n_splits=5)"
   ]
  },
  {
   "cell_type": "code",
   "execution_count": 125,
   "id": "65d9984b",
   "metadata": {},
   "outputs": [
    {
     "name": "stderr",
     "output_type": "stream",
     "text": [
      "/home/olivier/Documents/master/mp/.venv/lib/python3.8/site-packages/sklearn/model_selection/_split.py:666: UserWarning: The least populated class in y has only 1 members, which is less than n_splits=5.\n",
      "  warnings.warn((\"The least populated class in y has only %d\"\n"
     ]
    },
    {
     "ename": "KeyboardInterrupt",
     "evalue": "",
     "output_type": "error",
     "traceback": [
      "\u001b[0;31m---------------------------------------------------------------------------\u001b[0m",
      "\u001b[0;31mKeyboardInterrupt\u001b[0m                         Traceback (most recent call last)",
      "Cell \u001b[0;32mIn[125], line 2\u001b[0m\n\u001b[1;32m      1\u001b[0m \u001b[38;5;66;03m#Perform the cross validation\u001b[39;00m\n\u001b[0;32m----> 2\u001b[0m accuracy, std \u001b[38;5;241m=\u001b[39m \u001b[43mcross_validate\u001b[49m\u001b[43m(\u001b[49m\u001b[43mmlp_test\u001b[49m\u001b[43m,\u001b[49m\u001b[43m \u001b[49m\u001b[43mskf\u001b[49m\u001b[43m,\u001b[49m\u001b[43m \u001b[49m\u001b[43mtrain_set\u001b[49m\u001b[43m,\u001b[49m\u001b[43m \u001b[49m\u001b[43mtrain_labels\u001b[49m\u001b[43m)\u001b[49m\n\u001b[1;32m      3\u001b[0m \u001b[38;5;28mprint\u001b[39m(\u001b[38;5;124mf\u001b[39m\u001b[38;5;124m\"\u001b[39m\u001b[38;5;124mMulti Layer Perceptron (MLP) with StratifiedKFold:\u001b[39m\u001b[38;5;130;01m\\n\u001b[39;00m\u001b[38;5;124mAccuracy: \u001b[39m\u001b[38;5;132;01m{\u001b[39;00maccuracy\u001b[38;5;241m*\u001b[39m\u001b[38;5;241m100\u001b[39m\u001b[38;5;132;01m:\u001b[39;00m\u001b[38;5;124m.1f\u001b[39m\u001b[38;5;132;01m}\u001b[39;00m\u001b[38;5;124m% \u001b[39m\u001b[38;5;130;01m\\n\u001b[39;00m\u001b[38;5;124mstd_dev: \u001b[39m\u001b[38;5;132;01m{\u001b[39;00mstd\u001b[38;5;132;01m}\u001b[39;00m\u001b[38;5;130;01m\\n\u001b[39;00m\u001b[38;5;124m\"\u001b[39m)\n",
      "Cell \u001b[0;32mIn[22], line 20\u001b[0m, in \u001b[0;36mcross_validate\u001b[0;34m(classifier, fold, data, labels)\u001b[0m\n\u001b[1;32m     17\u001b[0m cv \u001b[38;5;241m=\u001b[39m fold\u001b[38;5;241m.\u001b[39msplit(data, y\u001b[38;5;241m=\u001b[39mlabels)\n\u001b[1;32m     19\u001b[0m \u001b[38;5;66;03m#calc cross validation\u001b[39;00m\n\u001b[0;32m---> 20\u001b[0m scores \u001b[38;5;241m=\u001b[39m \u001b[43mcross_val_score\u001b[49m\u001b[43m(\u001b[49m\n\u001b[1;32m     21\u001b[0m \u001b[43m    \u001b[49m\u001b[43mclassifier\u001b[49m\u001b[43m,\u001b[49m\u001b[43m   \u001b[49m\u001b[38;5;66;43;03m#the estimator/classifier\u001b[39;49;00m\n\u001b[1;32m     22\u001b[0m \u001b[43m    \u001b[49m\u001b[43mdata\u001b[49m\u001b[43m,\u001b[49m\u001b[43m         \u001b[49m\u001b[38;5;66;43;03m#data \u001b[39;49;00m\n\u001b[1;32m     23\u001b[0m \u001b[43m    \u001b[49m\u001b[43my\u001b[49m\u001b[38;5;241;43m=\u001b[39;49m\u001b[43mlabels\u001b[49m\u001b[43m,\u001b[49m\u001b[43m     \u001b[49m\u001b[38;5;66;43;03m#targets\u001b[39;49;00m\n\u001b[1;32m     24\u001b[0m \u001b[43m    \u001b[49m\u001b[43mcv\u001b[49m\u001b[38;5;241;43m=\u001b[39;49m\u001b[43mcv\u001b[49m\u001b[43m         \u001b[49m\u001b[38;5;66;43;03m#generator for array indicis in data that select a certain split out of \"data\"\u001b[39;49;00m\n\u001b[1;32m     25\u001b[0m \u001b[43m\u001b[49m\u001b[43m)\u001b[49m\n\u001b[1;32m     26\u001b[0m \u001b[38;5;28mprint\u001b[39m(scores)\n\u001b[1;32m     27\u001b[0m accuracy \u001b[38;5;241m=\u001b[39m scores\u001b[38;5;241m.\u001b[39mmean()\n",
      "File \u001b[0;32m~/Documents/master/mp/.venv/lib/python3.8/site-packages/sklearn/utils/validation.py:63\u001b[0m, in \u001b[0;36m_deprecate_positional_args.<locals>._inner_deprecate_positional_args.<locals>.inner_f\u001b[0;34m(*args, **kwargs)\u001b[0m\n\u001b[1;32m     61\u001b[0m extra_args \u001b[38;5;241m=\u001b[39m \u001b[38;5;28mlen\u001b[39m(args) \u001b[38;5;241m-\u001b[39m \u001b[38;5;28mlen\u001b[39m(all_args)\n\u001b[1;32m     62\u001b[0m \u001b[38;5;28;01mif\u001b[39;00m extra_args \u001b[38;5;241m<\u001b[39m\u001b[38;5;241m=\u001b[39m \u001b[38;5;241m0\u001b[39m:\n\u001b[0;32m---> 63\u001b[0m     \u001b[38;5;28;01mreturn\u001b[39;00m \u001b[43mf\u001b[49m\u001b[43m(\u001b[49m\u001b[38;5;241;43m*\u001b[39;49m\u001b[43margs\u001b[49m\u001b[43m,\u001b[49m\u001b[43m \u001b[49m\u001b[38;5;241;43m*\u001b[39;49m\u001b[38;5;241;43m*\u001b[39;49m\u001b[43mkwargs\u001b[49m\u001b[43m)\u001b[49m\n\u001b[1;32m     65\u001b[0m \u001b[38;5;66;03m# extra_args > 0\u001b[39;00m\n\u001b[1;32m     66\u001b[0m args_msg \u001b[38;5;241m=\u001b[39m [\u001b[38;5;124m'\u001b[39m\u001b[38;5;132;01m{}\u001b[39;00m\u001b[38;5;124m=\u001b[39m\u001b[38;5;132;01m{}\u001b[39;00m\u001b[38;5;124m'\u001b[39m\u001b[38;5;241m.\u001b[39mformat(name, arg)\n\u001b[1;32m     67\u001b[0m             \u001b[38;5;28;01mfor\u001b[39;00m name, arg \u001b[38;5;129;01min\u001b[39;00m \u001b[38;5;28mzip\u001b[39m(kwonly_args[:extra_args],\n\u001b[1;32m     68\u001b[0m                                  args[\u001b[38;5;241m-\u001b[39mextra_args:])]\n",
      "File \u001b[0;32m~/Documents/master/mp/.venv/lib/python3.8/site-packages/sklearn/model_selection/_validation.py:440\u001b[0m, in \u001b[0;36mcross_val_score\u001b[0;34m(estimator, X, y, groups, scoring, cv, n_jobs, verbose, fit_params, pre_dispatch, error_score)\u001b[0m\n\u001b[1;32m    437\u001b[0m \u001b[38;5;66;03m# To ensure multimetric format is not supported\u001b[39;00m\n\u001b[1;32m    438\u001b[0m scorer \u001b[38;5;241m=\u001b[39m check_scoring(estimator, scoring\u001b[38;5;241m=\u001b[39mscoring)\n\u001b[0;32m--> 440\u001b[0m cv_results \u001b[38;5;241m=\u001b[39m \u001b[43mcross_validate\u001b[49m\u001b[43m(\u001b[49m\u001b[43mestimator\u001b[49m\u001b[38;5;241;43m=\u001b[39;49m\u001b[43mestimator\u001b[49m\u001b[43m,\u001b[49m\u001b[43m \u001b[49m\u001b[43mX\u001b[49m\u001b[38;5;241;43m=\u001b[39;49m\u001b[43mX\u001b[49m\u001b[43m,\u001b[49m\u001b[43m \u001b[49m\u001b[43my\u001b[49m\u001b[38;5;241;43m=\u001b[39;49m\u001b[43my\u001b[49m\u001b[43m,\u001b[49m\u001b[43m \u001b[49m\u001b[43mgroups\u001b[49m\u001b[38;5;241;43m=\u001b[39;49m\u001b[43mgroups\u001b[49m\u001b[43m,\u001b[49m\n\u001b[1;32m    441\u001b[0m \u001b[43m                            \u001b[49m\u001b[43mscoring\u001b[49m\u001b[38;5;241;43m=\u001b[39;49m\u001b[43m{\u001b[49m\u001b[38;5;124;43m'\u001b[39;49m\u001b[38;5;124;43mscore\u001b[39;49m\u001b[38;5;124;43m'\u001b[39;49m\u001b[43m:\u001b[49m\u001b[43m \u001b[49m\u001b[43mscorer\u001b[49m\u001b[43m}\u001b[49m\u001b[43m,\u001b[49m\u001b[43m \u001b[49m\u001b[43mcv\u001b[49m\u001b[38;5;241;43m=\u001b[39;49m\u001b[43mcv\u001b[49m\u001b[43m,\u001b[49m\n\u001b[1;32m    442\u001b[0m \u001b[43m                            \u001b[49m\u001b[43mn_jobs\u001b[49m\u001b[38;5;241;43m=\u001b[39;49m\u001b[43mn_jobs\u001b[49m\u001b[43m,\u001b[49m\u001b[43m \u001b[49m\u001b[43mverbose\u001b[49m\u001b[38;5;241;43m=\u001b[39;49m\u001b[43mverbose\u001b[49m\u001b[43m,\u001b[49m\n\u001b[1;32m    443\u001b[0m \u001b[43m                            \u001b[49m\u001b[43mfit_params\u001b[49m\u001b[38;5;241;43m=\u001b[39;49m\u001b[43mfit_params\u001b[49m\u001b[43m,\u001b[49m\n\u001b[1;32m    444\u001b[0m \u001b[43m                            \u001b[49m\u001b[43mpre_dispatch\u001b[49m\u001b[38;5;241;43m=\u001b[39;49m\u001b[43mpre_dispatch\u001b[49m\u001b[43m,\u001b[49m\n\u001b[1;32m    445\u001b[0m \u001b[43m                            \u001b[49m\u001b[43merror_score\u001b[49m\u001b[38;5;241;43m=\u001b[39;49m\u001b[43merror_score\u001b[49m\u001b[43m)\u001b[49m\n\u001b[1;32m    446\u001b[0m \u001b[38;5;28;01mreturn\u001b[39;00m cv_results[\u001b[38;5;124m'\u001b[39m\u001b[38;5;124mtest_score\u001b[39m\u001b[38;5;124m'\u001b[39m]\n",
      "File \u001b[0;32m~/Documents/master/mp/.venv/lib/python3.8/site-packages/sklearn/utils/validation.py:63\u001b[0m, in \u001b[0;36m_deprecate_positional_args.<locals>._inner_deprecate_positional_args.<locals>.inner_f\u001b[0;34m(*args, **kwargs)\u001b[0m\n\u001b[1;32m     61\u001b[0m extra_args \u001b[38;5;241m=\u001b[39m \u001b[38;5;28mlen\u001b[39m(args) \u001b[38;5;241m-\u001b[39m \u001b[38;5;28mlen\u001b[39m(all_args)\n\u001b[1;32m     62\u001b[0m \u001b[38;5;28;01mif\u001b[39;00m extra_args \u001b[38;5;241m<\u001b[39m\u001b[38;5;241m=\u001b[39m \u001b[38;5;241m0\u001b[39m:\n\u001b[0;32m---> 63\u001b[0m     \u001b[38;5;28;01mreturn\u001b[39;00m \u001b[43mf\u001b[49m\u001b[43m(\u001b[49m\u001b[38;5;241;43m*\u001b[39;49m\u001b[43margs\u001b[49m\u001b[43m,\u001b[49m\u001b[43m \u001b[49m\u001b[38;5;241;43m*\u001b[39;49m\u001b[38;5;241;43m*\u001b[39;49m\u001b[43mkwargs\u001b[49m\u001b[43m)\u001b[49m\n\u001b[1;32m     65\u001b[0m \u001b[38;5;66;03m# extra_args > 0\u001b[39;00m\n\u001b[1;32m     66\u001b[0m args_msg \u001b[38;5;241m=\u001b[39m [\u001b[38;5;124m'\u001b[39m\u001b[38;5;132;01m{}\u001b[39;00m\u001b[38;5;124m=\u001b[39m\u001b[38;5;132;01m{}\u001b[39;00m\u001b[38;5;124m'\u001b[39m\u001b[38;5;241m.\u001b[39mformat(name, arg)\n\u001b[1;32m     67\u001b[0m             \u001b[38;5;28;01mfor\u001b[39;00m name, arg \u001b[38;5;129;01min\u001b[39;00m \u001b[38;5;28mzip\u001b[39m(kwonly_args[:extra_args],\n\u001b[1;32m     68\u001b[0m                                  args[\u001b[38;5;241m-\u001b[39mextra_args:])]\n",
      "File \u001b[0;32m~/Documents/master/mp/.venv/lib/python3.8/site-packages/sklearn/model_selection/_validation.py:246\u001b[0m, in \u001b[0;36mcross_validate\u001b[0;34m(estimator, X, y, groups, scoring, cv, n_jobs, verbose, fit_params, pre_dispatch, return_train_score, return_estimator, error_score)\u001b[0m\n\u001b[1;32m    242\u001b[0m \u001b[38;5;66;03m# We clone the estimator to make sure that all the folds are\u001b[39;00m\n\u001b[1;32m    243\u001b[0m \u001b[38;5;66;03m# independent, and that it is pickle-able.\u001b[39;00m\n\u001b[1;32m    244\u001b[0m parallel \u001b[38;5;241m=\u001b[39m Parallel(n_jobs\u001b[38;5;241m=\u001b[39mn_jobs, verbose\u001b[38;5;241m=\u001b[39mverbose,\n\u001b[1;32m    245\u001b[0m                     pre_dispatch\u001b[38;5;241m=\u001b[39mpre_dispatch)\n\u001b[0;32m--> 246\u001b[0m results \u001b[38;5;241m=\u001b[39m \u001b[43mparallel\u001b[49m\u001b[43m(\u001b[49m\n\u001b[1;32m    247\u001b[0m \u001b[43m    \u001b[49m\u001b[43mdelayed\u001b[49m\u001b[43m(\u001b[49m\u001b[43m_fit_and_score\u001b[49m\u001b[43m)\u001b[49m\u001b[43m(\u001b[49m\n\u001b[1;32m    248\u001b[0m \u001b[43m        \u001b[49m\u001b[43mclone\u001b[49m\u001b[43m(\u001b[49m\u001b[43mestimator\u001b[49m\u001b[43m)\u001b[49m\u001b[43m,\u001b[49m\u001b[43m \u001b[49m\u001b[43mX\u001b[49m\u001b[43m,\u001b[49m\u001b[43m \u001b[49m\u001b[43my\u001b[49m\u001b[43m,\u001b[49m\u001b[43m \u001b[49m\u001b[43mscorers\u001b[49m\u001b[43m,\u001b[49m\u001b[43m \u001b[49m\u001b[43mtrain\u001b[49m\u001b[43m,\u001b[49m\u001b[43m \u001b[49m\u001b[43mtest\u001b[49m\u001b[43m,\u001b[49m\u001b[43m \u001b[49m\u001b[43mverbose\u001b[49m\u001b[43m,\u001b[49m\u001b[43m \u001b[49m\u001b[38;5;28;43;01mNone\u001b[39;49;00m\u001b[43m,\u001b[49m\n\u001b[1;32m    249\u001b[0m \u001b[43m        \u001b[49m\u001b[43mfit_params\u001b[49m\u001b[43m,\u001b[49m\u001b[43m \u001b[49m\u001b[43mreturn_train_score\u001b[49m\u001b[38;5;241;43m=\u001b[39;49m\u001b[43mreturn_train_score\u001b[49m\u001b[43m,\u001b[49m\n\u001b[1;32m    250\u001b[0m \u001b[43m        \u001b[49m\u001b[43mreturn_times\u001b[49m\u001b[38;5;241;43m=\u001b[39;49m\u001b[38;5;28;43;01mTrue\u001b[39;49;00m\u001b[43m,\u001b[49m\u001b[43m \u001b[49m\u001b[43mreturn_estimator\u001b[49m\u001b[38;5;241;43m=\u001b[39;49m\u001b[43mreturn_estimator\u001b[49m\u001b[43m,\u001b[49m\n\u001b[1;32m    251\u001b[0m \u001b[43m        \u001b[49m\u001b[43merror_score\u001b[49m\u001b[38;5;241;43m=\u001b[39;49m\u001b[43merror_score\u001b[49m\u001b[43m)\u001b[49m\n\u001b[1;32m    252\u001b[0m \u001b[43m    \u001b[49m\u001b[38;5;28;43;01mfor\u001b[39;49;00m\u001b[43m \u001b[49m\u001b[43mtrain\u001b[49m\u001b[43m,\u001b[49m\u001b[43m \u001b[49m\u001b[43mtest\u001b[49m\u001b[43m \u001b[49m\u001b[38;5;129;43;01min\u001b[39;49;00m\u001b[43m \u001b[49m\u001b[43mcv\u001b[49m\u001b[38;5;241;43m.\u001b[39;49m\u001b[43msplit\u001b[49m\u001b[43m(\u001b[49m\u001b[43mX\u001b[49m\u001b[43m,\u001b[49m\u001b[43m \u001b[49m\u001b[43my\u001b[49m\u001b[43m,\u001b[49m\u001b[43m \u001b[49m\u001b[43mgroups\u001b[49m\u001b[43m)\u001b[49m\u001b[43m)\u001b[49m\n\u001b[1;32m    254\u001b[0m \u001b[38;5;66;03m# For callabe scoring, the return type is only know after calling. If the\u001b[39;00m\n\u001b[1;32m    255\u001b[0m \u001b[38;5;66;03m# return type is a dictionary, the error scores can now be inserted with\u001b[39;00m\n\u001b[1;32m    256\u001b[0m \u001b[38;5;66;03m# the correct key.\u001b[39;00m\n\u001b[1;32m    257\u001b[0m \u001b[38;5;28;01mif\u001b[39;00m callable(scoring):\n",
      "File \u001b[0;32m~/Documents/master/mp/.venv/lib/python3.8/site-packages/joblib/parallel.py:1085\u001b[0m, in \u001b[0;36mParallel.__call__\u001b[0;34m(self, iterable)\u001b[0m\n\u001b[1;32m   1076\u001b[0m \u001b[38;5;28;01mtry\u001b[39;00m:\n\u001b[1;32m   1077\u001b[0m     \u001b[38;5;66;03m# Only set self._iterating to True if at least a batch\u001b[39;00m\n\u001b[1;32m   1078\u001b[0m     \u001b[38;5;66;03m# was dispatched. In particular this covers the edge\u001b[39;00m\n\u001b[0;32m   (...)\u001b[0m\n\u001b[1;32m   1082\u001b[0m     \u001b[38;5;66;03m# was very quick and its callback already dispatched all the\u001b[39;00m\n\u001b[1;32m   1083\u001b[0m     \u001b[38;5;66;03m# remaining jobs.\u001b[39;00m\n\u001b[1;32m   1084\u001b[0m     \u001b[38;5;28mself\u001b[39m\u001b[38;5;241m.\u001b[39m_iterating \u001b[38;5;241m=\u001b[39m \u001b[38;5;28;01mFalse\u001b[39;00m\n\u001b[0;32m-> 1085\u001b[0m     \u001b[38;5;28;01mif\u001b[39;00m \u001b[38;5;28;43mself\u001b[39;49m\u001b[38;5;241;43m.\u001b[39;49m\u001b[43mdispatch_one_batch\u001b[49m\u001b[43m(\u001b[49m\u001b[43miterator\u001b[49m\u001b[43m)\u001b[49m:\n\u001b[1;32m   1086\u001b[0m         \u001b[38;5;28mself\u001b[39m\u001b[38;5;241m.\u001b[39m_iterating \u001b[38;5;241m=\u001b[39m \u001b[38;5;28mself\u001b[39m\u001b[38;5;241m.\u001b[39m_original_iterator \u001b[38;5;129;01mis\u001b[39;00m \u001b[38;5;129;01mnot\u001b[39;00m \u001b[38;5;28;01mNone\u001b[39;00m\n\u001b[1;32m   1088\u001b[0m     \u001b[38;5;28;01mwhile\u001b[39;00m \u001b[38;5;28mself\u001b[39m\u001b[38;5;241m.\u001b[39mdispatch_one_batch(iterator):\n",
      "File \u001b[0;32m~/Documents/master/mp/.venv/lib/python3.8/site-packages/joblib/parallel.py:901\u001b[0m, in \u001b[0;36mParallel.dispatch_one_batch\u001b[0;34m(self, iterator)\u001b[0m\n\u001b[1;32m    899\u001b[0m     \u001b[38;5;28;01mreturn\u001b[39;00m \u001b[38;5;28;01mFalse\u001b[39;00m\n\u001b[1;32m    900\u001b[0m \u001b[38;5;28;01melse\u001b[39;00m:\n\u001b[0;32m--> 901\u001b[0m     \u001b[38;5;28;43mself\u001b[39;49m\u001b[38;5;241;43m.\u001b[39;49m\u001b[43m_dispatch\u001b[49m\u001b[43m(\u001b[49m\u001b[43mtasks\u001b[49m\u001b[43m)\u001b[49m\n\u001b[1;32m    902\u001b[0m     \u001b[38;5;28;01mreturn\u001b[39;00m \u001b[38;5;28;01mTrue\u001b[39;00m\n",
      "File \u001b[0;32m~/Documents/master/mp/.venv/lib/python3.8/site-packages/joblib/parallel.py:819\u001b[0m, in \u001b[0;36mParallel._dispatch\u001b[0;34m(self, batch)\u001b[0m\n\u001b[1;32m    817\u001b[0m \u001b[38;5;28;01mwith\u001b[39;00m \u001b[38;5;28mself\u001b[39m\u001b[38;5;241m.\u001b[39m_lock:\n\u001b[1;32m    818\u001b[0m     job_idx \u001b[38;5;241m=\u001b[39m \u001b[38;5;28mlen\u001b[39m(\u001b[38;5;28mself\u001b[39m\u001b[38;5;241m.\u001b[39m_jobs)\n\u001b[0;32m--> 819\u001b[0m     job \u001b[38;5;241m=\u001b[39m \u001b[38;5;28;43mself\u001b[39;49m\u001b[38;5;241;43m.\u001b[39;49m\u001b[43m_backend\u001b[49m\u001b[38;5;241;43m.\u001b[39;49m\u001b[43mapply_async\u001b[49m\u001b[43m(\u001b[49m\u001b[43mbatch\u001b[49m\u001b[43m,\u001b[49m\u001b[43m \u001b[49m\u001b[43mcallback\u001b[49m\u001b[38;5;241;43m=\u001b[39;49m\u001b[43mcb\u001b[49m\u001b[43m)\u001b[49m\n\u001b[1;32m    820\u001b[0m     \u001b[38;5;66;03m# A job can complete so quickly than its callback is\u001b[39;00m\n\u001b[1;32m    821\u001b[0m     \u001b[38;5;66;03m# called before we get here, causing self._jobs to\u001b[39;00m\n\u001b[1;32m    822\u001b[0m     \u001b[38;5;66;03m# grow. To ensure correct results ordering, .insert is\u001b[39;00m\n\u001b[1;32m    823\u001b[0m     \u001b[38;5;66;03m# used (rather than .append) in the following line\u001b[39;00m\n\u001b[1;32m    824\u001b[0m     \u001b[38;5;28mself\u001b[39m\u001b[38;5;241m.\u001b[39m_jobs\u001b[38;5;241m.\u001b[39minsert(job_idx, job)\n",
      "File \u001b[0;32m~/Documents/master/mp/.venv/lib/python3.8/site-packages/joblib/_parallel_backends.py:208\u001b[0m, in \u001b[0;36mSequentialBackend.apply_async\u001b[0;34m(self, func, callback)\u001b[0m\n\u001b[1;32m    206\u001b[0m \u001b[38;5;28;01mdef\u001b[39;00m \u001b[38;5;21mapply_async\u001b[39m(\u001b[38;5;28mself\u001b[39m, func, callback\u001b[38;5;241m=\u001b[39m\u001b[38;5;28;01mNone\u001b[39;00m):\n\u001b[1;32m    207\u001b[0m \u001b[38;5;250m    \u001b[39m\u001b[38;5;124;03m\"\"\"Schedule a func to be run\"\"\"\u001b[39;00m\n\u001b[0;32m--> 208\u001b[0m     result \u001b[38;5;241m=\u001b[39m \u001b[43mImmediateResult\u001b[49m\u001b[43m(\u001b[49m\u001b[43mfunc\u001b[49m\u001b[43m)\u001b[49m\n\u001b[1;32m    209\u001b[0m     \u001b[38;5;28;01mif\u001b[39;00m callback:\n\u001b[1;32m    210\u001b[0m         callback(result)\n",
      "File \u001b[0;32m~/Documents/master/mp/.venv/lib/python3.8/site-packages/joblib/_parallel_backends.py:597\u001b[0m, in \u001b[0;36mImmediateResult.__init__\u001b[0;34m(self, batch)\u001b[0m\n\u001b[1;32m    594\u001b[0m \u001b[38;5;28;01mdef\u001b[39;00m \u001b[38;5;21m__init__\u001b[39m(\u001b[38;5;28mself\u001b[39m, batch):\n\u001b[1;32m    595\u001b[0m     \u001b[38;5;66;03m# Don't delay the application, to avoid keeping the input\u001b[39;00m\n\u001b[1;32m    596\u001b[0m     \u001b[38;5;66;03m# arguments in memory\u001b[39;00m\n\u001b[0;32m--> 597\u001b[0m     \u001b[38;5;28mself\u001b[39m\u001b[38;5;241m.\u001b[39mresults \u001b[38;5;241m=\u001b[39m \u001b[43mbatch\u001b[49m\u001b[43m(\u001b[49m\u001b[43m)\u001b[49m\n",
      "File \u001b[0;32m~/Documents/master/mp/.venv/lib/python3.8/site-packages/joblib/parallel.py:288\u001b[0m, in \u001b[0;36mBatchedCalls.__call__\u001b[0;34m(self)\u001b[0m\n\u001b[1;32m    284\u001b[0m \u001b[38;5;28;01mdef\u001b[39;00m \u001b[38;5;21m__call__\u001b[39m(\u001b[38;5;28mself\u001b[39m):\n\u001b[1;32m    285\u001b[0m     \u001b[38;5;66;03m# Set the default nested backend to self._backend but do not set the\u001b[39;00m\n\u001b[1;32m    286\u001b[0m     \u001b[38;5;66;03m# change the default number of processes to -1\u001b[39;00m\n\u001b[1;32m    287\u001b[0m     \u001b[38;5;28;01mwith\u001b[39;00m parallel_backend(\u001b[38;5;28mself\u001b[39m\u001b[38;5;241m.\u001b[39m_backend, n_jobs\u001b[38;5;241m=\u001b[39m\u001b[38;5;28mself\u001b[39m\u001b[38;5;241m.\u001b[39m_n_jobs):\n\u001b[0;32m--> 288\u001b[0m         \u001b[38;5;28;01mreturn\u001b[39;00m [func(\u001b[38;5;241m*\u001b[39margs, \u001b[38;5;241m*\u001b[39m\u001b[38;5;241m*\u001b[39mkwargs)\n\u001b[1;32m    289\u001b[0m                 \u001b[38;5;28;01mfor\u001b[39;00m func, args, kwargs \u001b[38;5;129;01min\u001b[39;00m \u001b[38;5;28mself\u001b[39m\u001b[38;5;241m.\u001b[39mitems]\n",
      "File \u001b[0;32m~/Documents/master/mp/.venv/lib/python3.8/site-packages/joblib/parallel.py:288\u001b[0m, in \u001b[0;36m<listcomp>\u001b[0;34m(.0)\u001b[0m\n\u001b[1;32m    284\u001b[0m \u001b[38;5;28;01mdef\u001b[39;00m \u001b[38;5;21m__call__\u001b[39m(\u001b[38;5;28mself\u001b[39m):\n\u001b[1;32m    285\u001b[0m     \u001b[38;5;66;03m# Set the default nested backend to self._backend but do not set the\u001b[39;00m\n\u001b[1;32m    286\u001b[0m     \u001b[38;5;66;03m# change the default number of processes to -1\u001b[39;00m\n\u001b[1;32m    287\u001b[0m     \u001b[38;5;28;01mwith\u001b[39;00m parallel_backend(\u001b[38;5;28mself\u001b[39m\u001b[38;5;241m.\u001b[39m_backend, n_jobs\u001b[38;5;241m=\u001b[39m\u001b[38;5;28mself\u001b[39m\u001b[38;5;241m.\u001b[39m_n_jobs):\n\u001b[0;32m--> 288\u001b[0m         \u001b[38;5;28;01mreturn\u001b[39;00m [\u001b[43mfunc\u001b[49m\u001b[43m(\u001b[49m\u001b[38;5;241;43m*\u001b[39;49m\u001b[43margs\u001b[49m\u001b[43m,\u001b[49m\u001b[43m \u001b[49m\u001b[38;5;241;43m*\u001b[39;49m\u001b[38;5;241;43m*\u001b[39;49m\u001b[43mkwargs\u001b[49m\u001b[43m)\u001b[49m\n\u001b[1;32m    289\u001b[0m                 \u001b[38;5;28;01mfor\u001b[39;00m func, args, kwargs \u001b[38;5;129;01min\u001b[39;00m \u001b[38;5;28mself\u001b[39m\u001b[38;5;241m.\u001b[39mitems]\n",
      "File \u001b[0;32m~/Documents/master/mp/.venv/lib/python3.8/site-packages/sklearn/utils/fixes.py:222\u001b[0m, in \u001b[0;36m_FuncWrapper.__call__\u001b[0;34m(self, *args, **kwargs)\u001b[0m\n\u001b[1;32m    220\u001b[0m \u001b[38;5;28;01mdef\u001b[39;00m \u001b[38;5;21m__call__\u001b[39m(\u001b[38;5;28mself\u001b[39m, \u001b[38;5;241m*\u001b[39margs, \u001b[38;5;241m*\u001b[39m\u001b[38;5;241m*\u001b[39mkwargs):\n\u001b[1;32m    221\u001b[0m     \u001b[38;5;28;01mwith\u001b[39;00m config_context(\u001b[38;5;241m*\u001b[39m\u001b[38;5;241m*\u001b[39m\u001b[38;5;28mself\u001b[39m\u001b[38;5;241m.\u001b[39mconfig):\n\u001b[0;32m--> 222\u001b[0m         \u001b[38;5;28;01mreturn\u001b[39;00m \u001b[38;5;28;43mself\u001b[39;49m\u001b[38;5;241;43m.\u001b[39;49m\u001b[43mfunction\u001b[49m\u001b[43m(\u001b[49m\u001b[38;5;241;43m*\u001b[39;49m\u001b[43margs\u001b[49m\u001b[43m,\u001b[49m\u001b[43m \u001b[49m\u001b[38;5;241;43m*\u001b[39;49m\u001b[38;5;241;43m*\u001b[39;49m\u001b[43mkwargs\u001b[49m\u001b[43m)\u001b[49m\n",
      "File \u001b[0;32m~/Documents/master/mp/.venv/lib/python3.8/site-packages/sklearn/model_selection/_validation.py:593\u001b[0m, in \u001b[0;36m_fit_and_score\u001b[0;34m(estimator, X, y, scorer, train, test, verbose, parameters, fit_params, return_train_score, return_parameters, return_n_test_samples, return_times, return_estimator, split_progress, candidate_progress, error_score)\u001b[0m\n\u001b[1;32m    591\u001b[0m         estimator\u001b[38;5;241m.\u001b[39mfit(X_train, \u001b[38;5;241m*\u001b[39m\u001b[38;5;241m*\u001b[39mfit_params)\n\u001b[1;32m    592\u001b[0m     \u001b[38;5;28;01melse\u001b[39;00m:\n\u001b[0;32m--> 593\u001b[0m         \u001b[43mestimator\u001b[49m\u001b[38;5;241;43m.\u001b[39;49m\u001b[43mfit\u001b[49m\u001b[43m(\u001b[49m\u001b[43mX_train\u001b[49m\u001b[43m,\u001b[49m\u001b[43m \u001b[49m\u001b[43my_train\u001b[49m\u001b[43m,\u001b[49m\u001b[43m \u001b[49m\u001b[38;5;241;43m*\u001b[39;49m\u001b[38;5;241;43m*\u001b[39;49m\u001b[43mfit_params\u001b[49m\u001b[43m)\u001b[49m\n\u001b[1;32m    595\u001b[0m \u001b[38;5;28;01mexcept\u001b[39;00m \u001b[38;5;167;01mException\u001b[39;00m \u001b[38;5;28;01mas\u001b[39;00m e:\n\u001b[1;32m    596\u001b[0m     \u001b[38;5;66;03m# Note fit time as time until error\u001b[39;00m\n\u001b[1;32m    597\u001b[0m     fit_time \u001b[38;5;241m=\u001b[39m time\u001b[38;5;241m.\u001b[39mtime() \u001b[38;5;241m-\u001b[39m start_time\n",
      "File \u001b[0;32m~/Documents/master/mp/.venv/lib/python3.8/site-packages/sklearn/neural_network/_multilayer_perceptron.py:673\u001b[0m, in \u001b[0;36mBaseMultilayerPerceptron.fit\u001b[0;34m(self, X, y)\u001b[0m\n\u001b[1;32m    657\u001b[0m \u001b[38;5;28;01mdef\u001b[39;00m \u001b[38;5;21mfit\u001b[39m(\u001b[38;5;28mself\u001b[39m, X, y):\n\u001b[1;32m    658\u001b[0m \u001b[38;5;250m    \u001b[39m\u001b[38;5;124;03m\"\"\"Fit the model to data matrix X and target(s) y.\u001b[39;00m\n\u001b[1;32m    659\u001b[0m \n\u001b[1;32m    660\u001b[0m \u001b[38;5;124;03m    Parameters\u001b[39;00m\n\u001b[0;32m   (...)\u001b[0m\n\u001b[1;32m    671\u001b[0m \u001b[38;5;124;03m    self : returns a trained MLP model.\u001b[39;00m\n\u001b[1;32m    672\u001b[0m \u001b[38;5;124;03m    \"\"\"\u001b[39;00m\n\u001b[0;32m--> 673\u001b[0m     \u001b[38;5;28;01mreturn\u001b[39;00m \u001b[38;5;28;43mself\u001b[39;49m\u001b[38;5;241;43m.\u001b[39;49m\u001b[43m_fit\u001b[49m\u001b[43m(\u001b[49m\u001b[43mX\u001b[49m\u001b[43m,\u001b[49m\u001b[43m \u001b[49m\u001b[43my\u001b[49m\u001b[43m,\u001b[49m\u001b[43m \u001b[49m\u001b[43mincremental\u001b[49m\u001b[38;5;241;43m=\u001b[39;49m\u001b[38;5;28;43;01mFalse\u001b[39;49;00m\u001b[43m)\u001b[49m\n",
      "File \u001b[0;32m~/Documents/master/mp/.venv/lib/python3.8/site-packages/sklearn/neural_network/_multilayer_perceptron.py:404\u001b[0m, in \u001b[0;36mBaseMultilayerPerceptron._fit\u001b[0;34m(self, X, y, incremental)\u001b[0m\n\u001b[1;32m    402\u001b[0m \u001b[38;5;66;03m# Run the LBFGS solver\u001b[39;00m\n\u001b[1;32m    403\u001b[0m \u001b[38;5;28;01melif\u001b[39;00m \u001b[38;5;28mself\u001b[39m\u001b[38;5;241m.\u001b[39msolver \u001b[38;5;241m==\u001b[39m \u001b[38;5;124m'\u001b[39m\u001b[38;5;124mlbfgs\u001b[39m\u001b[38;5;124m'\u001b[39m:\n\u001b[0;32m--> 404\u001b[0m     \u001b[38;5;28;43mself\u001b[39;49m\u001b[38;5;241;43m.\u001b[39;49m\u001b[43m_fit_lbfgs\u001b[49m\u001b[43m(\u001b[49m\u001b[43mX\u001b[49m\u001b[43m,\u001b[49m\u001b[43m \u001b[49m\u001b[43my\u001b[49m\u001b[43m,\u001b[49m\u001b[43m \u001b[49m\u001b[43mactivations\u001b[49m\u001b[43m,\u001b[49m\u001b[43m \u001b[49m\u001b[43mdeltas\u001b[49m\u001b[43m,\u001b[49m\u001b[43m \u001b[49m\u001b[43mcoef_grads\u001b[49m\u001b[43m,\u001b[49m\n\u001b[1;32m    405\u001b[0m \u001b[43m                    \u001b[49m\u001b[43mintercept_grads\u001b[49m\u001b[43m,\u001b[49m\u001b[43m \u001b[49m\u001b[43mlayer_units\u001b[49m\u001b[43m)\u001b[49m\n\u001b[1;32m    406\u001b[0m \u001b[38;5;28;01mreturn\u001b[39;00m \u001b[38;5;28mself\u001b[39m\n",
      "File \u001b[0;32m~/Documents/master/mp/.venv/lib/python3.8/site-packages/sklearn/neural_network/_multilayer_perceptron.py:490\u001b[0m, in \u001b[0;36mBaseMultilayerPerceptron._fit_lbfgs\u001b[0;34m(self, X, y, activations, deltas, coef_grads, intercept_grads, layer_units)\u001b[0m\n\u001b[1;32m    487\u001b[0m \u001b[38;5;28;01melse\u001b[39;00m:\n\u001b[1;32m    488\u001b[0m     iprint \u001b[38;5;241m=\u001b[39m \u001b[38;5;241m-\u001b[39m\u001b[38;5;241m1\u001b[39m\n\u001b[0;32m--> 490\u001b[0m opt_res \u001b[38;5;241m=\u001b[39m \u001b[43mscipy\u001b[49m\u001b[38;5;241;43m.\u001b[39;49m\u001b[43moptimize\u001b[49m\u001b[38;5;241;43m.\u001b[39;49m\u001b[43mminimize\u001b[49m\u001b[43m(\u001b[49m\n\u001b[1;32m    491\u001b[0m \u001b[43m        \u001b[49m\u001b[38;5;28;43mself\u001b[39;49m\u001b[38;5;241;43m.\u001b[39;49m\u001b[43m_loss_grad_lbfgs\u001b[49m\u001b[43m,\u001b[49m\u001b[43m \u001b[49m\u001b[43mpacked_coef_inter\u001b[49m\u001b[43m,\u001b[49m\n\u001b[1;32m    492\u001b[0m \u001b[43m        \u001b[49m\u001b[43mmethod\u001b[49m\u001b[38;5;241;43m=\u001b[39;49m\u001b[38;5;124;43m\"\u001b[39;49m\u001b[38;5;124;43mL-BFGS-B\u001b[39;49m\u001b[38;5;124;43m\"\u001b[39;49m\u001b[43m,\u001b[49m\u001b[43m \u001b[49m\u001b[43mjac\u001b[49m\u001b[38;5;241;43m=\u001b[39;49m\u001b[38;5;28;43;01mTrue\u001b[39;49;00m\u001b[43m,\u001b[49m\n\u001b[1;32m    493\u001b[0m \u001b[43m        \u001b[49m\u001b[43moptions\u001b[49m\u001b[38;5;241;43m=\u001b[39;49m\u001b[43m{\u001b[49m\n\u001b[1;32m    494\u001b[0m \u001b[43m            \u001b[49m\u001b[38;5;124;43m\"\u001b[39;49m\u001b[38;5;124;43mmaxfun\u001b[39;49m\u001b[38;5;124;43m\"\u001b[39;49m\u001b[43m:\u001b[49m\u001b[43m \u001b[49m\u001b[38;5;28;43mself\u001b[39;49m\u001b[38;5;241;43m.\u001b[39;49m\u001b[43mmax_fun\u001b[49m\u001b[43m,\u001b[49m\n\u001b[1;32m    495\u001b[0m \u001b[43m            \u001b[49m\u001b[38;5;124;43m\"\u001b[39;49m\u001b[38;5;124;43mmaxiter\u001b[39;49m\u001b[38;5;124;43m\"\u001b[39;49m\u001b[43m:\u001b[49m\u001b[43m \u001b[49m\u001b[38;5;28;43mself\u001b[39;49m\u001b[38;5;241;43m.\u001b[39;49m\u001b[43mmax_iter\u001b[49m\u001b[43m,\u001b[49m\n\u001b[1;32m    496\u001b[0m \u001b[43m            \u001b[49m\u001b[38;5;124;43m\"\u001b[39;49m\u001b[38;5;124;43miprint\u001b[39;49m\u001b[38;5;124;43m\"\u001b[39;49m\u001b[43m:\u001b[49m\u001b[43m \u001b[49m\u001b[43miprint\u001b[49m\u001b[43m,\u001b[49m\n\u001b[1;32m    497\u001b[0m \u001b[43m            \u001b[49m\u001b[38;5;124;43m\"\u001b[39;49m\u001b[38;5;124;43mgtol\u001b[39;49m\u001b[38;5;124;43m\"\u001b[39;49m\u001b[43m:\u001b[49m\u001b[43m \u001b[49m\u001b[38;5;28;43mself\u001b[39;49m\u001b[38;5;241;43m.\u001b[39;49m\u001b[43mtol\u001b[49m\n\u001b[1;32m    498\u001b[0m \u001b[43m        \u001b[49m\u001b[43m}\u001b[49m\u001b[43m,\u001b[49m\n\u001b[1;32m    499\u001b[0m \u001b[43m        \u001b[49m\u001b[43margs\u001b[49m\u001b[38;5;241;43m=\u001b[39;49m\u001b[43m(\u001b[49m\u001b[43mX\u001b[49m\u001b[43m,\u001b[49m\u001b[43m \u001b[49m\u001b[43my\u001b[49m\u001b[43m,\u001b[49m\u001b[43m \u001b[49m\u001b[43mactivations\u001b[49m\u001b[43m,\u001b[49m\u001b[43m \u001b[49m\u001b[43mdeltas\u001b[49m\u001b[43m,\u001b[49m\u001b[43m \u001b[49m\u001b[43mcoef_grads\u001b[49m\u001b[43m,\u001b[49m\u001b[43m \u001b[49m\u001b[43mintercept_grads\u001b[49m\u001b[43m)\u001b[49m\u001b[43m)\u001b[49m\n\u001b[1;32m    500\u001b[0m \u001b[38;5;28mself\u001b[39m\u001b[38;5;241m.\u001b[39mn_iter_ \u001b[38;5;241m=\u001b[39m _check_optimize_result(\u001b[38;5;124m\"\u001b[39m\u001b[38;5;124mlbfgs\u001b[39m\u001b[38;5;124m\"\u001b[39m, opt_res, \u001b[38;5;28mself\u001b[39m\u001b[38;5;241m.\u001b[39mmax_iter)\n\u001b[1;32m    501\u001b[0m \u001b[38;5;28mself\u001b[39m\u001b[38;5;241m.\u001b[39mloss_ \u001b[38;5;241m=\u001b[39m opt_res\u001b[38;5;241m.\u001b[39mfun\n",
      "File \u001b[0;32m~/Documents/master/mp/.venv/lib/python3.8/site-packages/scipy/optimize/_minimize.py:696\u001b[0m, in \u001b[0;36mminimize\u001b[0;34m(fun, x0, args, method, jac, hess, hessp, bounds, constraints, tol, callback, options)\u001b[0m\n\u001b[1;32m    693\u001b[0m     res \u001b[38;5;241m=\u001b[39m _minimize_newtoncg(fun, x0, args, jac, hess, hessp, callback,\n\u001b[1;32m    694\u001b[0m                              \u001b[38;5;241m*\u001b[39m\u001b[38;5;241m*\u001b[39moptions)\n\u001b[1;32m    695\u001b[0m \u001b[38;5;28;01melif\u001b[39;00m meth \u001b[38;5;241m==\u001b[39m \u001b[38;5;124m'\u001b[39m\u001b[38;5;124ml-bfgs-b\u001b[39m\u001b[38;5;124m'\u001b[39m:\n\u001b[0;32m--> 696\u001b[0m     res \u001b[38;5;241m=\u001b[39m \u001b[43m_minimize_lbfgsb\u001b[49m\u001b[43m(\u001b[49m\u001b[43mfun\u001b[49m\u001b[43m,\u001b[49m\u001b[43m \u001b[49m\u001b[43mx0\u001b[49m\u001b[43m,\u001b[49m\u001b[43m \u001b[49m\u001b[43margs\u001b[49m\u001b[43m,\u001b[49m\u001b[43m \u001b[49m\u001b[43mjac\u001b[49m\u001b[43m,\u001b[49m\u001b[43m \u001b[49m\u001b[43mbounds\u001b[49m\u001b[43m,\u001b[49m\n\u001b[1;32m    697\u001b[0m \u001b[43m                           \u001b[49m\u001b[43mcallback\u001b[49m\u001b[38;5;241;43m=\u001b[39;49m\u001b[43mcallback\u001b[49m\u001b[43m,\u001b[49m\u001b[43m \u001b[49m\u001b[38;5;241;43m*\u001b[39;49m\u001b[38;5;241;43m*\u001b[39;49m\u001b[43moptions\u001b[49m\u001b[43m)\u001b[49m\n\u001b[1;32m    698\u001b[0m \u001b[38;5;28;01melif\u001b[39;00m meth \u001b[38;5;241m==\u001b[39m \u001b[38;5;124m'\u001b[39m\u001b[38;5;124mtnc\u001b[39m\u001b[38;5;124m'\u001b[39m:\n\u001b[1;32m    699\u001b[0m     res \u001b[38;5;241m=\u001b[39m _minimize_tnc(fun, x0, args, jac, bounds, callback\u001b[38;5;241m=\u001b[39mcallback,\n\u001b[1;32m    700\u001b[0m                         \u001b[38;5;241m*\u001b[39m\u001b[38;5;241m*\u001b[39moptions)\n",
      "File \u001b[0;32m~/Documents/master/mp/.venv/lib/python3.8/site-packages/scipy/optimize/_lbfgsb_py.py:359\u001b[0m, in \u001b[0;36m_minimize_lbfgsb\u001b[0;34m(fun, x0, args, jac, bounds, disp, maxcor, ftol, gtol, eps, maxfun, maxiter, iprint, callback, maxls, finite_diff_rel_step, **unknown_options)\u001b[0m\n\u001b[1;32m    353\u001b[0m task_str \u001b[38;5;241m=\u001b[39m task\u001b[38;5;241m.\u001b[39mtobytes()\n\u001b[1;32m    354\u001b[0m \u001b[38;5;28;01mif\u001b[39;00m task_str\u001b[38;5;241m.\u001b[39mstartswith(\u001b[38;5;124mb\u001b[39m\u001b[38;5;124m'\u001b[39m\u001b[38;5;124mFG\u001b[39m\u001b[38;5;124m'\u001b[39m):\n\u001b[1;32m    355\u001b[0m     \u001b[38;5;66;03m# The minimization routine wants f and g at the current x.\u001b[39;00m\n\u001b[1;32m    356\u001b[0m     \u001b[38;5;66;03m# Note that interruptions due to maxfun are postponed\u001b[39;00m\n\u001b[1;32m    357\u001b[0m     \u001b[38;5;66;03m# until the completion of the current minimization iteration.\u001b[39;00m\n\u001b[1;32m    358\u001b[0m     \u001b[38;5;66;03m# Overwrite f and g:\u001b[39;00m\n\u001b[0;32m--> 359\u001b[0m     f, g \u001b[38;5;241m=\u001b[39m \u001b[43mfunc_and_grad\u001b[49m\u001b[43m(\u001b[49m\u001b[43mx\u001b[49m\u001b[43m)\u001b[49m\n\u001b[1;32m    360\u001b[0m \u001b[38;5;28;01melif\u001b[39;00m task_str\u001b[38;5;241m.\u001b[39mstartswith(\u001b[38;5;124mb\u001b[39m\u001b[38;5;124m'\u001b[39m\u001b[38;5;124mNEW_X\u001b[39m\u001b[38;5;124m'\u001b[39m):\n\u001b[1;32m    361\u001b[0m     \u001b[38;5;66;03m# new iteration\u001b[39;00m\n\u001b[1;32m    362\u001b[0m     n_iterations \u001b[38;5;241m+\u001b[39m\u001b[38;5;241m=\u001b[39m \u001b[38;5;241m1\u001b[39m\n",
      "File \u001b[0;32m~/Documents/master/mp/.venv/lib/python3.8/site-packages/scipy/optimize/_differentiable_functions.py:285\u001b[0m, in \u001b[0;36mScalarFunction.fun_and_grad\u001b[0;34m(self, x)\u001b[0m\n\u001b[1;32m    283\u001b[0m \u001b[38;5;28;01mif\u001b[39;00m \u001b[38;5;129;01mnot\u001b[39;00m np\u001b[38;5;241m.\u001b[39marray_equal(x, \u001b[38;5;28mself\u001b[39m\u001b[38;5;241m.\u001b[39mx):\n\u001b[1;32m    284\u001b[0m     \u001b[38;5;28mself\u001b[39m\u001b[38;5;241m.\u001b[39m_update_x_impl(x)\n\u001b[0;32m--> 285\u001b[0m \u001b[38;5;28;43mself\u001b[39;49m\u001b[38;5;241;43m.\u001b[39;49m\u001b[43m_update_fun\u001b[49m\u001b[43m(\u001b[49m\u001b[43m)\u001b[49m\n\u001b[1;32m    286\u001b[0m \u001b[38;5;28mself\u001b[39m\u001b[38;5;241m.\u001b[39m_update_grad()\n\u001b[1;32m    287\u001b[0m \u001b[38;5;28;01mreturn\u001b[39;00m \u001b[38;5;28mself\u001b[39m\u001b[38;5;241m.\u001b[39mf, \u001b[38;5;28mself\u001b[39m\u001b[38;5;241m.\u001b[39mg\n",
      "File \u001b[0;32m~/Documents/master/mp/.venv/lib/python3.8/site-packages/scipy/optimize/_differentiable_functions.py:251\u001b[0m, in \u001b[0;36mScalarFunction._update_fun\u001b[0;34m(self)\u001b[0m\n\u001b[1;32m    249\u001b[0m \u001b[38;5;28;01mdef\u001b[39;00m \u001b[38;5;21m_update_fun\u001b[39m(\u001b[38;5;28mself\u001b[39m):\n\u001b[1;32m    250\u001b[0m     \u001b[38;5;28;01mif\u001b[39;00m \u001b[38;5;129;01mnot\u001b[39;00m \u001b[38;5;28mself\u001b[39m\u001b[38;5;241m.\u001b[39mf_updated:\n\u001b[0;32m--> 251\u001b[0m         \u001b[38;5;28;43mself\u001b[39;49m\u001b[38;5;241;43m.\u001b[39;49m\u001b[43m_update_fun_impl\u001b[49m\u001b[43m(\u001b[49m\u001b[43m)\u001b[49m\n\u001b[1;32m    252\u001b[0m         \u001b[38;5;28mself\u001b[39m\u001b[38;5;241m.\u001b[39mf_updated \u001b[38;5;241m=\u001b[39m \u001b[38;5;28;01mTrue\u001b[39;00m\n",
      "File \u001b[0;32m~/Documents/master/mp/.venv/lib/python3.8/site-packages/scipy/optimize/_differentiable_functions.py:155\u001b[0m, in \u001b[0;36mScalarFunction.__init__.<locals>.update_fun\u001b[0;34m()\u001b[0m\n\u001b[1;32m    154\u001b[0m \u001b[38;5;28;01mdef\u001b[39;00m \u001b[38;5;21mupdate_fun\u001b[39m():\n\u001b[0;32m--> 155\u001b[0m     \u001b[38;5;28mself\u001b[39m\u001b[38;5;241m.\u001b[39mf \u001b[38;5;241m=\u001b[39m \u001b[43mfun_wrapped\u001b[49m\u001b[43m(\u001b[49m\u001b[38;5;28;43mself\u001b[39;49m\u001b[38;5;241;43m.\u001b[39;49m\u001b[43mx\u001b[49m\u001b[43m)\u001b[49m\n",
      "File \u001b[0;32m~/Documents/master/mp/.venv/lib/python3.8/site-packages/scipy/optimize/_differentiable_functions.py:137\u001b[0m, in \u001b[0;36mScalarFunction.__init__.<locals>.fun_wrapped\u001b[0;34m(x)\u001b[0m\n\u001b[1;32m    133\u001b[0m \u001b[38;5;28mself\u001b[39m\u001b[38;5;241m.\u001b[39mnfev \u001b[38;5;241m+\u001b[39m\u001b[38;5;241m=\u001b[39m \u001b[38;5;241m1\u001b[39m\n\u001b[1;32m    134\u001b[0m \u001b[38;5;66;03m# Send a copy because the user may overwrite it.\u001b[39;00m\n\u001b[1;32m    135\u001b[0m \u001b[38;5;66;03m# Overwriting results in undefined behaviour because\u001b[39;00m\n\u001b[1;32m    136\u001b[0m \u001b[38;5;66;03m# fun(self.x) will change self.x, with the two no longer linked.\u001b[39;00m\n\u001b[0;32m--> 137\u001b[0m fx \u001b[38;5;241m=\u001b[39m \u001b[43mfun\u001b[49m\u001b[43m(\u001b[49m\u001b[43mnp\u001b[49m\u001b[38;5;241;43m.\u001b[39;49m\u001b[43mcopy\u001b[49m\u001b[43m(\u001b[49m\u001b[43mx\u001b[49m\u001b[43m)\u001b[49m\u001b[43m,\u001b[49m\u001b[43m \u001b[49m\u001b[38;5;241;43m*\u001b[39;49m\u001b[43margs\u001b[49m\u001b[43m)\u001b[49m\n\u001b[1;32m    138\u001b[0m \u001b[38;5;66;03m# Make sure the function returns a true scalar\u001b[39;00m\n\u001b[1;32m    139\u001b[0m \u001b[38;5;28;01mif\u001b[39;00m \u001b[38;5;129;01mnot\u001b[39;00m np\u001b[38;5;241m.\u001b[39misscalar(fx):\n",
      "File \u001b[0;32m~/Documents/master/mp/.venv/lib/python3.8/site-packages/scipy/optimize/_optimize.py:76\u001b[0m, in \u001b[0;36mMemoizeJac.__call__\u001b[0;34m(self, x, *args)\u001b[0m\n\u001b[1;32m     74\u001b[0m \u001b[38;5;28;01mdef\u001b[39;00m \u001b[38;5;21m__call__\u001b[39m(\u001b[38;5;28mself\u001b[39m, x, \u001b[38;5;241m*\u001b[39margs):\n\u001b[1;32m     75\u001b[0m \u001b[38;5;250m    \u001b[39m\u001b[38;5;124;03m\"\"\" returns the function value \"\"\"\u001b[39;00m\n\u001b[0;32m---> 76\u001b[0m     \u001b[38;5;28;43mself\u001b[39;49m\u001b[38;5;241;43m.\u001b[39;49m\u001b[43m_compute_if_needed\u001b[49m\u001b[43m(\u001b[49m\u001b[43mx\u001b[49m\u001b[43m,\u001b[49m\u001b[43m \u001b[49m\u001b[38;5;241;43m*\u001b[39;49m\u001b[43margs\u001b[49m\u001b[43m)\u001b[49m\n\u001b[1;32m     77\u001b[0m     \u001b[38;5;28;01mreturn\u001b[39;00m \u001b[38;5;28mself\u001b[39m\u001b[38;5;241m.\u001b[39m_value\n",
      "File \u001b[0;32m~/Documents/master/mp/.venv/lib/python3.8/site-packages/scipy/optimize/_optimize.py:70\u001b[0m, in \u001b[0;36mMemoizeJac._compute_if_needed\u001b[0;34m(self, x, *args)\u001b[0m\n\u001b[1;32m     68\u001b[0m \u001b[38;5;28;01mif\u001b[39;00m \u001b[38;5;129;01mnot\u001b[39;00m np\u001b[38;5;241m.\u001b[39mall(x \u001b[38;5;241m==\u001b[39m \u001b[38;5;28mself\u001b[39m\u001b[38;5;241m.\u001b[39mx) \u001b[38;5;129;01mor\u001b[39;00m \u001b[38;5;28mself\u001b[39m\u001b[38;5;241m.\u001b[39m_value \u001b[38;5;129;01mis\u001b[39;00m \u001b[38;5;28;01mNone\u001b[39;00m \u001b[38;5;129;01mor\u001b[39;00m \u001b[38;5;28mself\u001b[39m\u001b[38;5;241m.\u001b[39mjac \u001b[38;5;129;01mis\u001b[39;00m \u001b[38;5;28;01mNone\u001b[39;00m:\n\u001b[1;32m     69\u001b[0m     \u001b[38;5;28mself\u001b[39m\u001b[38;5;241m.\u001b[39mx \u001b[38;5;241m=\u001b[39m np\u001b[38;5;241m.\u001b[39masarray(x)\u001b[38;5;241m.\u001b[39mcopy()\n\u001b[0;32m---> 70\u001b[0m     fg \u001b[38;5;241m=\u001b[39m \u001b[38;5;28;43mself\u001b[39;49m\u001b[38;5;241;43m.\u001b[39;49m\u001b[43mfun\u001b[49m\u001b[43m(\u001b[49m\u001b[43mx\u001b[49m\u001b[43m,\u001b[49m\u001b[43m \u001b[49m\u001b[38;5;241;43m*\u001b[39;49m\u001b[43margs\u001b[49m\u001b[43m)\u001b[49m\n\u001b[1;32m     71\u001b[0m     \u001b[38;5;28mself\u001b[39m\u001b[38;5;241m.\u001b[39mjac \u001b[38;5;241m=\u001b[39m fg[\u001b[38;5;241m1\u001b[39m]\n\u001b[1;32m     72\u001b[0m     \u001b[38;5;28mself\u001b[39m\u001b[38;5;241m.\u001b[39m_value \u001b[38;5;241m=\u001b[39m fg[\u001b[38;5;241m0\u001b[39m]\n",
      "File \u001b[0;32m~/Documents/master/mp/.venv/lib/python3.8/site-packages/sklearn/neural_network/_multilayer_perceptron.py:208\u001b[0m, in \u001b[0;36mBaseMultilayerPerceptron._loss_grad_lbfgs\u001b[0;34m(self, packed_coef_inter, X, y, activations, deltas, coef_grads, intercept_grads)\u001b[0m\n\u001b[1;32m    167\u001b[0m \u001b[38;5;250m\u001b[39m\u001b[38;5;124;03m\"\"\"Compute the MLP loss function and its corresponding derivatives\u001b[39;00m\n\u001b[1;32m    168\u001b[0m \u001b[38;5;124;03mwith respect to the different parameters given in the initialization.\u001b[39;00m\n\u001b[1;32m    169\u001b[0m \n\u001b[0;32m   (...)\u001b[0m\n\u001b[1;32m    205\u001b[0m \u001b[38;5;124;03mgrad : array-like, shape (number of nodes of all layers,)\u001b[39;00m\n\u001b[1;32m    206\u001b[0m \u001b[38;5;124;03m\"\"\"\u001b[39;00m\n\u001b[1;32m    207\u001b[0m \u001b[38;5;28mself\u001b[39m\u001b[38;5;241m.\u001b[39m_unpack(packed_coef_inter)\n\u001b[0;32m--> 208\u001b[0m loss, coef_grads, intercept_grads \u001b[38;5;241m=\u001b[39m \u001b[38;5;28;43mself\u001b[39;49m\u001b[38;5;241;43m.\u001b[39;49m\u001b[43m_backprop\u001b[49m\u001b[43m(\u001b[49m\n\u001b[1;32m    209\u001b[0m \u001b[43m    \u001b[49m\u001b[43mX\u001b[49m\u001b[43m,\u001b[49m\u001b[43m \u001b[49m\u001b[43my\u001b[49m\u001b[43m,\u001b[49m\u001b[43m \u001b[49m\u001b[43mactivations\u001b[49m\u001b[43m,\u001b[49m\u001b[43m \u001b[49m\u001b[43mdeltas\u001b[49m\u001b[43m,\u001b[49m\u001b[43m \u001b[49m\u001b[43mcoef_grads\u001b[49m\u001b[43m,\u001b[49m\u001b[43m \u001b[49m\u001b[43mintercept_grads\u001b[49m\u001b[43m)\u001b[49m\n\u001b[1;32m    210\u001b[0m grad \u001b[38;5;241m=\u001b[39m _pack(coef_grads, intercept_grads)\n\u001b[1;32m    211\u001b[0m \u001b[38;5;28;01mreturn\u001b[39;00m loss, grad\n",
      "File \u001b[0;32m~/Documents/master/mp/.venv/lib/python3.8/site-packages/sklearn/neural_network/_multilayer_perceptron.py:286\u001b[0m, in \u001b[0;36mBaseMultilayerPerceptron._backprop\u001b[0;34m(self, X, y, activations, deltas, coef_grads, intercept_grads)\u001b[0m\n\u001b[1;32m    283\u001b[0m     deltas[i \u001b[38;5;241m-\u001b[39m \u001b[38;5;241m1\u001b[39m] \u001b[38;5;241m=\u001b[39m safe_sparse_dot(deltas[i], \u001b[38;5;28mself\u001b[39m\u001b[38;5;241m.\u001b[39mcoefs_[i]\u001b[38;5;241m.\u001b[39mT)\n\u001b[1;32m    284\u001b[0m     inplace_derivative(activations[i], deltas[i \u001b[38;5;241m-\u001b[39m \u001b[38;5;241m1\u001b[39m])\n\u001b[0;32m--> 286\u001b[0m     \u001b[38;5;28;43mself\u001b[39;49m\u001b[38;5;241;43m.\u001b[39;49m\u001b[43m_compute_loss_grad\u001b[49m\u001b[43m(\u001b[49m\n\u001b[1;32m    287\u001b[0m \u001b[43m        \u001b[49m\u001b[43mi\u001b[49m\u001b[43m \u001b[49m\u001b[38;5;241;43m-\u001b[39;49m\u001b[43m \u001b[49m\u001b[38;5;241;43m1\u001b[39;49m\u001b[43m,\u001b[49m\u001b[43m \u001b[49m\u001b[43mn_samples\u001b[49m\u001b[43m,\u001b[49m\u001b[43m \u001b[49m\u001b[43mactivations\u001b[49m\u001b[43m,\u001b[49m\u001b[43m \u001b[49m\u001b[43mdeltas\u001b[49m\u001b[43m,\u001b[49m\u001b[43m \u001b[49m\u001b[43mcoef_grads\u001b[49m\u001b[43m,\u001b[49m\n\u001b[1;32m    288\u001b[0m \u001b[43m        \u001b[49m\u001b[43mintercept_grads\u001b[49m\u001b[43m)\u001b[49m\n\u001b[1;32m    290\u001b[0m \u001b[38;5;28;01mreturn\u001b[39;00m loss, coef_grads, intercept_grads\n",
      "File \u001b[0;32m~/Documents/master/mp/.venv/lib/python3.8/site-packages/sklearn/neural_network/_multilayer_perceptron.py:158\u001b[0m, in \u001b[0;36mBaseMultilayerPerceptron._compute_loss_grad\u001b[0;34m(self, layer, n_samples, activations, deltas, coef_grads, intercept_grads)\u001b[0m\n\u001b[1;32m    151\u001b[0m \u001b[38;5;28;01mdef\u001b[39;00m \u001b[38;5;21m_compute_loss_grad\u001b[39m(\u001b[38;5;28mself\u001b[39m, layer, n_samples, activations, deltas,\n\u001b[1;32m    152\u001b[0m                        coef_grads, intercept_grads):\n\u001b[1;32m    153\u001b[0m \u001b[38;5;250m    \u001b[39m\u001b[38;5;124;03m\"\"\"Compute the gradient of loss with respect to coefs and intercept for\u001b[39;00m\n\u001b[1;32m    154\u001b[0m \u001b[38;5;124;03m    specified layer.\u001b[39;00m\n\u001b[1;32m    155\u001b[0m \n\u001b[1;32m    156\u001b[0m \u001b[38;5;124;03m    This function does backpropagation for the specified one layer.\u001b[39;00m\n\u001b[1;32m    157\u001b[0m \u001b[38;5;124;03m    \"\"\"\u001b[39;00m\n\u001b[0;32m--> 158\u001b[0m     coef_grads[layer] \u001b[38;5;241m=\u001b[39m \u001b[43msafe_sparse_dot\u001b[49m\u001b[43m(\u001b[49m\u001b[43mactivations\u001b[49m\u001b[43m[\u001b[49m\u001b[43mlayer\u001b[49m\u001b[43m]\u001b[49m\u001b[38;5;241;43m.\u001b[39;49m\u001b[43mT\u001b[49m\u001b[43m,\u001b[49m\n\u001b[1;32m    159\u001b[0m \u001b[43m                                        \u001b[49m\u001b[43mdeltas\u001b[49m\u001b[43m[\u001b[49m\u001b[43mlayer\u001b[49m\u001b[43m]\u001b[49m\u001b[43m)\u001b[49m\n\u001b[1;32m    160\u001b[0m     coef_grads[layer] \u001b[38;5;241m+\u001b[39m\u001b[38;5;241m=\u001b[39m (\u001b[38;5;28mself\u001b[39m\u001b[38;5;241m.\u001b[39malpha \u001b[38;5;241m*\u001b[39m \u001b[38;5;28mself\u001b[39m\u001b[38;5;241m.\u001b[39mcoefs_[layer])\n\u001b[1;32m    161\u001b[0m     coef_grads[layer] \u001b[38;5;241m/\u001b[39m\u001b[38;5;241m=\u001b[39m n_samples\n",
      "File \u001b[0;32m~/Documents/master/mp/.venv/lib/python3.8/site-packages/sklearn/utils/validation.py:63\u001b[0m, in \u001b[0;36m_deprecate_positional_args.<locals>._inner_deprecate_positional_args.<locals>.inner_f\u001b[0;34m(*args, **kwargs)\u001b[0m\n\u001b[1;32m     61\u001b[0m extra_args \u001b[38;5;241m=\u001b[39m \u001b[38;5;28mlen\u001b[39m(args) \u001b[38;5;241m-\u001b[39m \u001b[38;5;28mlen\u001b[39m(all_args)\n\u001b[1;32m     62\u001b[0m \u001b[38;5;28;01mif\u001b[39;00m extra_args \u001b[38;5;241m<\u001b[39m\u001b[38;5;241m=\u001b[39m \u001b[38;5;241m0\u001b[39m:\n\u001b[0;32m---> 63\u001b[0m     \u001b[38;5;28;01mreturn\u001b[39;00m \u001b[43mf\u001b[49m\u001b[43m(\u001b[49m\u001b[38;5;241;43m*\u001b[39;49m\u001b[43margs\u001b[49m\u001b[43m,\u001b[49m\u001b[43m \u001b[49m\u001b[38;5;241;43m*\u001b[39;49m\u001b[38;5;241;43m*\u001b[39;49m\u001b[43mkwargs\u001b[49m\u001b[43m)\u001b[49m\n\u001b[1;32m     65\u001b[0m \u001b[38;5;66;03m# extra_args > 0\u001b[39;00m\n\u001b[1;32m     66\u001b[0m args_msg \u001b[38;5;241m=\u001b[39m [\u001b[38;5;124m'\u001b[39m\u001b[38;5;132;01m{}\u001b[39;00m\u001b[38;5;124m=\u001b[39m\u001b[38;5;132;01m{}\u001b[39;00m\u001b[38;5;124m'\u001b[39m\u001b[38;5;241m.\u001b[39mformat(name, arg)\n\u001b[1;32m     67\u001b[0m             \u001b[38;5;28;01mfor\u001b[39;00m name, arg \u001b[38;5;129;01min\u001b[39;00m \u001b[38;5;28mzip\u001b[39m(kwonly_args[:extra_args],\n\u001b[1;32m     68\u001b[0m                                  args[\u001b[38;5;241m-\u001b[39mextra_args:])]\n",
      "File \u001b[0;32m~/Documents/master/mp/.venv/lib/python3.8/site-packages/sklearn/utils/extmath.py:152\u001b[0m, in \u001b[0;36msafe_sparse_dot\u001b[0;34m(a, b, dense_output)\u001b[0m\n\u001b[1;32m    150\u001b[0m         ret \u001b[38;5;241m=\u001b[39m np\u001b[38;5;241m.\u001b[39mdot(a, b)\n\u001b[1;32m    151\u001b[0m \u001b[38;5;28;01melse\u001b[39;00m:\n\u001b[0;32m--> 152\u001b[0m     ret \u001b[38;5;241m=\u001b[39m \u001b[43ma\u001b[49m\u001b[43m \u001b[49m\u001b[38;5;241;43m@\u001b[39;49m\u001b[43m \u001b[49m\u001b[43mb\u001b[49m\n\u001b[1;32m    154\u001b[0m \u001b[38;5;28;01mif\u001b[39;00m (sparse\u001b[38;5;241m.\u001b[39missparse(a) \u001b[38;5;129;01mand\u001b[39;00m sparse\u001b[38;5;241m.\u001b[39missparse(b)\n\u001b[1;32m    155\u001b[0m         \u001b[38;5;129;01mand\u001b[39;00m dense_output \u001b[38;5;129;01mand\u001b[39;00m \u001b[38;5;28mhasattr\u001b[39m(ret, \u001b[38;5;124m\"\u001b[39m\u001b[38;5;124mtoarray\u001b[39m\u001b[38;5;124m\"\u001b[39m)):\n\u001b[1;32m    156\u001b[0m     \u001b[38;5;28;01mreturn\u001b[39;00m ret\u001b[38;5;241m.\u001b[39mtoarray()\n",
      "\u001b[0;31mKeyboardInterrupt\u001b[0m: "
     ]
    }
   ],
   "source": [
    "#Perform the cross validation\n",
    "accuracy, std = cross_validate(mlp_test, skf, train_set, train_labels)\n",
    "print(f\"Multi Layer Perceptron (MLP) with StratifiedKFold:\\nAccuracy: {accuracy*100:.1f}% \\nstd_dev: {std}\\n\")"
   ]
  },
  {
   "cell_type": "markdown",
   "id": "5e21f1c1",
   "metadata": {},
   "source": [
    "### Testing on the test set"
   ]
  },
  {
   "cell_type": "markdown",
   "id": "32386a85",
   "metadata": {},
   "source": [
    "#### Suport Vector Machine (SVM)"
   ]
  },
  {
   "cell_type": "code",
   "execution_count": 134,
   "id": "8bb3283e",
   "metadata": {
    "scrolled": true
   },
   "outputs": [
    {
     "name": "stdout",
     "output_type": "stream",
     "text": [
      "shape proba is (329, 384)\n",
      " examples [[0.00376352 0.00046783 0.00797592 ... 0.00160062 0.00225195 0.00304922]\n",
      " [0.00303699 0.00033909 0.01090303 ... 0.00249465 0.00233734 0.00343747]\n",
      " [0.00169179 0.00045987 0.0063473  ... 0.0043278  0.00242541 0.00285054]\n",
      " [0.00261415 0.00041635 0.00864764 ... 0.00185096 0.00236703 0.00343135]]\n",
      "sgapr classes (384,), examples ['7upFree' '7upLemon' '7upMojito' 'AADrink']\n",
      "shape test is (329, 2048)\n",
      " examples [[0.0005955  0.00680962 0.05895904 ... 0.00571111 0.00180996 0.02855435]\n",
      " [0.00060103 0.00371083 0.035034   ... 0.00371111 0.00138724 0.        ]\n",
      " [0.00717704 0.04115137 0.00825775 ... 0.00291343 0.00351391 0.00569196]\n",
      " [0.00124589 0.00510044 0.0362666  ... 0.03395296 0.00128892 0.02288807]]\n",
      "amount of classes in test set 194\n",
      "\n",
      "shape y_pred is (329,)\n",
      " examples ['InnocentOrangeWithBits' 'CapriSun' 'MonsterPunchEnergy500ml'\n",
      " 'NaluOriginal6x350ml']\n",
      "Support Vector Machine (SVM):\n",
      "Accuracy: 63.8% \n",
      "confusion_matrix: \n",
      "[[0 0 0 ... 0 0 0]\n",
      " [0 1 0 ... 0 0 0]\n",
      " [0 0 0 ... 0 0 0]\n",
      " ...\n",
      " [0 0 0 ... 0 0 0]\n",
      " [0 0 0 ... 0 2 0]\n",
      " [0 0 0 ... 0 0 1]]\n",
      "\n"
     ]
    }
   ],
   "source": [
    "accuracy, cm = eval_performance(svm_test, train_set, train_labels, test_set, test_labels)\n",
    "print(f\"Support Vector Machine (SVM):\\nAccuracy: {accuracy*100:.1f}% \\nconfusion_matrix: \\n{cm}\\n\")"
   ]
  },
  {
   "cell_type": "markdown",
   "id": "70b15537",
   "metadata": {},
   "source": [
    "#### Multi Layer Perceptron (MLP)"
   ]
  },
  {
   "cell_type": "code",
   "execution_count": 49,
   "id": "00b011d2",
   "metadata": {
    "scrolled": false
   },
   "outputs": [
    {
     "name": "stdout",
     "output_type": "stream",
     "text": [
      "Multi Layer Perceptron:\n",
      "Accuracy: 49.8% \n",
      "confusion_matrix: \n",
      "[[0 0 0 ... 0 0 0]\n",
      " [0 0 0 ... 0 0 0]\n",
      " [0 0 0 ... 0 0 0]\n",
      " ...\n",
      " [0 0 0 ... 0 0 0]\n",
      " [0 0 0 ... 0 1 0]\n",
      " [0 0 0 ... 0 1 0]]\n",
      "\n"
     ]
    }
   ],
   "source": [
    "accuracy, cm = eval_performance(mlp_test, train_set, train_labels, test_set, test_labels)\n",
    "print(f\"Multi Layer Perceptron:\\nAccuracy: {accuracy*100:.1f}% \\nconfusion_matrix: \\n{cm}\\n\")"
   ]
  },
  {
   "cell_type": "markdown",
   "id": "b3523b3d",
   "metadata": {},
   "source": [
    "## Strict Peformance Assessment \n",
    "In this section we will do the final test with a sticter test set.\n",
    "This means that every embedding in the test set is from a different origin image than every embedding from the same class in the train set.\n",
    "- Collect the split from a json file which aims to achieve a 80/20 train/test split.\n",
    "- Cross validate on the strict training set.\n",
    "- Fit on the strict training set.\n",
    "- Test on the strict testing set."
   ]
  },
  {
   "cell_type": "markdown",
   "id": "76b88d46",
   "metadata": {},
   "source": [
    "### Train test split"
   ]
  },
  {
   "cell_type": "code",
   "execution_count": 77,
   "id": "b3dd47dd",
   "metadata": {},
   "outputs": [
    {
     "name": "stdout",
     "output_type": "stream",
     "text": [
      "Amount of classes that can be used for strict testing: 187 / 406\n"
     ]
    }
   ],
   "source": [
    "json_file = Path(\"data/strict_train_test.json\")\n",
    "# Read the JSON file\n",
    "with open(json_file, \"r\") as file:\n",
    "    json_data = file.read()\n",
    "\n",
    "# Convert JSON to dictionary\n",
    "strict_train_test = json.loads(json_data)\n",
    "\n",
    "# Access the dictionary\n",
    "print(f\"Amount of classes that can be used for strict testing: {len(strict_train_test.keys())} / {len(np.unique(labels))}\")"
   ]
  },
  {
   "cell_type": "markdown",
   "id": "60809ca6",
   "metadata": {},
   "source": [
    "Lets set up the strict test and train set <br>\n",
    "We have a copy of embedding gallery norm in `data` and the corresponding labels are in the variable `labels`. <br>\n",
    "We have the indicis of embeddings in the gallery already determined in the json file, let's apply them to get our train and test set:"
   ]
  },
  {
   "cell_type": "code",
   "execution_count": 79,
   "id": "d63814ed",
   "metadata": {},
   "outputs": [],
   "source": [
    "train_set_strict = []\n",
    "train_labels_strict = [] \n",
    "test_set_strict = []\n",
    "test_labels_strict = []\n",
    "for cls in strict_train_test.keys():\n",
    "    #Collect train queries\n",
    "    train_queries = strict_train_test[cls][\"train\"]\n",
    "    for query in train_queries:\n",
    "        idx = query[\"gallery_idx\"]\n",
    "        train_query = data[idx]\n",
    "        train_label = labels[idx]\n",
    "        train_set_strict.append(train_query)\n",
    "        train_labels_strict.append(train_label)\n",
    "    \n",
    "    #Collect test queries\n",
    "    test_queries = strict_train_test[cls][\"test\"]\n",
    "    for query in test_queries:\n",
    "        idx = query[\"gallery_idx\"]\n",
    "        test_query = data[idx]\n",
    "        test_label = labels[idx]\n",
    "        test_set_strict.append(test_query)\n",
    "        test_labels_strict.append(test_label)\n",
    "        "
   ]
  },
  {
   "cell_type": "code",
   "execution_count": 80,
   "id": "f5c67d0a",
   "metadata": {},
   "outputs": [],
   "source": [
    "train_set_strict = np.array(train_set_strict)\n",
    "test_set_strict = np.array(test_set_strict)"
   ]
  },
  {
   "cell_type": "code",
   "execution_count": 81,
   "id": "c1b9543f",
   "metadata": {},
   "outputs": [
    {
     "name": "stdout",
     "output_type": "stream",
     "text": [
      "train set\n",
      "[[6.9233747e-03 2.2412590e-03 5.3472899e-02 ... 5.9745912e-03\n",
      "  1.8873550e-03 2.1909457e-02]\n",
      " [2.2041237e-03 6.8761426e-04 4.1907985e-02 ... 2.2204514e-03\n",
      "  2.4847253e-03 1.9992612e-02]\n",
      " [6.3734045e-03 6.6076760e-04 3.6449816e-02 ... 5.0076423e-03\n",
      "  3.7306603e-03 3.5878073e-03]\n",
      " [4.5877248e-03 2.6991626e-03 4.3812297e-02 ... 7.1394523e-03\n",
      "  6.0418011e-03 3.2635011e-02]\n",
      " [7.0087109e-03 8.5940241e-04 7.4370176e-02 ... 1.4216707e-04\n",
      "  1.4606867e-05 1.2442449e-02]] \n",
      "\n",
      "train_labels \n",
      "['CarrefourSmoothieAardbeiBlauweBessen', 'CarrefourSmoothieAardbeiBlauweBessen', 'TropicanaSanguinello', 'TropicanaSanguinello', 'TropicanaSanguinello']\n"
     ]
    }
   ],
   "source": [
    "#our training set looks like this\n",
    "print(f\"train set\\n{train_set_strict[:5]} \\n\\ntrain_labels \\n{train_labels_strict[:5]}\")"
   ]
  },
  {
   "cell_type": "code",
   "execution_count": 82,
   "id": "7145d740",
   "metadata": {},
   "outputs": [
    {
     "name": "stdout",
     "output_type": "stream",
     "text": [
      "test set\n",
      "[[6.3076401e-03 9.9129621e-03 4.2072132e-02 ... 7.4273129e-03\n",
      "  3.3059330e-03 1.3093212e-02]\n",
      " [2.1028033e-02 3.6752366e-03 5.0158482e-02 ... 1.2454252e-02\n",
      "  4.8663453e-03 2.7165789e-02]\n",
      " [2.3179527e-03 5.5524646e-03 4.0926971e-02 ... 1.9700017e-02\n",
      "  2.3614909e-02 1.4198274e-02]\n",
      " [1.5844429e-03 6.2769912e-05 9.0044715e-02 ... 3.0723400e-02\n",
      "  3.1709992e-03 3.5455194e-03]\n",
      " [7.7588315e-04 3.6051134e-03 3.7311916e-03 ... 7.6465523e-03\n",
      "  5.2548744e-02 9.1698179e-03]] \n",
      "\n",
      "test_labels \n",
      "['CarrefourSmoothieAardbeiBlauweBessen', 'CarrefourSmoothieAardbeiBlauweBessen', 'TropicanaSanguinello', 'TropicanaSanguinello', 'MonsterTheDoctor500ml']\n"
     ]
    }
   ],
   "source": [
    "#our test set looks like this\n",
    "print(f\"test set\\n{test_set_strict[:5]} \\n\\ntest_labels \\n{test_labels_strict[:5]}\")"
   ]
  },
  {
   "cell_type": "code",
   "execution_count": 83,
   "id": "dd481981",
   "metadata": {},
   "outputs": [
    {
     "name": "stdout",
     "output_type": "stream",
     "text": [
      "Size of the training set 852\n",
      "The training set contains 74.08695652173914% of the data\n",
      "\n",
      "Size of the test set 298\n",
      "The test set contains 25.91304347826087% of the data\n"
     ]
    }
   ],
   "source": [
    "#Proportion of training data\n",
    "prop_train = (len(train_set_strict)/ (len(train_set_strict) + len(test_set_strict)) ) * 100\n",
    "#Proportion of testing data\n",
    "prop_test = (len(test_set_strict)/ (len(train_set_strict) + len(test_set_strict)) ) * 100\n",
    "print(f\"Size of the training set {len(train_set_strict)}\\nThe training set contains {prop_train}% of the data\\n\")\n",
    "print(f\"Size of the test set {len(test_set_strict)}\\nThe test set contains {prop_test}% of the data\")"
   ]
  },
  {
   "cell_type": "markdown",
   "id": "678b83c7",
   "metadata": {},
   "source": [
    "### Cross validation on the training set"
   ]
  },
  {
   "cell_type": "markdown",
   "id": "e2ed8b5b",
   "metadata": {},
   "source": [
    "#### Support Vector Machine (SVM)"
   ]
  },
  {
   "cell_type": "code",
   "execution_count": 85,
   "id": "dc39d6ee",
   "metadata": {},
   "outputs": [],
   "source": [
    "#Create SVM estimator \n",
    "svm_test_strict = SVC(kernel=\"poly\")"
   ]
  },
  {
   "cell_type": "code",
   "execution_count": 86,
   "id": "89bcc22c",
   "metadata": {},
   "outputs": [],
   "source": [
    "#Create StratifiedKFold generator\n",
    "#5 folds with 1/5 test data and 4/5 training data to cross validate. \n",
    "#The folds have equal class distribution in this case\n",
    "skf = StratifiedKFold(n_splits=5)"
   ]
  },
  {
   "cell_type": "code",
   "execution_count": 87,
   "id": "5a263c96",
   "metadata": {},
   "outputs": [
    {
     "name": "stderr",
     "output_type": "stream",
     "text": [
      "/home/olivier/Documents/master/mp/.venv/lib/python3.8/site-packages/sklearn/model_selection/_split.py:666: UserWarning: The least populated class in y has only 1 members, which is less than n_splits=5.\n",
      "  warnings.warn((\"The least populated class in y has only %d\"\n"
     ]
    },
    {
     "name": "stdout",
     "output_type": "stream",
     "text": [
      "[0.75438596 0.73684211 0.75294118 0.75882353 0.63529412]\n",
      "Support Vector Machine (SVM) with StratifiedKFold:\n",
      "Accuracy: 72.8% \n",
      "std_dev: 0.04677680599436755\n",
      "\n"
     ]
    }
   ],
   "source": [
    "#Perform the cross validation\n",
    "accuracy, std = cross_validate(svm_test_strict, skf, train_set_strict, train_labels_strict)\n",
    "print(f\"Support Vector Machine (SVM) with StratifiedKFold:\\nAccuracy: {accuracy*100:.1f}% \\nstd_dev: {std}\\n\")"
   ]
  },
  {
   "cell_type": "markdown",
   "id": "0a0a90db",
   "metadata": {},
   "source": [
    "#### Multi Layer Perceptron (MLP)"
   ]
  },
  {
   "cell_type": "code",
   "execution_count": 92,
   "id": "b86a920b",
   "metadata": {},
   "outputs": [],
   "source": [
    "#Create MLP estimator\n",
    "mlp_test_strict = MLPClassifier(\n",
    "    hidden_layer_sizes=(256, 64),\n",
    "    solver='lbfgs',\n",
    "    max_iter=10_000\n",
    ")"
   ]
  },
  {
   "cell_type": "code",
   "execution_count": 93,
   "id": "6516684f",
   "metadata": {},
   "outputs": [],
   "source": [
    "#Create StratifiedKFold generator\n",
    "#5 folds with 1/5 test data and 4/5 training data to cross validate. \n",
    "#The folds have equal class distribution in this case\n",
    "skf = StratifiedKFold(n_splits=5)"
   ]
  },
  {
   "cell_type": "code",
   "execution_count": 94,
   "id": "4e403b47",
   "metadata": {},
   "outputs": [
    {
     "name": "stderr",
     "output_type": "stream",
     "text": [
      "/home/olivier/Documents/master/mp/.venv/lib/python3.8/site-packages/sklearn/model_selection/_split.py:666: UserWarning: The least populated class in y has only 1 members, which is less than n_splits=5.\n",
      "  warnings.warn((\"The least populated class in y has only %d\"\n"
     ]
    },
    {
     "name": "stdout",
     "output_type": "stream",
     "text": [
      "[0.5380117  0.59064327 0.61176471 0.58235294 0.42941176]\n",
      "Multi Layer Perceptron (MLP) with StratifiedKFold:\n",
      "Accuracy: 55.0% \n",
      "std_dev: 0.06511183472661425\n",
      "\n"
     ]
    }
   ],
   "source": [
    "#Perform the cross validation\n",
    "accuracy, std = cross_validate(mlp_test_strict, skf, train_set_strict, train_labels_strict)\n",
    "print(f\"Multi Layer Perceptron (MLP) with StratifiedKFold:\\nAccuracy: {accuracy*100:.1f}% \\nstd_dev: {std}\\n\")"
   ]
  },
  {
   "cell_type": "markdown",
   "id": "2f97f221",
   "metadata": {},
   "source": [
    "### Testing on the strict test set"
   ]
  },
  {
   "cell_type": "markdown",
   "id": "20a12fbc",
   "metadata": {},
   "source": [
    "#### Support Vector Machine (SVM)"
   ]
  },
  {
   "cell_type": "code",
   "execution_count": 96,
   "id": "75b57d80",
   "metadata": {},
   "outputs": [
    {
     "name": "stdout",
     "output_type": "stream",
     "text": [
      "Support Vector Machine (SVM):\n",
      "Accuracy: 50.7% \n",
      "confusion_matrix: \n",
      "[[0 0 0 ... 0 0 0]\n",
      " [0 0 0 ... 0 0 0]\n",
      " [0 0 0 ... 0 0 0]\n",
      " ...\n",
      " [0 0 0 ... 1 0 0]\n",
      " [0 0 0 ... 0 2 1]\n",
      " [0 0 0 ... 0 0 1]]\n",
      "\n"
     ]
    }
   ],
   "source": [
    "accuracy, cm = eval_performance(\n",
    "    svm_test_strict, \n",
    "    train_set_strict, \n",
    "    train_labels_strict, \n",
    "    test_set_strict, \n",
    "    test_labels_strict\n",
    ")\n",
    "print(f\"Support Vector Machine (SVM):\\nAccuracy: {accuracy*100:.1f}% \\nconfusion_matrix: \\n{cm}\\n\")"
   ]
  },
  {
   "cell_type": "markdown",
   "id": "0ed77d98",
   "metadata": {},
   "source": [
    "#### Multi Layer Perceptron (MLP)"
   ]
  },
  {
   "cell_type": "code",
   "execution_count": 97,
   "id": "bd137224",
   "metadata": {},
   "outputs": [
    {
     "name": "stdout",
     "output_type": "stream",
     "text": [
      "Multi Layer Perceptron:\n",
      "Accuracy: 30.2% \n",
      "confusion_matrix: \n",
      "[[1 0 0 ... 0 0 0]\n",
      " [0 0 0 ... 0 0 0]\n",
      " [0 0 0 ... 0 0 0]\n",
      " ...\n",
      " [0 0 0 ... 0 0 0]\n",
      " [0 0 0 ... 0 2 1]\n",
      " [0 0 0 ... 0 0 1]]\n",
      "\n"
     ]
    }
   ],
   "source": [
    "accuracy, cm = eval_performance(\n",
    "    mlp_test_strict, \n",
    "    train_set_strict, \n",
    "    train_labels_strict, \n",
    "    test_set_strict, \n",
    "    test_labels_strict\n",
    ")\n",
    "print(f\"Multi Layer Perceptron:\\nAccuracy: {accuracy*100:.1f}% \\nconfusion_matrix: \\n{cm}\\n\")"
   ]
  }
 ],
 "metadata": {
  "kernelspec": {
   "display_name": ".venv",
   "language": "python",
   "name": ".venv"
  },
  "language_info": {
   "codemirror_mode": {
    "name": "ipython",
    "version": 3
   },
   "file_extension": ".py",
   "mimetype": "text/x-python",
   "name": "python",
   "nbconvert_exporter": "python",
   "pygments_lexer": "ipython3",
   "version": "3.8.16"
  }
 },
 "nbformat": 4,
 "nbformat_minor": 5
}
