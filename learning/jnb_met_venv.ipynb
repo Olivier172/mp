{
 "cells": [
  {
   "cell_type": "markdown",
   "id": "4adb8378",
   "metadata": {},
   "source": [
    "# Gebruik van een jupyter notebook in een venv:\n",
    "nieuwe kernel maken:\n",
    "1. source .venv/bin/activate\n",
    "2. pip install jupyter\n",
    "3. python -m ipykernel install --user  --name=.venv\n",
    "4. jupyter notebook \n",
    "5. kernel->change kernel->.venv\n",
    "6. normaal run je nu in .venv en kan je alle libs gebruiken :)   \n",
    "https://www.geeksforgeeks.org/using-jupyter-notebook-in-virtual-environment/"
   ]
  },
  {
   "cell_type": "code",
   "execution_count": 5,
   "id": "b211ea43",
   "metadata": {},
   "outputs": [
    {
     "name": "stdout",
     "output_type": "stream",
     "text": [
      "Wed Mar 15 16:05:29 2023       \n",
      "+-----------------------------------------------------------------------------+\n",
      "| NVIDIA-SMI 470.161.03   Driver Version: 470.161.03   CUDA Version: 11.4     |\n",
      "|-------------------------------+----------------------+----------------------+\n",
      "| GPU  Name        Persistence-M| Bus-Id        Disp.A | Volatile Uncorr. ECC |\n",
      "| Fan  Temp  Perf  Pwr:Usage/Cap|         Memory-Usage | GPU-Util  Compute M. |\n",
      "|                               |                      |               MIG M. |\n",
      "|===============================+======================+======================|\n",
      "|   0  NVIDIA GeForce ...  Off  | 00000000:01:00.0 N/A |                  N/A |\n",
      "| N/A   45C    P8    N/A /  N/A |      9MiB /  2004MiB |     N/A      Default |\n",
      "|                               |                      |                  N/A |\n",
      "+-------------------------------+----------------------+----------------------+\n",
      "                                                                               \n",
      "+-----------------------------------------------------------------------------+\n",
      "| Processes:                                                                  |\n",
      "|  GPU   GI   CI        PID   Type   Process name                  GPU Memory |\n",
      "|        ID   ID                                                   Usage      |\n",
      "|=============================================================================|\n",
      "|  No running processes found                                                 |\n",
      "+-----------------------------------------------------------------------------+\n"
     ]
    }
   ],
   "source": [
    "#test if the packages are installed\n",
    "#!pip show torch\n",
    "#!pip show apex\n",
    "#!pip show tensorboard\n",
    "#!pip show vissl\n",
    "!nvidia-smi #checking for nvidia drivers"
   ]
  },
  {
   "cell_type": "code",
   "execution_count": 3,
   "id": "fbd37f6f",
   "metadata": {},
   "outputs": [],
   "source": [
    "#test the imports\n",
    "import torch\n",
    "import apex\n",
    "import tensorboard\n",
    "import vissl"
   ]
  },
  {
   "cell_type": "code",
   "execution_count": 4,
   "id": "b141b038",
   "metadata": {},
   "outputs": [
    {
     "name": "stdout",
     "output_type": "stream",
     "text": [
      "Using cuda device :)\n"
     ]
    }
   ],
   "source": [
    "if torch.cuda.is_available():\n",
    "    print(\"Using cuda device :)\")\n",
    "else:\n",
    "    print(\"No cuda device available, using cpu ...\")"
   ]
  },
  {
   "cell_type": "code",
   "execution_count": 6,
   "id": "8d79077a",
   "metadata": {},
   "outputs": [
    {
     "name": "stdout",
     "output_type": "stream",
     "text": [
      "jnb_met_venv.ipynb  learning_pytorch  refreshing_python\r\n"
     ]
    }
   ],
   "source": [
    "!ls"
   ]
  }
 ],
 "metadata": {
  "kernelspec": {
   "display_name": ".venv",
   "language": "python",
   "name": ".venv"
  },
  "language_info": {
   "codemirror_mode": {
    "name": "ipython",
    "version": 3
   },
   "file_extension": ".py",
   "mimetype": "text/x-python",
   "name": "python",
   "nbconvert_exporter": "python",
   "pygments_lexer": "ipython3",
   "version": "3.8.10"
  }
 },
 "nbformat": 4,
 "nbformat_minor": 5
}
